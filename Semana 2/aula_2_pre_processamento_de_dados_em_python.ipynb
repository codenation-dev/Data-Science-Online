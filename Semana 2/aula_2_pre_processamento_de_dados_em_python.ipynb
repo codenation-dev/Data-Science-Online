{
  "nbformat": 4,
  "nbformat_minor": 0,
  "metadata": {
    "colab": {
      "name": "Aula 2 - Pré-processamento de dados em Python.ipynb",
      "version": "0.3.2",
      "provenance": [],
      "collapsed_sections": []
    },
    "kernelspec": {
      "name": "python3",
      "display_name": "Python 3"
    }
  },
  "cells": [
    {
      "cell_type": "markdown",
      "metadata": {
        "id": "RdPgJu7UkDoP",
        "colab_type": "text"
      },
      "source": [
        "![Codenation](https://forum.codenation.com.br/uploads/default/original/2X/2/2d2d2a9469f0171e7df2c4ee97f70c555e431e76.png)\n",
        "\n",
        "__Autor__: Kazuki Yokoyama (kazuki.yokoyama@ufrgs.br)\n"
      ]
    },
    {
      "cell_type": "markdown",
      "metadata": {
        "id": "DcwwDjZrYbJQ",
        "colab_type": "text"
      },
      "source": [
        "# Pré-processamento de dados em Python\n",
        "\n",
        "![pandas-logo](https://pandas.pydata.org/_static/pandas_logo.png)\n",
        "\n",
        "* Manipulação de dados é uma das tarefas mais fundamentais para se fazer _data science_:\n",
        "  * Não podemos extrair informações de dados através de nossos algoritmos se não pudermos manipular esses dados em primeiro lugar.\n",
        "  * Precisamos de uma ferramenta robusta para usarmos durante a análise exploratória dos dados (EDA).\n",
        "  * É extremamente interessante que essa ferramenta seja útil também nas fases posteriores como modelagem.\n",
        "  * Também é importante que as demais ferramentas do ecossistema (modelagem, visualização etc) se integrem bem à ferramenta de manipulação de dados.\n",
        "  \n",
        "* Pandas é a resposta da comunidade para as premissas acima, tornando-se a biblioteca _de facto_ para manipular e explorar dados em Python.\n",
        "\n",
        "* Ele é construído em cima do NumPy e adiciona duas novas estruturas de dados muito úteis: `Series` e `DataFrame`.\n",
        "* A biblioteca também permite carregar dados a partir de fontes como arquivos CSV, JSON e até bancos de dados.\n",
        "* Visualização de dados também é uma tarefa contemplada.\n",
        "\n",
        "É sobre o pandas que vamos falar nesse módulo."
      ]
    },
    {
      "cell_type": "markdown",
      "metadata": {
        "id": "CZT6IzjQafjy",
        "colab_type": "text"
      },
      "source": [
        "## Verificando a instalação do pandas\n",
        "\n",
        "O nosso primeiro passo é verificar a instalação do pandas:"
      ]
    },
    {
      "cell_type": "code",
      "metadata": {
        "id": "j2Pec-N2XIQj",
        "colab_type": "code",
        "outputId": "74804efe-3fb1-40bc-ef17-e29a718ab8d5",
        "colab": {
          "base_uri": "https://localhost:8080/",
          "height": 34
        }
      },
      "source": [
        "import pandas as pd # É convenção utilizar pd como alias para o pandas.\n",
        "\n",
        "print(f\"{pd.__version__} <- {'última versão!' if pd.__version__ == '0.24.2' else 'precisa atualizar :('}\")"
      ],
      "execution_count": 0,
      "outputs": [
        {
          "output_type": "stream",
          "text": [
            "0.24.2 <- última versão!\n"
          ],
          "name": "stdout"
        }
      ]
    },
    {
      "cell_type": "markdown",
      "metadata": {
        "id": "9HU66jjEH5Ay",
        "colab_type": "text"
      },
      "source": [
        "Vamos importar o NumPy também:"
      ]
    },
    {
      "cell_type": "code",
      "metadata": {
        "id": "ANq4kls7H7Qo",
        "colab_type": "code",
        "outputId": "bdb9744b-1f41-4a9d-e03e-7360fdd01ac9",
        "colab": {
          "base_uri": "https://localhost:8080/",
          "height": 34
        }
      },
      "source": [
        "import numpy as np # É convenção utiliar np como alias para o NumPy.\n",
        "\n",
        "print(f\"{np.__version__} <- {'também última versão! Obrigado, Collab!' if np.__version__ == '1.16.4' else 'precisa atualizar :('}\")"
      ],
      "execution_count": 0,
      "outputs": [
        {
          "output_type": "stream",
          "text": [
            "1.16.4 <- também última versão! Obrigado, Collab!\n"
          ],
          "name": "stdout"
        }
      ]
    },
    {
      "cell_type": "markdown",
      "metadata": {
        "id": "wLJ5UQcyi2gS",
        "colab_type": "text"
      },
      "source": [
        "E o scikit-learn (para carregar o data set _Iris_):"
      ]
    },
    {
      "cell_type": "code",
      "metadata": {
        "id": "03X2yEbQi5hj",
        "colab_type": "code",
        "colab": {}
      },
      "source": [
        "from sklearn.datasets import load_iris"
      ],
      "execution_count": 0,
      "outputs": []
    },
    {
      "cell_type": "markdown",
      "metadata": {
        "id": "oj0yPpWAbXAy",
        "colab_type": "text"
      },
      "source": [
        "## Pandas `Series`\n",
        "\n",
        "A primeira estrutura de dados que vamos explorar do pandas é a `Series`. `Series` são basicamente arrays unidimensionais com índices para seus elementos."
      ]
    },
    {
      "cell_type": "code",
      "metadata": {
        "id": "QGJLRr00bqBA",
        "colab_type": "code",
        "outputId": "4408bff1-95c5-4f67-9935-f6d6743fd3d3",
        "colab": {
          "base_uri": "https://localhost:8080/",
          "height": 104
        }
      },
      "source": [
        "# Criando uma Series a partir de uma lista.\n",
        "series = pd.Series([1.0, 2, 3.5, 4.0])\n",
        "\n",
        "series"
      ],
      "execution_count": 0,
      "outputs": [
        {
          "output_type": "execute_result",
          "data": {
            "text/plain": [
              "0    1.0\n",
              "1    2.0\n",
              "2    3.5\n",
              "3    4.0\n",
              "dtype: float64"
            ]
          },
          "metadata": {
            "tags": []
          },
          "execution_count": 12
        }
      ]
    },
    {
      "cell_type": "markdown",
      "metadata": {
        "id": "A2rWJIJzb04W",
        "colab_type": "text"
      },
      "source": [
        "Repare como na `Series` criada a partir de uma lista acima, cada um dos elementos (1.0, 2.0, 3.5, 4.0) recebeu um índice (0, 1, 2, 3).\n",
        "\n",
        "Ao contrário de uma lista em Python, uma `Series` deve ser homogênea quanto ao tipo de dado armazenado. Isso é consequência dessa estrutura de dados ser baseada nos arrays do NumPy, que também devem ser homogêneos.\n",
        "\n",
        " No caso acima, o tipo de dados armazenado foi `float64`."
      ]
    },
    {
      "cell_type": "markdown",
      "metadata": {
        "id": "KSlBjmfUomt2",
        "colab_type": "text"
      },
      "source": [
        "Cada `Series` é composta por uma sequência de valores e de índices:"
      ]
    },
    {
      "cell_type": "code",
      "metadata": {
        "id": "dDCp_bsZoPwN",
        "colab_type": "code",
        "outputId": "3b8aab39-5659-492e-b29d-efb0cb2c57e7",
        "colab": {
          "base_uri": "https://localhost:8080/",
          "height": 34
        }
      },
      "source": [
        "series.values"
      ],
      "execution_count": 0,
      "outputs": [
        {
          "output_type": "execute_result",
          "data": {
            "text/plain": [
              "array([1. , 2. , 3.5, 4. ])"
            ]
          },
          "metadata": {
            "tags": []
          },
          "execution_count": 9
        }
      ]
    },
    {
      "cell_type": "code",
      "metadata": {
        "id": "O1r2W0-2oc9Y",
        "colab_type": "code",
        "outputId": "7df9cc95-0128-4e63-e4a6-e51972cd75cd",
        "colab": {
          "base_uri": "https://localhost:8080/",
          "height": 34
        }
      },
      "source": [
        "series.index"
      ],
      "execution_count": 0,
      "outputs": [
        {
          "output_type": "execute_result",
          "data": {
            "text/plain": [
              "RangeIndex(start=0, stop=4, step=1)"
            ]
          },
          "metadata": {
            "tags": []
          },
          "execution_count": 13
        }
      ]
    },
    {
      "cell_type": "markdown",
      "metadata": {
        "id": "ajkbtjPGoxvg",
        "colab_type": "text"
      },
      "source": [
        "Também podemos criar `Series` e ao mesmo tempo definir seus índices:"
      ]
    },
    {
      "cell_type": "code",
      "metadata": {
        "id": "mAuPWbizo5NM",
        "colab_type": "code",
        "outputId": "3fdd2bbd-76b4-4532-b277-580c880f9b3d",
        "colab": {
          "base_uri": "https://localhost:8080/",
          "height": 104
        }
      },
      "source": [
        "# Criando uma Series a partir de uma lista de elementos e uma lista de índices.\n",
        "series = pd.Series([1.0, 2, 3.5, 4.0],\n",
        "                     index=[\"Primeiro\", \"Segundo\", \"Terceiro\", \"Quarto\"])\n",
        "\n",
        "series"
      ],
      "execution_count": 0,
      "outputs": [
        {
          "output_type": "execute_result",
          "data": {
            "text/plain": [
              "Primeiro    1.0\n",
              "Segundo     2.0\n",
              "Terceiro    3.5\n",
              "Quarto      4.0\n",
              "dtype: float64"
            ]
          },
          "metadata": {
            "tags": []
          },
          "execution_count": 14
        }
      ]
    },
    {
      "cell_type": "code",
      "metadata": {
        "id": "L8IajyeVpQvv",
        "colab_type": "code",
        "outputId": "e02676d9-12ca-4a46-a8b9-0010145ba11e",
        "colab": {
          "base_uri": "https://localhost:8080/",
          "height": 34
        }
      },
      "source": [
        "series[\"Terceiro\"]"
      ],
      "execution_count": 0,
      "outputs": [
        {
          "output_type": "execute_result",
          "data": {
            "text/plain": [
              "3.5"
            ]
          },
          "metadata": {
            "tags": []
          },
          "execution_count": 15
        }
      ]
    },
    {
      "cell_type": "markdown",
      "metadata": {
        "id": "587cxPDFp48Z",
        "colab_type": "text"
      },
      "source": [
        "Também podemos criar `Series` a partir de dicionários onde as chaves são os índices e os valores os elementos. `Series` podem ser vistas como dicionários homogêneo, de performance melhorada em relação aos dicionários _builtin_ do Python."
      ]
    },
    {
      "cell_type": "code",
      "metadata": {
        "id": "AN4q3Y9UqJDD",
        "colab_type": "code",
        "outputId": "cb6c996e-f5a0-4ca3-e41a-a0dd3bf79290",
        "colab": {
          "base_uri": "https://localhost:8080/",
          "height": 104
        }
      },
      "source": [
        "# Criando uma Series a partir de um dicionário.\n",
        "series = pd.Series({\"Primeiro\": 1.0, \"Segundo\": 2, \"Terceiro\": 3.5, \"Quarto\": 4.0})\n",
        "\n",
        "series"
      ],
      "execution_count": 0,
      "outputs": [
        {
          "output_type": "execute_result",
          "data": {
            "text/plain": [
              "Primeiro    1.0\n",
              "Segundo     2.0\n",
              "Terceiro    3.5\n",
              "Quarto      4.0\n",
              "dtype: float64"
            ]
          },
          "metadata": {
            "tags": []
          },
          "execution_count": 16
        }
      ]
    },
    {
      "cell_type": "markdown",
      "metadata": {
        "id": "Po8oHtXoraMT",
        "colab_type": "text"
      },
      "source": [
        "Quando fazendo _slicing_ de `Series` lembre-se de que, ao contrário do comum em Python, a operação considera as extremidades __inclusive__."
      ]
    },
    {
      "cell_type": "code",
      "metadata": {
        "id": "SRtCP_xzqot-",
        "colab_type": "code",
        "outputId": "20949dd4-236c-4d72-ab32-cdf191f4fc76",
        "colab": {
          "base_uri": "https://localhost:8080/",
          "height": 86
        }
      },
      "source": [
        "series[\"Primeiro\":\"Terceiro\"]"
      ],
      "execution_count": 0,
      "outputs": [
        {
          "output_type": "execute_result",
          "data": {
            "text/plain": [
              "Primeiro    1.0\n",
              "Segundo     2.0\n",
              "Terceiro    3.5\n",
              "dtype: float64"
            ]
          },
          "metadata": {
            "tags": []
          },
          "execution_count": 17
        }
      ]
    },
    {
      "cell_type": "markdown",
      "metadata": {
        "id": "hZMDjfnYr9my",
        "colab_type": "text"
      },
      "source": [
        "Outras formas de criar as `Series`:"
      ]
    },
    {
      "cell_type": "markdown",
      "metadata": {
        "id": "6l-U4Nc1tCKI",
        "colab_type": "text"
      },
      "source": [
        "* A partir de um único escalar que é repetido"
      ]
    },
    {
      "cell_type": "code",
      "metadata": {
        "id": "sLLhBGOksBVa",
        "colab_type": "code",
        "outputId": "557ffe35-d089-4b3b-dda7-6f3a2e94894d",
        "colab": {
          "base_uri": "https://localhost:8080/",
          "height": 86
        }
      },
      "source": [
        "print(pd.Series(2.5, index=['A', 'B', 'C']))"
      ],
      "execution_count": 0,
      "outputs": [
        {
          "output_type": "stream",
          "text": [
            "A    2.5\n",
            "B    2.5\n",
            "C    2.5\n",
            "dtype: float64\n"
          ],
          "name": "stdout"
        }
      ]
    },
    {
      "cell_type": "markdown",
      "metadata": {
        "id": "K6FbgijttKpd",
        "colab_type": "text"
      },
      "source": [
        " * A partir de um dicionário filtrado pela lista de índices:"
      ]
    },
    {
      "cell_type": "code",
      "metadata": {
        "id": "R0IO6pZPtAcu",
        "colab_type": "code",
        "outputId": "cf140d7d-c8f3-485d-d37c-902eb4ec58f5",
        "colab": {
          "base_uri": "https://localhost:8080/",
          "height": 69
        }
      },
      "source": [
        "print(pd.Series({\"Primeiro\": 1.0, \"Segundo\": 2, \"Terceiro\": 3.5, \"Quarto\": 4.0},\n",
        "                index=[\"Segundo\", \"Terceiro\"]))"
      ],
      "execution_count": 0,
      "outputs": [
        {
          "output_type": "stream",
          "text": [
            "Segundo     2.0\n",
            "Terceiro    3.5\n",
            "dtype: float64\n"
          ],
          "name": "stdout"
        }
      ]
    },
    {
      "cell_type": "markdown",
      "metadata": {
        "id": "Pn592bvetkCL",
        "colab_type": "text"
      },
      "source": [
        "## Pandas `DataFrame`\n",
        "\n",
        "Nossa segunda estrutura de dados fundamental é o `DataFrame`. O `DataFrame` é análogo a um array bidimensional com linhas e colunas nomeadas.\n",
        "\n",
        "Podemos pensar o `DataFrame` como um sequência de `Series` (cada coluna do `DataFrame` é uma `Series`).\n",
        "\n",
        "A primeira forma de construir `DataFrame` que vamos ver é justamente essa: através de `Series`."
      ]
    },
    {
      "cell_type": "code",
      "metadata": {
        "id": "KdD7oO7luw7T",
        "colab_type": "code",
        "outputId": "1e5ab1d7-8b8e-4c15-953b-f1387fd814cc",
        "colab": {
          "base_uri": "https://localhost:8080/",
          "height": 174
        }
      },
      "source": [
        "series1 = pd.Series({\"Primeiro\": 1.0, \"Segundo\": 2, \"Terceiro\": 3.5, \"Quarto\": 4.0}) # Essa é a primeira coluna.\n",
        "series2 = pd.Series({\"Primeiro\": 1001.2, \"Segundo\": 998.0, \"Terceiro\": 777.8, \"Quarto\": 1002.3}) # Segunda coluna.\n",
        "                    \n",
        "dataframe = pd.DataFrame({\"Coluna1\": series1, \"Coluna2\": series2}) # Criando o DataFrame a partir das duas Series.\n",
        "\n",
        "dataframe"
      ],
      "execution_count": 0,
      "outputs": [
        {
          "output_type": "execute_result",
          "data": {
            "text/html": [
              "<div>\n",
              "<style scoped>\n",
              "    .dataframe tbody tr th:only-of-type {\n",
              "        vertical-align: middle;\n",
              "    }\n",
              "\n",
              "    .dataframe tbody tr th {\n",
              "        vertical-align: top;\n",
              "    }\n",
              "\n",
              "    .dataframe thead th {\n",
              "        text-align: right;\n",
              "    }\n",
              "</style>\n",
              "<table border=\"1\" class=\"dataframe\">\n",
              "  <thead>\n",
              "    <tr style=\"text-align: right;\">\n",
              "      <th></th>\n",
              "      <th>Coluna1</th>\n",
              "      <th>Coluna2</th>\n",
              "    </tr>\n",
              "  </thead>\n",
              "  <tbody>\n",
              "    <tr>\n",
              "      <th>Primeiro</th>\n",
              "      <td>1.0</td>\n",
              "      <td>1001.2</td>\n",
              "    </tr>\n",
              "    <tr>\n",
              "      <th>Segundo</th>\n",
              "      <td>2.0</td>\n",
              "      <td>998.0</td>\n",
              "    </tr>\n",
              "    <tr>\n",
              "      <th>Terceiro</th>\n",
              "      <td>3.5</td>\n",
              "      <td>777.8</td>\n",
              "    </tr>\n",
              "    <tr>\n",
              "      <th>Quarto</th>\n",
              "      <td>4.0</td>\n",
              "      <td>1002.3</td>\n",
              "    </tr>\n",
              "  </tbody>\n",
              "</table>\n",
              "</div>"
            ],
            "text/plain": [
              "          Coluna1  Coluna2\n",
              "Primeiro      1.0   1001.2\n",
              "Segundo       2.0    998.0\n",
              "Terceiro      3.5    777.8\n",
              "Quarto        4.0   1002.3"
            ]
          },
          "metadata": {
            "tags": []
          },
          "execution_count": 21
        }
      ]
    },
    {
      "cell_type": "markdown",
      "metadata": {
        "id": "_dQO8Vww3Vd_",
        "colab_type": "text"
      },
      "source": [
        "Podemos verificar o atributo `shape`, que retorna uma tupla contendo a quantidade de elementos em cada dimensão:"
      ]
    },
    {
      "cell_type": "code",
      "metadata": {
        "id": "zcEd44vi37HU",
        "colab_type": "code",
        "outputId": "7529c42b-3e84-4e93-96c7-d45f97229c28",
        "colab": {
          "base_uri": "https://localhost:8080/",
          "height": 34
        }
      },
      "source": [
        "dataframe.shape"
      ],
      "execution_count": 0,
      "outputs": [
        {
          "output_type": "execute_result",
          "data": {
            "text/plain": [
              "(4, 2)"
            ]
          },
          "metadata": {
            "tags": []
          },
          "execution_count": 22
        }
      ]
    },
    {
      "cell_type": "markdown",
      "metadata": {
        "id": "9T4p-b404D4L",
        "colab_type": "text"
      },
      "source": [
        "Neste caso, temos que `dataframe` tem 4 linhas e 2 colunas, exatamente como o criamos."
      ]
    },
    {
      "cell_type": "markdown",
      "metadata": {
        "id": "rZOwgpTLvqk0",
        "colab_type": "text"
      },
      "source": [
        "Da mesma forma como podíamos acessar os índices de uma `Series`, também podemos acessar os índices relativos ao nosso `DataFrame`:"
      ]
    },
    {
      "cell_type": "markdown",
      "metadata": {
        "id": "SLtMJorpv6q9",
        "colab_type": "text"
      },
      "source": [
        "* Índices das linhas:"
      ]
    },
    {
      "cell_type": "code",
      "metadata": {
        "id": "wFF0RqdRvkfL",
        "colab_type": "code",
        "outputId": "94179661-8f2f-4b6c-b8a9-e9f501e8f57f",
        "colab": {
          "base_uri": "https://localhost:8080/",
          "height": 34
        }
      },
      "source": [
        "dataframe.index"
      ],
      "execution_count": 0,
      "outputs": [
        {
          "output_type": "execute_result",
          "data": {
            "text/plain": [
              "Index(['Primeiro', 'Segundo', 'Terceiro', 'Quarto'], dtype='object')"
            ]
          },
          "metadata": {
            "tags": []
          },
          "execution_count": 23
        }
      ]
    },
    {
      "cell_type": "markdown",
      "metadata": {
        "id": "6q6r_4qiv_h3",
        "colab_type": "text"
      },
      "source": [
        "* Índices das colunas, ou seja, os seus próprios nomes:"
      ]
    },
    {
      "cell_type": "code",
      "metadata": {
        "id": "IEdfEXqKvmcc",
        "colab_type": "code",
        "outputId": "fce44f11-4414-4e26-8724-21d605de0b5f",
        "colab": {
          "base_uri": "https://localhost:8080/",
          "height": 34
        }
      },
      "source": [
        "dataframe.columns"
      ],
      "execution_count": 0,
      "outputs": [
        {
          "output_type": "execute_result",
          "data": {
            "text/plain": [
              "Index(['Coluna1', 'Coluna2'], dtype='object')"
            ]
          },
          "metadata": {
            "tags": []
          },
          "execution_count": 24
        }
      ]
    },
    {
      "cell_type": "markdown",
      "metadata": {
        "id": "hqWW3b5XwPzp",
        "colab_type": "text"
      },
      "source": [
        "Acessar um único nome do `DataFrame` significa acessar a `Series` (coluna) correspondente:"
      ]
    },
    {
      "cell_type": "code",
      "metadata": {
        "id": "NO6muQT6wd7Z",
        "colab_type": "code",
        "outputId": "1ed4b7ed-25e9-477b-8c4b-4ea35e8ef651",
        "colab": {
          "base_uri": "https://localhost:8080/",
          "height": 104
        }
      },
      "source": [
        "dataframe[\"Coluna1\"]"
      ],
      "execution_count": 0,
      "outputs": [
        {
          "output_type": "execute_result",
          "data": {
            "text/plain": [
              "Primeiro    1.0\n",
              "Segundo     2.0\n",
              "Terceiro    3.5\n",
              "Quarto      4.0\n",
              "Name: Coluna1, dtype: float64"
            ]
          },
          "metadata": {
            "tags": []
          },
          "execution_count": 27
        }
      ]
    },
    {
      "cell_type": "markdown",
      "metadata": {
        "id": "75K75FSc5khz",
        "colab_type": "text"
      },
      "source": [
        "É possível criar um `DataFrame` a partir de uma lista de dicionários. Cada dicionário da lista representa uma linha do `DataFrame`, onde cada chave do dicionário é o nome de uma coluna desse `DataFrame`."
      ]
    },
    {
      "cell_type": "code",
      "metadata": {
        "id": "pA6UF9P53-Bl",
        "colab_type": "code",
        "outputId": "b2f9f719-7f35-4e6d-b6cb-3eeecb8ae582",
        "colab": {
          "base_uri": "https://localhost:8080/",
          "height": 174
        }
      },
      "source": [
        "dataframe = pd.DataFrame([\n",
        "    {\"Coluna1\": 1.0, \"Coluna2\": 1001.2},\n",
        "    {\"Coluna1\": 2.0, \"Coluna2\": 998.0},\n",
        "    {\"Coluna1\": 3.5, \"Coluna2\": 777.8},\n",
        "    {\"Coluna1\": 4.0, \"Coluna2\": 1002.3}\n",
        "], index=[\"Primeiro\", \"Segundo\", \"Terceiro\", \"Quarto\"])\n",
        "\n",
        "dataframe"
      ],
      "execution_count": 0,
      "outputs": [
        {
          "output_type": "execute_result",
          "data": {
            "text/html": [
              "<div>\n",
              "<style scoped>\n",
              "    .dataframe tbody tr th:only-of-type {\n",
              "        vertical-align: middle;\n",
              "    }\n",
              "\n",
              "    .dataframe tbody tr th {\n",
              "        vertical-align: top;\n",
              "    }\n",
              "\n",
              "    .dataframe thead th {\n",
              "        text-align: right;\n",
              "    }\n",
              "</style>\n",
              "<table border=\"1\" class=\"dataframe\">\n",
              "  <thead>\n",
              "    <tr style=\"text-align: right;\">\n",
              "      <th></th>\n",
              "      <th>Coluna1</th>\n",
              "      <th>Coluna2</th>\n",
              "    </tr>\n",
              "  </thead>\n",
              "  <tbody>\n",
              "    <tr>\n",
              "      <th>Primeiro</th>\n",
              "      <td>1.0</td>\n",
              "      <td>1001.2</td>\n",
              "    </tr>\n",
              "    <tr>\n",
              "      <th>Segundo</th>\n",
              "      <td>2.0</td>\n",
              "      <td>998.0</td>\n",
              "    </tr>\n",
              "    <tr>\n",
              "      <th>Terceiro</th>\n",
              "      <td>3.5</td>\n",
              "      <td>777.8</td>\n",
              "    </tr>\n",
              "    <tr>\n",
              "      <th>Quarto</th>\n",
              "      <td>4.0</td>\n",
              "      <td>1002.3</td>\n",
              "    </tr>\n",
              "  </tbody>\n",
              "</table>\n",
              "</div>"
            ],
            "text/plain": [
              "          Coluna1  Coluna2\n",
              "Primeiro      1.0   1001.2\n",
              "Segundo       2.0    998.0\n",
              "Terceiro      3.5    777.8\n",
              "Quarto        4.0   1002.3"
            ]
          },
          "metadata": {
            "tags": []
          },
          "execution_count": 28
        }
      ]
    },
    {
      "cell_type": "markdown",
      "metadata": {
        "id": "CZ1Dj6xi5xHN",
        "colab_type": "text"
      },
      "source": [
        "Se algum valor do dicionário estiver faltando, o pandas completa com `NaN`."
      ]
    },
    {
      "cell_type": "code",
      "metadata": {
        "id": "We3FmcHr5IwH",
        "colab_type": "code",
        "outputId": "5b3d8ec1-d334-40c8-aed8-ca973589f976",
        "colab": {
          "base_uri": "https://localhost:8080/",
          "height": 174
        }
      },
      "source": [
        "dataframe = pd.DataFrame([\n",
        "    {\"Coluna1\": 1.0, \"Coluna2\": 1001.2},\n",
        "    {\"Coluna1\": 2.0},                            # Faltando o valor da Coluna2.\n",
        "    {\"Coluna2\": 777.8},                          # Faltando o valor da COluna1.\n",
        "    {\"Coluna1\": 4.0, \"Coluna2\": 1002.3}\n",
        "], index=[\"Primeiro\", \"Segundo\", \"Terceiro\", \"Quarto\"])\n",
        "\n",
        "dataframe"
      ],
      "execution_count": 0,
      "outputs": [
        {
          "output_type": "execute_result",
          "data": {
            "text/html": [
              "<div>\n",
              "<style scoped>\n",
              "    .dataframe tbody tr th:only-of-type {\n",
              "        vertical-align: middle;\n",
              "    }\n",
              "\n",
              "    .dataframe tbody tr th {\n",
              "        vertical-align: top;\n",
              "    }\n",
              "\n",
              "    .dataframe thead th {\n",
              "        text-align: right;\n",
              "    }\n",
              "</style>\n",
              "<table border=\"1\" class=\"dataframe\">\n",
              "  <thead>\n",
              "    <tr style=\"text-align: right;\">\n",
              "      <th></th>\n",
              "      <th>Coluna1</th>\n",
              "      <th>Coluna2</th>\n",
              "    </tr>\n",
              "  </thead>\n",
              "  <tbody>\n",
              "    <tr>\n",
              "      <th>Primeiro</th>\n",
              "      <td>1.0</td>\n",
              "      <td>1001.2</td>\n",
              "    </tr>\n",
              "    <tr>\n",
              "      <th>Segundo</th>\n",
              "      <td>2.0</td>\n",
              "      <td>NaN</td>\n",
              "    </tr>\n",
              "    <tr>\n",
              "      <th>Terceiro</th>\n",
              "      <td>NaN</td>\n",
              "      <td>777.8</td>\n",
              "    </tr>\n",
              "    <tr>\n",
              "      <th>Quarto</th>\n",
              "      <td>4.0</td>\n",
              "      <td>1002.3</td>\n",
              "    </tr>\n",
              "  </tbody>\n",
              "</table>\n",
              "</div>"
            ],
            "text/plain": [
              "          Coluna1  Coluna2\n",
              "Primeiro      1.0   1001.2\n",
              "Segundo       2.0      NaN\n",
              "Terceiro      NaN    777.8\n",
              "Quarto        4.0   1002.3"
            ]
          },
          "metadata": {
            "tags": []
          },
          "execution_count": 29
        }
      ]
    },
    {
      "cell_type": "markdown",
      "metadata": {
        "id": "ZpC5oVFQ57FR",
        "colab_type": "text"
      },
      "source": [
        "Podemos criar um `DataFrame` a partir da sua interpretação de array multidimensional:"
      ]
    },
    {
      "cell_type": "code",
      "metadata": {
        "id": "hSM9UwTNWi_u",
        "colab_type": "code",
        "colab": {}
      },
      "source": [
        "multidimensional_array = [\n",
        "  [1.0, 1001.2],\n",
        "  [2.0, 998.0],\n",
        "  [3.5, 777.8],\n",
        "  [4.0, 1002.3]\n",
        "]\n",
        "\n",
        "np_array = np.array(multidimensional_array)"
      ],
      "execution_count": 0,
      "outputs": []
    },
    {
      "cell_type": "code",
      "metadata": {
        "id": "8OqbmEmy6Fts",
        "colab_type": "code",
        "outputId": "e87563a8-8392-49a1-c4f7-d32501a40e3e",
        "colab": {
          "base_uri": "https://localhost:8080/",
          "height": 174
        }
      },
      "source": [
        "dataframe = pd.DataFrame(\n",
        "    multidimensional_array, # Ou np_array.\n",
        "    index=[\"Primeiro\", \"Segundo\", \"Terceiro\", \"Quarto\"],\n",
        "    columns=[\"Coluna1\", \"Coluna2\"]\n",
        ")\n",
        "\n",
        "dataframe"
      ],
      "execution_count": 0,
      "outputs": [
        {
          "output_type": "execute_result",
          "data": {
            "text/html": [
              "<div>\n",
              "<style scoped>\n",
              "    .dataframe tbody tr th:only-of-type {\n",
              "        vertical-align: middle;\n",
              "    }\n",
              "\n",
              "    .dataframe tbody tr th {\n",
              "        vertical-align: top;\n",
              "    }\n",
              "\n",
              "    .dataframe thead th {\n",
              "        text-align: right;\n",
              "    }\n",
              "</style>\n",
              "<table border=\"1\" class=\"dataframe\">\n",
              "  <thead>\n",
              "    <tr style=\"text-align: right;\">\n",
              "      <th></th>\n",
              "      <th>Coluna1</th>\n",
              "      <th>Coluna2</th>\n",
              "    </tr>\n",
              "  </thead>\n",
              "  <tbody>\n",
              "    <tr>\n",
              "      <th>Primeiro</th>\n",
              "      <td>1.0</td>\n",
              "      <td>1001.2</td>\n",
              "    </tr>\n",
              "    <tr>\n",
              "      <th>Segundo</th>\n",
              "      <td>2.0</td>\n",
              "      <td>998.0</td>\n",
              "    </tr>\n",
              "    <tr>\n",
              "      <th>Terceiro</th>\n",
              "      <td>3.5</td>\n",
              "      <td>777.8</td>\n",
              "    </tr>\n",
              "    <tr>\n",
              "      <th>Quarto</th>\n",
              "      <td>4.0</td>\n",
              "      <td>1002.3</td>\n",
              "    </tr>\n",
              "  </tbody>\n",
              "</table>\n",
              "</div>"
            ],
            "text/plain": [
              "          Coluna1  Coluna2\n",
              "Primeiro      1.0   1001.2\n",
              "Segundo       2.0    998.0\n",
              "Terceiro      3.5    777.8\n",
              "Quarto        4.0   1002.3"
            ]
          },
          "metadata": {
            "tags": []
          },
          "execution_count": 31
        }
      ]
    },
    {
      "cell_type": "markdown",
      "metadata": {
        "id": "j-IDlTrowHD8",
        "colab_type": "text"
      },
      "source": [
        "## Acessando `Series`\n",
        "\n",
        "Vamos ver como acessar os campos das `Series`. Para isso, vamos utilizar nossa `Series` de exemplo:"
      ]
    },
    {
      "cell_type": "code",
      "metadata": {
        "id": "B1SKczdTwQHA",
        "colab_type": "code",
        "outputId": "3b7b1012-f56b-4837-e8f9-a90d38c091c1",
        "colab": {
          "base_uri": "https://localhost:8080/",
          "height": 104
        }
      },
      "source": [
        "series = pd.Series([1.0, 2, 3.5, 4.0],\n",
        "                    index=[\"Primeiro\", \"Segundo\", \"Terceiro\", \"Quarto\"])\n",
        "\n",
        "series"
      ],
      "execution_count": 0,
      "outputs": [
        {
          "output_type": "execute_result",
          "data": {
            "text/plain": [
              "Primeiro    1.0\n",
              "Segundo     2.0\n",
              "Terceiro    3.5\n",
              "Quarto      4.0\n",
              "dtype: float64"
            ]
          },
          "metadata": {
            "tags": []
          },
          "execution_count": 33
        }
      ]
    },
    {
      "cell_type": "markdown",
      "metadata": {
        "id": "znKzJTQnwup5",
        "colab_type": "text"
      },
      "source": [
        "Já vimos que podemos acessar os elementos através de seus índices:"
      ]
    },
    {
      "cell_type": "code",
      "metadata": {
        "id": "9COYtaYcwV86",
        "colab_type": "code",
        "outputId": "7fdfd798-1a92-4af4-b6a2-a6fdead1c387",
        "colab": {
          "base_uri": "https://localhost:8080/",
          "height": 34
        }
      },
      "source": [
        "series[\"Segundo\"]"
      ],
      "execution_count": 0,
      "outputs": [
        {
          "output_type": "execute_result",
          "data": {
            "text/plain": [
              "2.0"
            ]
          },
          "metadata": {
            "tags": []
          },
          "execution_count": 34
        }
      ]
    },
    {
      "cell_type": "markdown",
      "metadata": {
        "id": "Hy_4SUGiwzRi",
        "colab_type": "text"
      },
      "source": [
        "Mas também podemos acessar através de seus índices ímplicitos como em um array (iniciando a contagem sempre em zero):"
      ]
    },
    {
      "cell_type": "code",
      "metadata": {
        "id": "cLF3j3tbwgLF",
        "colab_type": "code",
        "outputId": "21b01eb4-adac-45e2-bb3a-c529482cbf12",
        "colab": {
          "base_uri": "https://localhost:8080/",
          "height": 34
        }
      },
      "source": [
        "series[1]"
      ],
      "execution_count": 0,
      "outputs": [
        {
          "output_type": "execute_result",
          "data": {
            "text/plain": [
              "2.0"
            ]
          },
          "metadata": {
            "tags": []
          },
          "execution_count": 35
        }
      ]
    },
    {
      "cell_type": "markdown",
      "metadata": {
        "id": "s6__lUdqw7JM",
        "colab_type": "text"
      },
      "source": [
        "Podemos testar se um dado valor de índice encontra-se na `Series`:"
      ]
    },
    {
      "cell_type": "code",
      "metadata": {
        "id": "R33kR04qwlqo",
        "colab_type": "code",
        "outputId": "622572a4-cadb-4403-adeb-9702d2de2387",
        "colab": {
          "base_uri": "https://localhost:8080/",
          "height": 34
        }
      },
      "source": [
        "\"Segundo\" in series"
      ],
      "execution_count": 0,
      "outputs": [
        {
          "output_type": "execute_result",
          "data": {
            "text/plain": [
              "True"
            ]
          },
          "metadata": {
            "tags": []
          },
          "execution_count": 38
        }
      ]
    },
    {
      "cell_type": "markdown",
      "metadata": {
        "id": "tbc_iagOxGfc",
        "colab_type": "text"
      },
      "source": [
        "Além do acesso direto aos elementos, também podemos fazer a operação de _slicing_, ou seja, acessar uma \"fatia\" de elementos de uma única vez:"
      ]
    },
    {
      "cell_type": "code",
      "metadata": {
        "id": "arkp3bRtxUIZ",
        "colab_type": "code",
        "outputId": "466dfc40-7123-4641-871d-507f0e96fd91",
        "colab": {
          "base_uri": "https://localhost:8080/",
          "height": 69
        }
      },
      "source": [
        "print(series[\"Segundo\":\"Terceiro\"])"
      ],
      "execution_count": 0,
      "outputs": [
        {
          "output_type": "stream",
          "text": [
            "Segundo     2.0\n",
            "Terceiro    3.5\n",
            "dtype: float64\n"
          ],
          "name": "stdout"
        }
      ]
    },
    {
      "cell_type": "code",
      "metadata": {
        "id": "kQD9Vn8oxzjj",
        "colab_type": "code",
        "outputId": "e0e2dc57-6848-4a4c-d5fc-0650d9212ffd",
        "colab": {
          "base_uri": "https://localhost:8080/",
          "height": 52
        }
      },
      "source": [
        "print(series[1:2])"
      ],
      "execution_count": 0,
      "outputs": [
        {
          "output_type": "stream",
          "text": [
            "Segundo    2.0\n",
            "dtype: float64\n"
          ],
          "name": "stdout"
        }
      ]
    },
    {
      "cell_type": "markdown",
      "metadata": {
        "id": "JZf7rSdZ3sgI",
        "colab_type": "text"
      },
      "source": [
        "Notem que, quando fazendo _slicing_ com os índices da `Series`, o limite superior será considerado __inclusive__. Quando fazendo _slicing_ com índices numéricos do Python, o limite superior será __exclusive__."
      ]
    },
    {
      "cell_type": "markdown",
      "metadata": {
        "id": "X2bx8CJw2jNd",
        "colab_type": "text"
      },
      "source": [
        "Assim como no NumPy, no pandas também podemos fazer algumas operações de acesso aos dados de `Series`:"
      ]
    },
    {
      "cell_type": "markdown",
      "metadata": {
        "id": "s69OveJZ2qhr",
        "colab_type": "text"
      },
      "source": [
        "* Máscara: uso de expressões lógicas para filtrar quais elementos devem ser retornados"
      ]
    },
    {
      "cell_type": "code",
      "metadata": {
        "id": "Eixv2obtEQcq",
        "colab_type": "code",
        "outputId": "8dba52bb-09a3-471c-a22c-b6dc2161908a",
        "colab": {
          "base_uri": "https://localhost:8080/",
          "height": 104
        }
      },
      "source": [
        "series"
      ],
      "execution_count": 0,
      "outputs": [
        {
          "output_type": "execute_result",
          "data": {
            "text/plain": [
              "Primeiro    1.0\n",
              "Segundo     2.0\n",
              "Terceiro    3.5\n",
              "Quarto      4.0\n",
              "dtype: float64"
            ]
          },
          "metadata": {
            "tags": []
          },
          "execution_count": 44
        }
      ]
    },
    {
      "cell_type": "code",
      "metadata": {
        "id": "Lq7Uj5ir25hv",
        "colab_type": "code",
        "outputId": "f3cff16b-d489-4c73-d128-f4ba243b3448",
        "colab": {
          "base_uri": "https://localhost:8080/",
          "height": 104
        }
      },
      "source": [
        "series > 3.4 ||\n",
        "\n",
        "#series[(series > 3.4) | (series < 1.9)]"
      ],
      "execution_count": 0,
      "outputs": [
        {
          "output_type": "execute_result",
          "data": {
            "text/plain": [
              "Primeiro     True\n",
              "Segundo     False\n",
              "Terceiro    False\n",
              "Quarto      False\n",
              "dtype: bool"
            ]
          },
          "metadata": {
            "tags": []
          },
          "execution_count": 45
        }
      ]
    },
    {
      "cell_type": "markdown",
      "metadata": {
        "id": "IWPxmeSv3H48",
        "colab_type": "text"
      },
      "source": [
        "Notem o uso de parênteses que obrigatórios para esse caso. Sem eles, a precedência seria de `3.4 | series`,  o que não faz sentido."
      ]
    },
    {
      "cell_type": "markdown",
      "metadata": {
        "id": "RpX14U1R3UCw",
        "colab_type": "text"
      },
      "source": [
        "* _Fancy indexing_: permite acessar os elementos especificando exatamente quais índices devem ser retornados"
      ]
    },
    {
      "cell_type": "code",
      "metadata": {
        "id": "_X5ssWRW3c_G",
        "colab_type": "code",
        "outputId": "12ecd5a4-ff4e-421b-a629-53be779c076b",
        "colab": {
          "base_uri": "https://localhost:8080/",
          "height": 69
        }
      },
      "source": [
        "series[[\"Segundo\", \"Quarto\"]]"
      ],
      "execution_count": 0,
      "outputs": [
        {
          "output_type": "execute_result",
          "data": {
            "text/plain": [
              "Segundo    2.0\n",
              "Quarto     4.0\n",
              "dtype: float64"
            ]
          },
          "metadata": {
            "tags": []
          },
          "execution_count": 29
        }
      ]
    },
    {
      "cell_type": "markdown",
      "metadata": {
        "id": "KkavXsMx4eIj",
        "colab_type": "text"
      },
      "source": [
        "## Acessando `DataFrame`\n",
        "\n",
        "Agora veremos como acessar os elementos de um `DataFrame`. Para isso, vamos utilizar nosso `DataFrame` de exemplo."
      ]
    },
    {
      "cell_type": "code",
      "metadata": {
        "id": "TCEmGNMs4nCg",
        "colab_type": "code",
        "outputId": "8f6f927e-1402-4fa9-d97e-e5271cccf4be",
        "colab": {
          "base_uri": "https://localhost:8080/",
          "height": 175
        }
      },
      "source": [
        "series1 = pd.Series({\"Primeiro\": 1.0, \"Segundo\": 2, \"Terceiro\": 3.5, \"Quarto\": 4.0}) # Essa é a primeira coluna.\n",
        "series2 = pd.Series({\"Primeiro\": 1001.2, \"Segundo\": 998.0, \"Terceiro\": 777.8, \"Quarto\": 1002.3}) # Segunda coluna.\n",
        "                    \n",
        "dataframe = pd.DataFrame({\"Coluna1\": series1, \"Coluna2\": series2}) # Criando o DataFrame a partir das duas Series.\n",
        "\n",
        "dataframe"
      ],
      "execution_count": 0,
      "outputs": [
        {
          "output_type": "execute_result",
          "data": {
            "text/html": [
              "<div>\n",
              "<style scoped>\n",
              "    .dataframe tbody tr th:only-of-type {\n",
              "        vertical-align: middle;\n",
              "    }\n",
              "\n",
              "    .dataframe tbody tr th {\n",
              "        vertical-align: top;\n",
              "    }\n",
              "\n",
              "    .dataframe thead th {\n",
              "        text-align: right;\n",
              "    }\n",
              "</style>\n",
              "<table border=\"1\" class=\"dataframe\">\n",
              "  <thead>\n",
              "    <tr style=\"text-align: right;\">\n",
              "      <th></th>\n",
              "      <th>Coluna1</th>\n",
              "      <th>Coluna2</th>\n",
              "    </tr>\n",
              "  </thead>\n",
              "  <tbody>\n",
              "    <tr>\n",
              "      <th>Primeiro</th>\n",
              "      <td>1.0</td>\n",
              "      <td>1001.2</td>\n",
              "    </tr>\n",
              "    <tr>\n",
              "      <th>Segundo</th>\n",
              "      <td>2.0</td>\n",
              "      <td>998.0</td>\n",
              "    </tr>\n",
              "    <tr>\n",
              "      <th>Terceiro</th>\n",
              "      <td>3.5</td>\n",
              "      <td>777.8</td>\n",
              "    </tr>\n",
              "    <tr>\n",
              "      <th>Quarto</th>\n",
              "      <td>4.0</td>\n",
              "      <td>1002.3</td>\n",
              "    </tr>\n",
              "  </tbody>\n",
              "</table>\n",
              "</div>"
            ],
            "text/plain": [
              "          Coluna1  Coluna2\n",
              "Primeiro      1.0   1001.2\n",
              "Segundo       2.0    998.0\n",
              "Terceiro      3.5    777.8\n",
              "Quarto        4.0   1002.3"
            ]
          },
          "metadata": {
            "tags": []
          },
          "execution_count": 30
        }
      ]
    },
    {
      "cell_type": "markdown",
      "metadata": {
        "id": "HN7mW8DI4yaQ",
        "colab_type": "text"
      },
      "source": [
        "Já vimos que podemos acessar colunas pelos seus nomes diretamente:"
      ]
    },
    {
      "cell_type": "code",
      "metadata": {
        "id": "hHpZoAhW44Rf",
        "colab_type": "code",
        "outputId": "cc12a2b8-8d69-4a6f-d59f-ffdda585ff78",
        "colab": {
          "base_uri": "https://localhost:8080/",
          "height": 104
        }
      },
      "source": [
        "dataframe[\"Coluna2\"]"
      ],
      "execution_count": 0,
      "outputs": [
        {
          "output_type": "execute_result",
          "data": {
            "text/plain": [
              "Primeiro    1001.2\n",
              "Segundo      998.0\n",
              "Terceiro     777.8\n",
              "Quarto      1002.3\n",
              "Name: Coluna2, dtype: float64"
            ]
          },
          "metadata": {
            "tags": []
          },
          "execution_count": 31
        }
      ]
    },
    {
      "cell_type": "markdown",
      "metadata": {
        "id": "8C02QBUs47Om",
        "colab_type": "text"
      },
      "source": [
        "Mas também podemos acessar essa mesma coluna como se fosse um atributo do objeto `dataframe`. Para isso, basta que o nome da coluna seja um nome de variável válido em Python (sem espaços, sem caracteres especiais etc) e não coincida com nome de um método (`add`, `mean` etc):"
      ]
    },
    {
      "cell_type": "code",
      "metadata": {
        "id": "78SAo2M-5Gsf",
        "colab_type": "code",
        "outputId": "a388263a-0f6e-4a4e-a062-77da6f4125ce",
        "colab": {
          "base_uri": "https://localhost:8080/",
          "height": 104
        }
      },
      "source": [
        "dataframe.Coluna2"
      ],
      "execution_count": 0,
      "outputs": [
        {
          "output_type": "execute_result",
          "data": {
            "text/plain": [
              "Primeiro    1001.2\n",
              "Segundo      998.0\n",
              "Terceiro     777.8\n",
              "Quarto      1002.3\n",
              "Name: Coluna2, dtype: float64"
            ]
          },
          "metadata": {
            "tags": []
          },
          "execution_count": 32
        }
      ]
    },
    {
      "cell_type": "markdown",
      "metadata": {
        "id": "8J_myQ0Z7DTR",
        "colab_type": "text"
      },
      "source": [
        "Já vimos que o um `DataFrame` pode ser encarado como um array bidimensional. Vamos utilizar essa abordagem para acessar seus elementos:"
      ]
    },
    {
      "cell_type": "code",
      "metadata": {
        "id": "l_4-NOqE7MeU",
        "colab_type": "code",
        "outputId": "1ad1563a-f5a3-43e4-cf04-a6641a652442",
        "colab": {
          "base_uri": "https://localhost:8080/",
          "height": 86
        }
      },
      "source": [
        "dataframe.values"
      ],
      "execution_count": 0,
      "outputs": [
        {
          "output_type": "execute_result",
          "data": {
            "text/plain": [
              "array([[1.0000e+00, 1.0012e+03],\n",
              "       [2.0000e+00, 9.9800e+02],\n",
              "       [3.5000e+00, 7.7780e+02],\n",
              "       [4.0000e+00, 1.0023e+03]])"
            ]
          },
          "metadata": {
            "tags": []
          },
          "execution_count": 33
        }
      ]
    },
    {
      "cell_type": "markdown",
      "metadata": {
        "id": "ausY4KHs7VQX",
        "colab_type": "text"
      },
      "source": [
        "A transposta de uma matriz é resultado da troca de suas linhas por suas colunas:"
      ]
    },
    {
      "cell_type": "code",
      "metadata": {
        "id": "QB0iBh4U7Pz1",
        "colab_type": "code",
        "outputId": "47933be9-72ff-4452-b77f-a282ae3150db",
        "colab": {
          "base_uri": "https://localhost:8080/",
          "height": 112
        }
      },
      "source": [
        "dataframe.T # Transposta."
      ],
      "execution_count": 0,
      "outputs": [
        {
          "output_type": "execute_result",
          "data": {
            "text/html": [
              "<div>\n",
              "<style scoped>\n",
              "    .dataframe tbody tr th:only-of-type {\n",
              "        vertical-align: middle;\n",
              "    }\n",
              "\n",
              "    .dataframe tbody tr th {\n",
              "        vertical-align: top;\n",
              "    }\n",
              "\n",
              "    .dataframe thead th {\n",
              "        text-align: right;\n",
              "    }\n",
              "</style>\n",
              "<table border=\"1\" class=\"dataframe\">\n",
              "  <thead>\n",
              "    <tr style=\"text-align: right;\">\n",
              "      <th></th>\n",
              "      <th>Primeiro</th>\n",
              "      <th>Segundo</th>\n",
              "      <th>Terceiro</th>\n",
              "      <th>Quarto</th>\n",
              "    </tr>\n",
              "  </thead>\n",
              "  <tbody>\n",
              "    <tr>\n",
              "      <th>Coluna1</th>\n",
              "      <td>1.0</td>\n",
              "      <td>2.0</td>\n",
              "      <td>3.5</td>\n",
              "      <td>4.0</td>\n",
              "    </tr>\n",
              "    <tr>\n",
              "      <th>Coluna2</th>\n",
              "      <td>1001.2</td>\n",
              "      <td>998.0</td>\n",
              "      <td>777.8</td>\n",
              "      <td>1002.3</td>\n",
              "    </tr>\n",
              "  </tbody>\n",
              "</table>\n",
              "</div>"
            ],
            "text/plain": [
              "         Primeiro  Segundo  Terceiro  Quarto\n",
              "Coluna1       1.0      2.0       3.5     4.0\n",
              "Coluna2    1001.2    998.0     777.8  1002.3"
            ]
          },
          "metadata": {
            "tags": []
          },
          "execution_count": 34
        }
      ]
    },
    {
      "cell_type": "markdown",
      "metadata": {
        "id": "22oFVIA17c42",
        "colab_type": "text"
      },
      "source": [
        "**`iloc`** e **`loc`**\n",
        "\n",
        "O pandas nos provê três métodos de acesso que funcionam tanto para `Series` quanto para `DataFrame`.\n",
        "\n",
        "* __iloc__: acesso com os índices implícitos do Python (0, 1, 2 etc).\n",
        "* __loc__: acesso com os índices próprios da `Series`/`DataFrame`.\n",
        "\n",
        "Antes de seguir com exemplos, vamos aumentar nosso `dataframe`:"
      ]
    },
    {
      "cell_type": "code",
      "metadata": {
        "id": "V-5jAW58HWS3",
        "colab_type": "code",
        "outputId": "7e5fc8ff-27f7-43c9-a55b-f6c90d7cfbe6",
        "colab": {
          "base_uri": "https://localhost:8080/",
          "height": 175
        }
      },
      "source": [
        "dataframe[\"Coluna3\"] = dataframe[\"Coluna1\"] + 2 * dataframe[\"Coluna2\"] # col3 = col1 + 2 * col2.\n",
        "\n",
        "dataframe[\"Coluna4\"] = np.power(dataframe[\"Coluna1\"], 2) + dataframe[\"Coluna3\"] # col4 = col1**2 + col3.\n",
        "\n",
        "dataframe"
      ],
      "execution_count": 0,
      "outputs": [
        {
          "output_type": "execute_result",
          "data": {
            "text/html": [
              "<div>\n",
              "<style scoped>\n",
              "    .dataframe tbody tr th:only-of-type {\n",
              "        vertical-align: middle;\n",
              "    }\n",
              "\n",
              "    .dataframe tbody tr th {\n",
              "        vertical-align: top;\n",
              "    }\n",
              "\n",
              "    .dataframe thead th {\n",
              "        text-align: right;\n",
              "    }\n",
              "</style>\n",
              "<table border=\"1\" class=\"dataframe\">\n",
              "  <thead>\n",
              "    <tr style=\"text-align: right;\">\n",
              "      <th></th>\n",
              "      <th>Coluna1</th>\n",
              "      <th>Coluna2</th>\n",
              "      <th>Coluna3</th>\n",
              "      <th>Coluna4</th>\n",
              "    </tr>\n",
              "  </thead>\n",
              "  <tbody>\n",
              "    <tr>\n",
              "      <th>Primeiro</th>\n",
              "      <td>1.0</td>\n",
              "      <td>1001.2</td>\n",
              "      <td>2003.4</td>\n",
              "      <td>2004.40</td>\n",
              "    </tr>\n",
              "    <tr>\n",
              "      <th>Segundo</th>\n",
              "      <td>2.0</td>\n",
              "      <td>998.0</td>\n",
              "      <td>1998.0</td>\n",
              "      <td>2002.00</td>\n",
              "    </tr>\n",
              "    <tr>\n",
              "      <th>Terceiro</th>\n",
              "      <td>3.5</td>\n",
              "      <td>777.8</td>\n",
              "      <td>1559.1</td>\n",
              "      <td>1571.35</td>\n",
              "    </tr>\n",
              "    <tr>\n",
              "      <th>Quarto</th>\n",
              "      <td>4.0</td>\n",
              "      <td>1002.3</td>\n",
              "      <td>2008.6</td>\n",
              "      <td>2024.60</td>\n",
              "    </tr>\n",
              "  </tbody>\n",
              "</table>\n",
              "</div>"
            ],
            "text/plain": [
              "          Coluna1  Coluna2  Coluna3  Coluna4\n",
              "Primeiro      1.0   1001.2   2003.4  2004.40\n",
              "Segundo       2.0    998.0   1998.0  2002.00\n",
              "Terceiro      3.5    777.8   1559.1  1571.35\n",
              "Quarto        4.0   1002.3   2008.6  2024.60"
            ]
          },
          "metadata": {
            "tags": []
          },
          "execution_count": 101
        }
      ]
    },
    {
      "cell_type": "code",
      "metadata": {
        "id": "BkgMkWodG4Yn",
        "colab_type": "code",
        "outputId": "d3c7227d-3c12-457f-debc-25ea39d0f199",
        "colab": {
          "base_uri": "https://localhost:8080/",
          "height": 143
        }
      },
      "source": [
        "dataframe.loc[\"Primeiro\":\"Terceiro\", \"Coluna2\":\"Coluna4\"] # Slicing nas linhas e nas colunas."
      ],
      "execution_count": 0,
      "outputs": [
        {
          "output_type": "execute_result",
          "data": {
            "text/html": [
              "<div>\n",
              "<style scoped>\n",
              "    .dataframe tbody tr th:only-of-type {\n",
              "        vertical-align: middle;\n",
              "    }\n",
              "\n",
              "    .dataframe tbody tr th {\n",
              "        vertical-align: top;\n",
              "    }\n",
              "\n",
              "    .dataframe thead th {\n",
              "        text-align: right;\n",
              "    }\n",
              "</style>\n",
              "<table border=\"1\" class=\"dataframe\">\n",
              "  <thead>\n",
              "    <tr style=\"text-align: right;\">\n",
              "      <th></th>\n",
              "      <th>Coluna2</th>\n",
              "      <th>Coluna3</th>\n",
              "      <th>Coluna4</th>\n",
              "    </tr>\n",
              "  </thead>\n",
              "  <tbody>\n",
              "    <tr>\n",
              "      <th>Primeiro</th>\n",
              "      <td>1001.2</td>\n",
              "      <td>2003.4</td>\n",
              "      <td>2004.40</td>\n",
              "    </tr>\n",
              "    <tr>\n",
              "      <th>Segundo</th>\n",
              "      <td>998.0</td>\n",
              "      <td>1998.0</td>\n",
              "      <td>2002.00</td>\n",
              "    </tr>\n",
              "    <tr>\n",
              "      <th>Terceiro</th>\n",
              "      <td>777.8</td>\n",
              "      <td>1559.1</td>\n",
              "      <td>1571.35</td>\n",
              "    </tr>\n",
              "  </tbody>\n",
              "</table>\n",
              "</div>"
            ],
            "text/plain": [
              "          Coluna2  Coluna3  Coluna4\n",
              "Primeiro   1001.2   2003.4  2004.40\n",
              "Segundo     998.0   1998.0  2002.00\n",
              "Terceiro    777.8   1559.1  1571.35"
            ]
          },
          "metadata": {
            "tags": []
          },
          "execution_count": 36
        }
      ]
    },
    {
      "cell_type": "code",
      "metadata": {
        "id": "3kmUmLUuIcth",
        "colab_type": "code",
        "outputId": "9c7c3ef9-f953-4ed1-9095-b3b0612fd5b0",
        "colab": {
          "base_uri": "https://localhost:8080/",
          "height": 175
        }
      },
      "source": [
        "dataframe.iloc[0:4, 1:5] # Slicing das mesmas linhas e colunas, mas com iloc."
      ],
      "execution_count": 0,
      "outputs": [
        {
          "output_type": "execute_result",
          "data": {
            "text/html": [
              "<div>\n",
              "<style scoped>\n",
              "    .dataframe tbody tr th:only-of-type {\n",
              "        vertical-align: middle;\n",
              "    }\n",
              "\n",
              "    .dataframe tbody tr th {\n",
              "        vertical-align: top;\n",
              "    }\n",
              "\n",
              "    .dataframe thead th {\n",
              "        text-align: right;\n",
              "    }\n",
              "</style>\n",
              "<table border=\"1\" class=\"dataframe\">\n",
              "  <thead>\n",
              "    <tr style=\"text-align: right;\">\n",
              "      <th></th>\n",
              "      <th>Coluna2</th>\n",
              "      <th>Coluna3</th>\n",
              "      <th>Coluna4</th>\n",
              "    </tr>\n",
              "  </thead>\n",
              "  <tbody>\n",
              "    <tr>\n",
              "      <th>Primeiro</th>\n",
              "      <td>1001.2</td>\n",
              "      <td>2003.4</td>\n",
              "      <td>2004.40</td>\n",
              "    </tr>\n",
              "    <tr>\n",
              "      <th>Segundo</th>\n",
              "      <td>998.0</td>\n",
              "      <td>1998.0</td>\n",
              "      <td>2002.00</td>\n",
              "    </tr>\n",
              "    <tr>\n",
              "      <th>Terceiro</th>\n",
              "      <td>777.8</td>\n",
              "      <td>1559.1</td>\n",
              "      <td>1571.35</td>\n",
              "    </tr>\n",
              "    <tr>\n",
              "      <th>Quarto</th>\n",
              "      <td>1002.3</td>\n",
              "      <td>2008.6</td>\n",
              "      <td>2024.60</td>\n",
              "    </tr>\n",
              "  </tbody>\n",
              "</table>\n",
              "</div>"
            ],
            "text/plain": [
              "          Coluna2  Coluna3  Coluna4\n",
              "Primeiro   1001.2   2003.4  2004.40\n",
              "Segundo     998.0   1998.0  2002.00\n",
              "Terceiro    777.8   1559.1  1571.35\n",
              "Quarto     1002.3   2008.6  2024.60"
            ]
          },
          "metadata": {
            "tags": []
          },
          "execution_count": 37
        }
      ]
    },
    {
      "cell_type": "markdown",
      "metadata": {
        "id": "gAdjZ0A4JT-g",
        "colab_type": "text"
      },
      "source": [
        "Com `loc` podemos combinar máscara, _fancy indexing_ e _slicing_:"
      ]
    },
    {
      "cell_type": "code",
      "metadata": {
        "id": "s7qe8YQ4I1pf",
        "colab_type": "code",
        "outputId": "c6fe8e5f-d843-4c1f-acd5-9b7b21892494",
        "colab": {
          "base_uri": "https://localhost:8080/",
          "height": 112
        }
      },
      "source": [
        "# Combinando máscara e fancy indenxing.\n",
        "dataframe.loc[dataframe.Coluna2 > 1000.0, [\"Coluna2\", \"Coluna3\"]]"
      ],
      "execution_count": 0,
      "outputs": [
        {
          "output_type": "execute_result",
          "data": {
            "text/html": [
              "<div>\n",
              "<style scoped>\n",
              "    .dataframe tbody tr th:only-of-type {\n",
              "        vertical-align: middle;\n",
              "    }\n",
              "\n",
              "    .dataframe tbody tr th {\n",
              "        vertical-align: top;\n",
              "    }\n",
              "\n",
              "    .dataframe thead th {\n",
              "        text-align: right;\n",
              "    }\n",
              "</style>\n",
              "<table border=\"1\" class=\"dataframe\">\n",
              "  <thead>\n",
              "    <tr style=\"text-align: right;\">\n",
              "      <th></th>\n",
              "      <th>Coluna2</th>\n",
              "      <th>Coluna3</th>\n",
              "    </tr>\n",
              "  </thead>\n",
              "  <tbody>\n",
              "    <tr>\n",
              "      <th>Primeiro</th>\n",
              "      <td>1001.2</td>\n",
              "      <td>2003.4</td>\n",
              "    </tr>\n",
              "    <tr>\n",
              "      <th>Quarto</th>\n",
              "      <td>1002.3</td>\n",
              "      <td>2008.6</td>\n",
              "    </tr>\n",
              "  </tbody>\n",
              "</table>\n",
              "</div>"
            ],
            "text/plain": [
              "          Coluna2  Coluna3\n",
              "Primeiro   1001.2   2003.4\n",
              "Quarto     1002.3   2008.6"
            ]
          },
          "metadata": {
            "tags": []
          },
          "execution_count": 38
        }
      ]
    },
    {
      "cell_type": "markdown",
      "metadata": {
        "id": "nnw-iGhqJ2e3",
        "colab_type": "text"
      },
      "source": [
        "__Algumas observações__:\n",
        "\n",
        "É válido notar que:\n",
        "\n",
        "* __Acesso direto__ (indexação) a um elemento, como em `dataframe[\"Coluna2\"]`, acessa uma __coluna__.\n",
        "* __*Slicing*__, como em `dataframe[\"Primeiro\":\"Segundo\"]`, acessa __linhas__.\n",
        "* __Máscara__, como em `dataframe[dataframe.Coluna2 > 1000.0]`, é sempre interpretado com relação às __linhas__.\n",
        "\n",
        "Além disso, note que `dataframe.ColumnName` e `dataframe['ColumnName']` retornam `Series`, enquanto `dataframe[['ColumnName']]` retorna `DataFrame`."
      ]
    },
    {
      "cell_type": "markdown",
      "metadata": {
        "id": "0bqvCEAUh-9e",
        "colab_type": "text"
      },
      "source": [
        "## Explorando `DataFrame`\n",
        "\n",
        "Aqui vamos ver algumas das funções básicas para manipular e explorar dados com o pandas. Para isso, vamos carregar um _data set_ mais completo:"
      ]
    },
    {
      "cell_type": "code",
      "metadata": {
        "id": "pLqIxVp7iXYm",
        "colab_type": "code",
        "colab": {}
      },
      "source": [
        "iris_dataset = load_iris()\n",
        "\n",
        "iris = pd.DataFrame(data=iris_dataset.data, columns=iris_dataset.feature_names)"
      ],
      "execution_count": 0,
      "outputs": []
    },
    {
      "cell_type": "markdown",
      "metadata": {
        "id": "ciM03CPAjhIX",
        "colab_type": "text"
      },
      "source": [
        "O primeiro método, `head()`, nos dá um primeiro contato com o `DataFrame`, nos permitindo olhar as suas primeiras linhas:"
      ]
    },
    {
      "cell_type": "code",
      "metadata": {
        "id": "cFBNLRnqjsZ8",
        "colab_type": "code",
        "outputId": "30080e3d-81f5-4de0-dc4d-023f16ed6000",
        "colab": {
          "base_uri": "https://localhost:8080/",
          "height": 206
        }
      },
      "source": [
        "iris.head(5) # Primeiras 5 linhas do data set."
      ],
      "execution_count": 0,
      "outputs": [
        {
          "output_type": "execute_result",
          "data": {
            "text/html": [
              "<div>\n",
              "<style scoped>\n",
              "    .dataframe tbody tr th:only-of-type {\n",
              "        vertical-align: middle;\n",
              "    }\n",
              "\n",
              "    .dataframe tbody tr th {\n",
              "        vertical-align: top;\n",
              "    }\n",
              "\n",
              "    .dataframe thead th {\n",
              "        text-align: right;\n",
              "    }\n",
              "</style>\n",
              "<table border=\"1\" class=\"dataframe\">\n",
              "  <thead>\n",
              "    <tr style=\"text-align: right;\">\n",
              "      <th></th>\n",
              "      <th>sepal length (cm)</th>\n",
              "      <th>sepal width (cm)</th>\n",
              "      <th>petal length (cm)</th>\n",
              "      <th>petal width (cm)</th>\n",
              "    </tr>\n",
              "  </thead>\n",
              "  <tbody>\n",
              "    <tr>\n",
              "      <th>0</th>\n",
              "      <td>5.1</td>\n",
              "      <td>3.5</td>\n",
              "      <td>1.4</td>\n",
              "      <td>0.2</td>\n",
              "    </tr>\n",
              "    <tr>\n",
              "      <th>1</th>\n",
              "      <td>4.9</td>\n",
              "      <td>3.0</td>\n",
              "      <td>1.4</td>\n",
              "      <td>0.2</td>\n",
              "    </tr>\n",
              "    <tr>\n",
              "      <th>2</th>\n",
              "      <td>4.7</td>\n",
              "      <td>3.2</td>\n",
              "      <td>1.3</td>\n",
              "      <td>0.2</td>\n",
              "    </tr>\n",
              "    <tr>\n",
              "      <th>3</th>\n",
              "      <td>4.6</td>\n",
              "      <td>3.1</td>\n",
              "      <td>1.5</td>\n",
              "      <td>0.2</td>\n",
              "    </tr>\n",
              "    <tr>\n",
              "      <th>4</th>\n",
              "      <td>5.0</td>\n",
              "      <td>3.6</td>\n",
              "      <td>1.4</td>\n",
              "      <td>0.2</td>\n",
              "    </tr>\n",
              "  </tbody>\n",
              "</table>\n",
              "</div>"
            ],
            "text/plain": [
              "   sepal length (cm)  sepal width (cm)  petal length (cm)  petal width (cm)\n",
              "0                5.1               3.5                1.4               0.2\n",
              "1                4.9               3.0                1.4               0.2\n",
              "2                4.7               3.2                1.3               0.2\n",
              "3                4.6               3.1                1.5               0.2\n",
              "4                5.0               3.6                1.4               0.2"
            ]
          },
          "metadata": {
            "tags": []
          },
          "execution_count": 40
        }
      ]
    },
    {
      "cell_type": "markdown",
      "metadata": {
        "id": "3zQmICFTlRBk",
        "colab_type": "text"
      },
      "source": [
        "O oposto de `head()` é o método `tail()`, que nos permite investigar as últimas linhas do _data set_:"
      ]
    },
    {
      "cell_type": "code",
      "metadata": {
        "id": "m0nBlRQ6lX-f",
        "colab_type": "code",
        "outputId": "c9a2189a-39a9-40ce-f053-19d4afa0bd6f",
        "colab": {
          "base_uri": "https://localhost:8080/",
          "height": 300
        }
      },
      "source": [
        "iris.tail(8) # Últimas 8 linhas do data set."
      ],
      "execution_count": 0,
      "outputs": [
        {
          "output_type": "execute_result",
          "data": {
            "text/html": [
              "<div>\n",
              "<style scoped>\n",
              "    .dataframe tbody tr th:only-of-type {\n",
              "        vertical-align: middle;\n",
              "    }\n",
              "\n",
              "    .dataframe tbody tr th {\n",
              "        vertical-align: top;\n",
              "    }\n",
              "\n",
              "    .dataframe thead th {\n",
              "        text-align: right;\n",
              "    }\n",
              "</style>\n",
              "<table border=\"1\" class=\"dataframe\">\n",
              "  <thead>\n",
              "    <tr style=\"text-align: right;\">\n",
              "      <th></th>\n",
              "      <th>sepal length (cm)</th>\n",
              "      <th>sepal width (cm)</th>\n",
              "      <th>petal length (cm)</th>\n",
              "      <th>petal width (cm)</th>\n",
              "    </tr>\n",
              "  </thead>\n",
              "  <tbody>\n",
              "    <tr>\n",
              "      <th>142</th>\n",
              "      <td>5.8</td>\n",
              "      <td>2.7</td>\n",
              "      <td>5.1</td>\n",
              "      <td>1.9</td>\n",
              "    </tr>\n",
              "    <tr>\n",
              "      <th>143</th>\n",
              "      <td>6.8</td>\n",
              "      <td>3.2</td>\n",
              "      <td>5.9</td>\n",
              "      <td>2.3</td>\n",
              "    </tr>\n",
              "    <tr>\n",
              "      <th>144</th>\n",
              "      <td>6.7</td>\n",
              "      <td>3.3</td>\n",
              "      <td>5.7</td>\n",
              "      <td>2.5</td>\n",
              "    </tr>\n",
              "    <tr>\n",
              "      <th>145</th>\n",
              "      <td>6.7</td>\n",
              "      <td>3.0</td>\n",
              "      <td>5.2</td>\n",
              "      <td>2.3</td>\n",
              "    </tr>\n",
              "    <tr>\n",
              "      <th>146</th>\n",
              "      <td>6.3</td>\n",
              "      <td>2.5</td>\n",
              "      <td>5.0</td>\n",
              "      <td>1.9</td>\n",
              "    </tr>\n",
              "    <tr>\n",
              "      <th>147</th>\n",
              "      <td>6.5</td>\n",
              "      <td>3.0</td>\n",
              "      <td>5.2</td>\n",
              "      <td>2.0</td>\n",
              "    </tr>\n",
              "    <tr>\n",
              "      <th>148</th>\n",
              "      <td>6.2</td>\n",
              "      <td>3.4</td>\n",
              "      <td>5.4</td>\n",
              "      <td>2.3</td>\n",
              "    </tr>\n",
              "    <tr>\n",
              "      <th>149</th>\n",
              "      <td>5.9</td>\n",
              "      <td>3.0</td>\n",
              "      <td>5.1</td>\n",
              "      <td>1.8</td>\n",
              "    </tr>\n",
              "  </tbody>\n",
              "</table>\n",
              "</div>"
            ],
            "text/plain": [
              "     sepal length (cm)  sepal width (cm)  petal length (cm)  petal width (cm)\n",
              "142                5.8               2.7                5.1               1.9\n",
              "143                6.8               3.2                5.9               2.3\n",
              "144                6.7               3.3                5.7               2.5\n",
              "145                6.7               3.0                5.2               2.3\n",
              "146                6.3               2.5                5.0               1.9\n",
              "147                6.5               3.0                5.2               2.0\n",
              "148                6.2               3.4                5.4               2.3\n",
              "149                5.9               3.0                5.1               1.8"
            ]
          },
          "metadata": {
            "tags": []
          },
          "execution_count": 41
        }
      ]
    },
    {
      "cell_type": "markdown",
      "metadata": {
        "id": "vXZlDmX7lm0-",
        "colab_type": "text"
      },
      "source": [
        "Ambos métodos `head()` e `tail()` retornam `DataFrame` de forma que podemos invocar qualquer método dessa classe normalmente no resultado."
      ]
    },
    {
      "cell_type": "markdown",
      "metadata": {
        "id": "xf1IAwidkQ8V",
        "colab_type": "text"
      },
      "source": [
        "O próximo método, `describe()`, nos dá uma visão geral das estatísticas como quantidade, média, variância e os quantis das variáveis (colunas) no _data set_:"
      ]
    },
    {
      "cell_type": "code",
      "metadata": {
        "id": "MOoVFYhDkdD4",
        "colab_type": "code",
        "outputId": "8f93126f-7118-4969-8ce9-e857df757f22",
        "colab": {
          "base_uri": "https://localhost:8080/",
          "height": 300
        }
      },
      "source": [
        "iris.describe()"
      ],
      "execution_count": 0,
      "outputs": [
        {
          "output_type": "execute_result",
          "data": {
            "text/html": [
              "<div>\n",
              "<style scoped>\n",
              "    .dataframe tbody tr th:only-of-type {\n",
              "        vertical-align: middle;\n",
              "    }\n",
              "\n",
              "    .dataframe tbody tr th {\n",
              "        vertical-align: top;\n",
              "    }\n",
              "\n",
              "    .dataframe thead th {\n",
              "        text-align: right;\n",
              "    }\n",
              "</style>\n",
              "<table border=\"1\" class=\"dataframe\">\n",
              "  <thead>\n",
              "    <tr style=\"text-align: right;\">\n",
              "      <th></th>\n",
              "      <th>sepal length (cm)</th>\n",
              "      <th>sepal width (cm)</th>\n",
              "      <th>petal length (cm)</th>\n",
              "      <th>petal width (cm)</th>\n",
              "    </tr>\n",
              "  </thead>\n",
              "  <tbody>\n",
              "    <tr>\n",
              "      <th>count</th>\n",
              "      <td>150.000000</td>\n",
              "      <td>150.000000</td>\n",
              "      <td>150.000000</td>\n",
              "      <td>150.000000</td>\n",
              "    </tr>\n",
              "    <tr>\n",
              "      <th>mean</th>\n",
              "      <td>5.843333</td>\n",
              "      <td>3.057333</td>\n",
              "      <td>3.758000</td>\n",
              "      <td>1.199333</td>\n",
              "    </tr>\n",
              "    <tr>\n",
              "      <th>std</th>\n",
              "      <td>0.828066</td>\n",
              "      <td>0.435866</td>\n",
              "      <td>1.765298</td>\n",
              "      <td>0.762238</td>\n",
              "    </tr>\n",
              "    <tr>\n",
              "      <th>min</th>\n",
              "      <td>4.300000</td>\n",
              "      <td>2.000000</td>\n",
              "      <td>1.000000</td>\n",
              "      <td>0.100000</td>\n",
              "    </tr>\n",
              "    <tr>\n",
              "      <th>25%</th>\n",
              "      <td>5.100000</td>\n",
              "      <td>2.800000</td>\n",
              "      <td>1.600000</td>\n",
              "      <td>0.300000</td>\n",
              "    </tr>\n",
              "    <tr>\n",
              "      <th>50%</th>\n",
              "      <td>5.800000</td>\n",
              "      <td>3.000000</td>\n",
              "      <td>4.350000</td>\n",
              "      <td>1.300000</td>\n",
              "    </tr>\n",
              "    <tr>\n",
              "      <th>75%</th>\n",
              "      <td>6.400000</td>\n",
              "      <td>3.300000</td>\n",
              "      <td>5.100000</td>\n",
              "      <td>1.800000</td>\n",
              "    </tr>\n",
              "    <tr>\n",
              "      <th>max</th>\n",
              "      <td>7.900000</td>\n",
              "      <td>4.400000</td>\n",
              "      <td>6.900000</td>\n",
              "      <td>2.500000</td>\n",
              "    </tr>\n",
              "  </tbody>\n",
              "</table>\n",
              "</div>"
            ],
            "text/plain": [
              "       sepal length (cm)  sepal width (cm)  petal length (cm)  petal width (cm)\n",
              "count         150.000000        150.000000         150.000000        150.000000\n",
              "mean            5.843333          3.057333           3.758000          1.199333\n",
              "std             0.828066          0.435866           1.765298          0.762238\n",
              "min             4.300000          2.000000           1.000000          0.100000\n",
              "25%             5.100000          2.800000           1.600000          0.300000\n",
              "50%             5.800000          3.000000           4.350000          1.300000\n",
              "75%             6.400000          3.300000           5.100000          1.800000\n",
              "max             7.900000          4.400000           6.900000          2.500000"
            ]
          },
          "metadata": {
            "tags": []
          },
          "execution_count": 42
        }
      ]
    },
    {
      "cell_type": "markdown",
      "metadata": {
        "id": "l6Ca_5wvk0lR",
        "colab_type": "text"
      },
      "source": [
        "O método `info()` nos dá informações gerais sobre os índices e variáveis como quantidades, tipos de dados e memória usada pelo _data set_:"
      ]
    },
    {
      "cell_type": "code",
      "metadata": {
        "id": "R5cVRyxMk2Cd",
        "colab_type": "code",
        "outputId": "0ab71947-38d7-49a5-d770-15fc65df88e6",
        "colab": {
          "base_uri": "https://localhost:8080/",
          "height": 173
        }
      },
      "source": [
        "iris.info()"
      ],
      "execution_count": 0,
      "outputs": [
        {
          "output_type": "stream",
          "text": [
            "<class 'pandas.core.frame.DataFrame'>\n",
            "RangeIndex: 150 entries, 0 to 149\n",
            "Data columns (total 4 columns):\n",
            "sepal length (cm)    150 non-null float64\n",
            "sepal width (cm)     150 non-null float64\n",
            "petal length (cm)    150 non-null float64\n",
            "petal width (cm)     150 non-null float64\n",
            "dtypes: float64(4)\n",
            "memory usage: 4.8 KB\n"
          ],
          "name": "stdout"
        }
      ]
    },
    {
      "cell_type": "markdown",
      "metadata": {
        "id": "NcPw4bFIx32o",
        "colab_type": "text"
      },
      "source": [
        "Podemos também verificar os tipos de cada coluna através do atributo `dtype`:"
      ]
    },
    {
      "cell_type": "code",
      "metadata": {
        "id": "WJsri5exx-5c",
        "colab_type": "code",
        "colab": {}
      },
      "source": [
        "iris.dtype"
      ],
      "execution_count": 0,
      "outputs": []
    },
    {
      "cell_type": "markdown",
      "metadata": {
        "id": "WEsvH6qqyHOi",
        "colab_type": "text"
      },
      "source": [
        "Além disso, é possível selecionar somente as colunas que são de determinado tipo com o método`select_dtypes()`:"
      ]
    },
    {
      "cell_type": "code",
      "metadata": {
        "id": "Tb7euEeTyNmS",
        "colab_type": "code",
        "colab": {}
      },
      "source": [
        "iris.select_dtypes([\"int64\", \"float64\"]) # Retorna DataFrame."
      ],
      "execution_count": 0,
      "outputs": []
    },
    {
      "cell_type": "markdown",
      "metadata": {
        "id": "tv1rtF8COy_T",
        "colab_type": "text"
      },
      "source": [
        "## Operações sobre `DataFrame`\n",
        "\n",
        "Podemos utilizar todas funções definidas no NumPy (as chamadas `ufunc`) com `Series` e `DataFrame` do pandas. Aqui, vamos nos concentrar nos `DataFrame`.\n",
        "\n",
        "Como sempre, vamos começar recriando nosso dataframe de exemplo, mas agora a partir de quatro `Series`:"
      ]
    },
    {
      "cell_type": "code",
      "metadata": {
        "id": "qpZS4l1_PByJ",
        "colab_type": "code",
        "outputId": "98501554-f7cb-48cc-81ad-36bcf11cbbf5",
        "colab": {
          "base_uri": "https://localhost:8080/",
          "height": 175
        }
      },
      "source": [
        "series1 = pd.Series({\"Primeiro\": 1.0, \"Segundo\": 2, \"Terceiro\": 3.5, \"Quarto\": 4.0}) # Essa é a primeira coluna.\n",
        "series2 = pd.Series({\"Primeiro\": 1001.2, \"Segundo\": 998.0, \"Terceiro\": 777.8, \"Quarto\": 1002.3}) # Segunda coluna.\n",
        "series3 = series1 + 2 * series2 # Terceira coluna, mesma do exemplo anterior: col3 = col1 + 2 * col2.\n",
        "series4 = np.power(series1, 2) + series3 # Quarta coluna, mesma do exemplo anterior também: col4 = col1**2 + col3.\n",
        "\n",
        "dataframe = pd.DataFrame({\"Coluna1\": series1, \"Coluna2\": series2, \"Coluna3\": series3, \"Coluna4\": series4}) # Criando o DataFrame a partir das quatro Series.\n",
        "\n",
        "\n",
        "dataframe"
      ],
      "execution_count": 0,
      "outputs": [
        {
          "output_type": "execute_result",
          "data": {
            "text/html": [
              "<div>\n",
              "<style scoped>\n",
              "    .dataframe tbody tr th:only-of-type {\n",
              "        vertical-align: middle;\n",
              "    }\n",
              "\n",
              "    .dataframe tbody tr th {\n",
              "        vertical-align: top;\n",
              "    }\n",
              "\n",
              "    .dataframe thead th {\n",
              "        text-align: right;\n",
              "    }\n",
              "</style>\n",
              "<table border=\"1\" class=\"dataframe\">\n",
              "  <thead>\n",
              "    <tr style=\"text-align: right;\">\n",
              "      <th></th>\n",
              "      <th>Coluna1</th>\n",
              "      <th>Coluna2</th>\n",
              "      <th>Coluna3</th>\n",
              "      <th>Coluna4</th>\n",
              "    </tr>\n",
              "  </thead>\n",
              "  <tbody>\n",
              "    <tr>\n",
              "      <th>Primeiro</th>\n",
              "      <td>1.0</td>\n",
              "      <td>1001.2</td>\n",
              "      <td>2003.4</td>\n",
              "      <td>2004.40</td>\n",
              "    </tr>\n",
              "    <tr>\n",
              "      <th>Segundo</th>\n",
              "      <td>2.0</td>\n",
              "      <td>998.0</td>\n",
              "      <td>1998.0</td>\n",
              "      <td>2002.00</td>\n",
              "    </tr>\n",
              "    <tr>\n",
              "      <th>Terceiro</th>\n",
              "      <td>3.5</td>\n",
              "      <td>777.8</td>\n",
              "      <td>1559.1</td>\n",
              "      <td>1571.35</td>\n",
              "    </tr>\n",
              "    <tr>\n",
              "      <th>Quarto</th>\n",
              "      <td>4.0</td>\n",
              "      <td>1002.3</td>\n",
              "      <td>2008.6</td>\n",
              "      <td>2024.60</td>\n",
              "    </tr>\n",
              "  </tbody>\n",
              "</table>\n",
              "</div>"
            ],
            "text/plain": [
              "          Coluna1  Coluna2  Coluna3  Coluna4\n",
              "Primeiro      1.0   1001.2   2003.4  2004.40\n",
              "Segundo       2.0    998.0   1998.0  2002.00\n",
              "Terceiro      3.5    777.8   1559.1  1571.35\n",
              "Quarto        4.0   1002.3   2008.6  2024.60"
            ]
          },
          "metadata": {
            "tags": []
          },
          "execution_count": 44
        }
      ]
    },
    {
      "cell_type": "markdown",
      "metadata": {
        "id": "bp5Ac0R1P8He",
        "colab_type": "text"
      },
      "source": [
        "A parte mais importante de trabalhar com operações sobre `DataFrame` é lembrar que o pandas realiza as todas operações mantendo o índice sempre em mente:"
      ]
    },
    {
      "cell_type": "code",
      "metadata": {
        "id": "frizv-6vQLEi",
        "colab_type": "code",
        "outputId": "2874cc7a-0f86-49f3-9b16-33f92384e33a",
        "colab": {
          "base_uri": "https://localhost:8080/",
          "height": 86
        }
      },
      "source": [
        "dataframe.loc[[\"Terceiro\", \"Segundo\", \"Quarto\"], \"Coluna1\"] + dataframe.loc[[\"Quarto\", \"Terceiro\"], \"Coluna2\"]"
      ],
      "execution_count": 0,
      "outputs": [
        {
          "output_type": "execute_result",
          "data": {
            "text/plain": [
              "Quarto      1006.3\n",
              "Segundo        NaN\n",
              "Terceiro     781.3\n",
              "dtype: float64"
            ]
          },
          "metadata": {
            "tags": []
          },
          "execution_count": 45
        }
      ]
    },
    {
      "cell_type": "markdown",
      "metadata": {
        "id": "XUO3sDX1QmkZ",
        "colab_type": "text"
      },
      "source": [
        "Desse exemplo, podemos observar algumas coisas:\n",
        "\n",
        "* O pandas soube que devia somar a linha `Terceiro` com a linha `Terceiro` e a linha `Quarto` com a linha `Quarto`, independente da ordem em que essas linhas foram apresentadas no _fancy indexing_. Isso é o que chamamos de alinhamento dos índices.\n",
        "\n",
        "* O pandas também soube realizar a operação mesmo quando uma das linhas estava faltante (a linha `Segundo` do segundo `DataFrame`). Como veremos adiante `2.0 + NaN = NaN`.\n",
        "\n",
        "* Para acessar os `DataFrame` usando _fancy indexing_, utilizando o método `loc`.\n",
        "\n",
        "O pandas também disponibiliza alguns métodos básicos que permitem dar valores _default_ em caso de dados faltantes. Por exemplo, poderíamos ter realizado a operação acima, preenchendo com 1000.0 em todos lugares onde o operando é `NaN`:"
      ]
    },
    {
      "cell_type": "code",
      "metadata": {
        "id": "XzzPHEovRlvL",
        "colab_type": "code",
        "outputId": "2fdf0da7-3971-43fd-ac08-57426b9885af",
        "colab": {
          "base_uri": "https://localhost:8080/",
          "height": 86
        }
      },
      "source": [
        "dataframe.loc[[\"Terceiro\", \"Segundo\", \"Quarto\"], \"Coluna1\"].add(dataframe.loc[[\"Quarto\", \"Terceiro\"], \"Coluna2\"], fill_value=1000.0)"
      ],
      "execution_count": 0,
      "outputs": [
        {
          "output_type": "execute_result",
          "data": {
            "text/plain": [
              "Quarto      1006.3\n",
              "Segundo     1002.0\n",
              "Terceiro     781.3\n",
              "dtype: float64"
            ]
          },
          "metadata": {
            "tags": []
          },
          "execution_count": 46
        }
      ]
    },
    {
      "cell_type": "markdown",
      "metadata": {
        "id": "77sg4fdLJAe3",
        "colab_type": "text"
      },
      "source": [
        "Podemos criar, remover e renomear colunas:"
      ]
    },
    {
      "cell_type": "markdown",
      "metadata": {
        "id": "uP8hFjLMJDtx",
        "colab_type": "text"
      },
      "source": [
        "* Criando novas colunas:"
      ]
    },
    {
      "cell_type": "code",
      "metadata": {
        "id": "DVEliFxsJFNx",
        "colab_type": "code",
        "outputId": "ce5685f7-1664-4cdf-fa32-31bbbccdc96e",
        "colab": {
          "base_uri": "https://localhost:8080/",
          "height": 175
        }
      },
      "source": [
        "dataframe[\"NovaColuna\"] = np.random.rand(dataframe.shape[1])\n",
        "\n",
        "dataframe"
      ],
      "execution_count": 0,
      "outputs": [
        {
          "output_type": "execute_result",
          "data": {
            "text/html": [
              "<div>\n",
              "<style scoped>\n",
              "    .dataframe tbody tr th:only-of-type {\n",
              "        vertical-align: middle;\n",
              "    }\n",
              "\n",
              "    .dataframe tbody tr th {\n",
              "        vertical-align: top;\n",
              "    }\n",
              "\n",
              "    .dataframe thead th {\n",
              "        text-align: right;\n",
              "    }\n",
              "</style>\n",
              "<table border=\"1\" class=\"dataframe\">\n",
              "  <thead>\n",
              "    <tr style=\"text-align: right;\">\n",
              "      <th></th>\n",
              "      <th>Coluna1</th>\n",
              "      <th>Coluna2</th>\n",
              "      <th>Coluna3</th>\n",
              "      <th>Coluna4</th>\n",
              "      <th>NovaColuna</th>\n",
              "    </tr>\n",
              "  </thead>\n",
              "  <tbody>\n",
              "    <tr>\n",
              "      <th>Primeiro</th>\n",
              "      <td>1.0</td>\n",
              "      <td>1001.2</td>\n",
              "      <td>2003.4</td>\n",
              "      <td>2004.40</td>\n",
              "      <td>0.290200</td>\n",
              "    </tr>\n",
              "    <tr>\n",
              "      <th>Segundo</th>\n",
              "      <td>2.0</td>\n",
              "      <td>998.0</td>\n",
              "      <td>1998.0</td>\n",
              "      <td>2002.00</td>\n",
              "      <td>0.087065</td>\n",
              "    </tr>\n",
              "    <tr>\n",
              "      <th>Terceiro</th>\n",
              "      <td>3.5</td>\n",
              "      <td>777.8</td>\n",
              "      <td>1559.1</td>\n",
              "      <td>1571.35</td>\n",
              "      <td>0.872240</td>\n",
              "    </tr>\n",
              "    <tr>\n",
              "      <th>Quarto</th>\n",
              "      <td>4.0</td>\n",
              "      <td>1002.3</td>\n",
              "      <td>2008.6</td>\n",
              "      <td>2024.60</td>\n",
              "      <td>0.320613</td>\n",
              "    </tr>\n",
              "  </tbody>\n",
              "</table>\n",
              "</div>"
            ],
            "text/plain": [
              "          Coluna1  Coluna2  Coluna3  Coluna4  NovaColuna\n",
              "Primeiro      1.0   1001.2   2003.4  2004.40    0.290200\n",
              "Segundo       2.0    998.0   1998.0  2002.00    0.087065\n",
              "Terceiro      3.5    777.8   1559.1  1571.35    0.872240\n",
              "Quarto        4.0   1002.3   2008.6  2024.60    0.320613"
            ]
          },
          "metadata": {
            "tags": []
          },
          "execution_count": 47
        }
      ]
    },
    {
      "cell_type": "markdown",
      "metadata": {
        "id": "Efw1aoV8J6iK",
        "colab_type": "text"
      },
      "source": [
        "* Renomeando colunas:"
      ]
    },
    {
      "cell_type": "code",
      "metadata": {
        "id": "29QK7cR9J8fy",
        "colab_type": "code",
        "outputId": "080ffc1e-d588-4f23-9616-9338e09e2b04",
        "colab": {
          "base_uri": "https://localhost:8080/",
          "height": 175
        }
      },
      "source": [
        "dataframe.rename(columns={\"NovaColuna\": \"OutraColuna\"}, inplace=True)\n",
        "\n",
        "dataframe"
      ],
      "execution_count": 0,
      "outputs": [
        {
          "output_type": "execute_result",
          "data": {
            "text/html": [
              "<div>\n",
              "<style scoped>\n",
              "    .dataframe tbody tr th:only-of-type {\n",
              "        vertical-align: middle;\n",
              "    }\n",
              "\n",
              "    .dataframe tbody tr th {\n",
              "        vertical-align: top;\n",
              "    }\n",
              "\n",
              "    .dataframe thead th {\n",
              "        text-align: right;\n",
              "    }\n",
              "</style>\n",
              "<table border=\"1\" class=\"dataframe\">\n",
              "  <thead>\n",
              "    <tr style=\"text-align: right;\">\n",
              "      <th></th>\n",
              "      <th>Coluna1</th>\n",
              "      <th>Coluna2</th>\n",
              "      <th>Coluna3</th>\n",
              "      <th>Coluna4</th>\n",
              "      <th>OutraColuna</th>\n",
              "    </tr>\n",
              "  </thead>\n",
              "  <tbody>\n",
              "    <tr>\n",
              "      <th>Primeiro</th>\n",
              "      <td>1.0</td>\n",
              "      <td>1001.2</td>\n",
              "      <td>2003.4</td>\n",
              "      <td>2004.40</td>\n",
              "      <td>0.290200</td>\n",
              "    </tr>\n",
              "    <tr>\n",
              "      <th>Segundo</th>\n",
              "      <td>2.0</td>\n",
              "      <td>998.0</td>\n",
              "      <td>1998.0</td>\n",
              "      <td>2002.00</td>\n",
              "      <td>0.087065</td>\n",
              "    </tr>\n",
              "    <tr>\n",
              "      <th>Terceiro</th>\n",
              "      <td>3.5</td>\n",
              "      <td>777.8</td>\n",
              "      <td>1559.1</td>\n",
              "      <td>1571.35</td>\n",
              "      <td>0.872240</td>\n",
              "    </tr>\n",
              "    <tr>\n",
              "      <th>Quarto</th>\n",
              "      <td>4.0</td>\n",
              "      <td>1002.3</td>\n",
              "      <td>2008.6</td>\n",
              "      <td>2024.60</td>\n",
              "      <td>0.320613</td>\n",
              "    </tr>\n",
              "  </tbody>\n",
              "</table>\n",
              "</div>"
            ],
            "text/plain": [
              "          Coluna1  Coluna2  Coluna3  Coluna4  OutraColuna\n",
              "Primeiro      1.0   1001.2   2003.4  2004.40     0.290200\n",
              "Segundo       2.0    998.0   1998.0  2002.00     0.087065\n",
              "Terceiro      3.5    777.8   1559.1  1571.35     0.872240\n",
              "Quarto        4.0   1002.3   2008.6  2024.60     0.320613"
            ]
          },
          "metadata": {
            "tags": []
          },
          "execution_count": 48
        }
      ]
    },
    {
      "cell_type": "markdown",
      "metadata": {
        "id": "E5mUQppjJWhJ",
        "colab_type": "text"
      },
      "source": [
        "* Removendo colunas:"
      ]
    },
    {
      "cell_type": "code",
      "metadata": {
        "id": "vqEkioV1JYhh",
        "colab_type": "code",
        "outputId": "b18547dc-74b9-4804-a282-f24b6654917e",
        "colab": {
          "base_uri": "https://localhost:8080/",
          "height": 175
        }
      },
      "source": [
        "# Lembrando:\n",
        "# 1. Algumas operações como drop() retornam um novo DataFrame e não modificam o original.\n",
        "# 2. axis=1 significa ser relativo à coluna.\n",
        "dataframe = dataframe.drop(\"OutraColuna\", axis=1)\n",
        "\n",
        "dataframe"
      ],
      "execution_count": 0,
      "outputs": [
        {
          "output_type": "execute_result",
          "data": {
            "text/html": [
              "<div>\n",
              "<style scoped>\n",
              "    .dataframe tbody tr th:only-of-type {\n",
              "        vertical-align: middle;\n",
              "    }\n",
              "\n",
              "    .dataframe tbody tr th {\n",
              "        vertical-align: top;\n",
              "    }\n",
              "\n",
              "    .dataframe thead th {\n",
              "        text-align: right;\n",
              "    }\n",
              "</style>\n",
              "<table border=\"1\" class=\"dataframe\">\n",
              "  <thead>\n",
              "    <tr style=\"text-align: right;\">\n",
              "      <th></th>\n",
              "      <th>Coluna1</th>\n",
              "      <th>Coluna2</th>\n",
              "      <th>Coluna3</th>\n",
              "      <th>Coluna4</th>\n",
              "    </tr>\n",
              "  </thead>\n",
              "  <tbody>\n",
              "    <tr>\n",
              "      <th>Primeiro</th>\n",
              "      <td>1.0</td>\n",
              "      <td>1001.2</td>\n",
              "      <td>2003.4</td>\n",
              "      <td>2004.40</td>\n",
              "    </tr>\n",
              "    <tr>\n",
              "      <th>Segundo</th>\n",
              "      <td>2.0</td>\n",
              "      <td>998.0</td>\n",
              "      <td>1998.0</td>\n",
              "      <td>2002.00</td>\n",
              "    </tr>\n",
              "    <tr>\n",
              "      <th>Terceiro</th>\n",
              "      <td>3.5</td>\n",
              "      <td>777.8</td>\n",
              "      <td>1559.1</td>\n",
              "      <td>1571.35</td>\n",
              "    </tr>\n",
              "    <tr>\n",
              "      <th>Quarto</th>\n",
              "      <td>4.0</td>\n",
              "      <td>1002.3</td>\n",
              "      <td>2008.6</td>\n",
              "      <td>2024.60</td>\n",
              "    </tr>\n",
              "  </tbody>\n",
              "</table>\n",
              "</div>"
            ],
            "text/plain": [
              "          Coluna1  Coluna2  Coluna3  Coluna4\n",
              "Primeiro      1.0   1001.2   2003.4  2004.40\n",
              "Segundo       2.0    998.0   1998.0  2002.00\n",
              "Terceiro      3.5    777.8   1559.1  1571.35\n",
              "Quarto        4.0   1002.3   2008.6  2024.60"
            ]
          },
          "metadata": {
            "tags": []
          },
          "execution_count": 49
        }
      ]
    },
    {
      "cell_type": "markdown",
      "metadata": {
        "id": "fHBEy7qZSZUF",
        "colab_type": "text"
      },
      "source": [
        "## Dados faltantes\n",
        "\n",
        "Dados faltantes são uma realidade. Dificilmente trabalharemos com dados sempre 100% preenchidos, prontos para serem analisados.\n",
        "\n",
        "Os dados podem não estar presentes por vários motivos: impossibilidade de coleta, problema na armazenagem, dados descartados, inexistência etc. Saber trabalhar com dados faltantes é portanto essencial no dia a dia de um cientista de dados.\n",
        "\n",
        "O pandas considera tanto `None` - o valor nulo do Python - quanto `NaN` - adicionado pelo pandas - como representativos de dados faltantes."
      ]
    },
    {
      "cell_type": "markdown",
      "metadata": {
        "id": "A8njg03mUDTj",
        "colab_type": "text"
      },
      "source": [
        "Vamos começar falando do __`None`__.\n",
        "\n",
        "Considerar o valor nulo do Python, `None`, como dado faltante é extremamente conveniente. É comum que utilizemos fontes de dados que nos entreguem dados faltantes como `None`, sem nenhum processamento prévio (ou sem transformar para `NaN`, como próximo assunto), como no caso de bancos de dados, entradas de usuário, dados enviados através de uma API etc.\n",
        "\n",
        "As `Series` e `DataFrame` do pandas conseguem lidar com `None` simplesmente tratando-o como um `NaN`, com o efeito de ignorar o dado faltante:\n"
      ]
    },
    {
      "cell_type": "code",
      "metadata": {
        "id": "NpfQHqGrWvTo",
        "colab_type": "code",
        "outputId": "b40d08c7-8a37-4f02-9e0f-8af55a7e6bd7",
        "colab": {
          "base_uri": "https://localhost:8080/",
          "height": 34
        }
      },
      "source": [
        "pd.Series([1, 2, 3, None, 4]).sum() # 1 + 2 + 3 + 4 = 10."
      ],
      "execution_count": 0,
      "outputs": [
        {
          "output_type": "execute_result",
          "data": {
            "text/plain": [
              "10.0"
            ]
          },
          "metadata": {
            "tags": []
          },
          "execution_count": 50
        }
      ]
    },
    {
      "cell_type": "code",
      "metadata": {
        "id": "0tHTHZiVYDnZ",
        "colab_type": "code",
        "outputId": "60ee7dec-ee7c-41dc-caef-917953146d7e",
        "colab": {
          "base_uri": "https://localhost:8080/",
          "height": 34
        }
      },
      "source": [
        "pd.Series([1, 2, 3, None, 4]).mean() # (1 + 2 + 3 + 4) / 4 = 2.5."
      ],
      "execution_count": 0,
      "outputs": [
        {
          "output_type": "execute_result",
          "data": {
            "text/plain": [
              "2.5"
            ]
          },
          "metadata": {
            "tags": []
          },
          "execution_count": 51
        }
      ]
    },
    {
      "cell_type": "markdown",
      "metadata": {
        "id": "KV0I9Q73YTIa",
        "colab_type": "text"
      },
      "source": [
        "No entanto, vale manter em mente que enquanto isso é verdade para o pandas, não é verdade para o NumPy. Qualquer estrutura do NumPy que possua `None` nos seus elementos não conseguirá realizar suas operações:"
      ]
    },
    {
      "cell_type": "code",
      "metadata": {
        "id": "Q2kO6GrXYn5S",
        "colab_type": "code",
        "outputId": "d140b1e5-1336-40e8-e432-e2704b4c68c6",
        "colab": {
          "base_uri": "https://localhost:8080/",
          "height": 34
        }
      },
      "source": [
        "try:\n",
        "  np.array([1, 2, 3, None, 4]).sum()\n",
        "except TypeError as err:\n",
        "  print(f\"Exceção: \\\"TypeError: {err}\\\"\")"
      ],
      "execution_count": 0,
      "outputs": [
        {
          "output_type": "stream",
          "text": [
            "Exceção: \"TypeError: unsupported operand type(s) for +: 'int' and 'NoneType'\"\n"
          ],
          "name": "stdout"
        }
      ]
    },
    {
      "cell_type": "markdown",
      "metadata": {
        "id": "qYF5Awq6Z4TC",
        "colab_type": "text"
      },
      "source": [
        "Isso se deve ao fato de que um `None` presente faz com que o `array` se torne do tipo `Object`:"
      ]
    },
    {
      "cell_type": "code",
      "metadata": {
        "id": "pj_LLtFbaS4L",
        "colab_type": "code",
        "outputId": "4eb804e9-8a9d-474f-ad05-f2c9c5630487",
        "colab": {
          "base_uri": "https://localhost:8080/",
          "height": 34
        }
      },
      "source": [
        "np.array([1, 2, 3, None, 4]).dtype"
      ],
      "execution_count": 0,
      "outputs": [
        {
          "output_type": "execute_result",
          "data": {
            "text/plain": [
              "dtype('O')"
            ]
          },
          "metadata": {
            "tags": []
          },
          "execution_count": 53
        }
      ]
    },
    {
      "cell_type": "markdown",
      "metadata": {
        "id": "KR96U5OAamms",
        "colab_type": "text"
      },
      "source": [
        "A dica é bastante simples: evite trabalhar com `None` sempre que possível. Converta-os para `NaN` ou preencha-os com algum valor numérico, se fizer sentido."
      ]
    },
    {
      "cell_type": "markdown",
      "metadata": {
        "id": "ex2BE1PTVn7J",
        "colab_type": "text"
      },
      "source": [
        "Agora vamos falar do __`NaN`__.\n",
        "\n",
        "O tipo `NaN` (_Not A Number_) é um tipo de dado padronizado pela IEEE para representar valores em ponto flutuante (_floating point_, ou os clássicos \"números reais\" representados pelas máquinas) faltantes.\n",
        "\n",
        "O NumPy já apresenta essa noção:"
      ]
    },
    {
      "cell_type": "code",
      "metadata": {
        "id": "FEHwpjHUWWDB",
        "colab_type": "code",
        "outputId": "25db06c1-e70b-4618-b2c4-a48b07d8b256",
        "colab": {
          "base_uri": "https://localhost:8080/",
          "height": 34
        }
      },
      "source": [
        "np.nan"
      ],
      "execution_count": 0,
      "outputs": [
        {
          "output_type": "execute_result",
          "data": {
            "text/plain": [
              "nan"
            ]
          },
          "metadata": {
            "tags": []
          },
          "execution_count": 54
        }
      ]
    },
    {
      "cell_type": "markdown",
      "metadata": {
        "id": "MXVJVAllWYhy",
        "colab_type": "text"
      },
      "source": [
        "O `NaN` no NumPy porém tem seu inconveniente: tudo que ele toca se torna `NaN` também.\n",
        "\n",
        "Por exemplo:"
      ]
    },
    {
      "cell_type": "code",
      "metadata": {
        "id": "BAWJbOppbNsI",
        "colab_type": "code",
        "outputId": "1cc52224-5eb4-4d49-98da-d7b2637c9a70",
        "colab": {
          "base_uri": "https://localhost:8080/",
          "height": 86
        }
      },
      "source": [
        "print(1 + np.nan)\n",
        "\n",
        "print(np.array([1, 2, 3, np.nan, 4]).sum())\n",
        "\n",
        "print(np.array([1, 2, 3, np.nan, 4]).mean())\n",
        "\n",
        "print(\"...Batman!\")"
      ],
      "execution_count": 0,
      "outputs": [
        {
          "output_type": "stream",
          "text": [
            "nan\n",
            "nan\n",
            "nan\n",
            "...Batman!\n"
          ],
          "name": "stdout"
        }
      ]
    },
    {
      "cell_type": "markdown",
      "metadata": {
        "id": "bUoLz22Dc32i",
        "colab_type": "text"
      },
      "source": [
        "Como já vimos, o pandas consegue lidar melhor com ele, simplesmente ignorando-o.\n",
        "\n",
        "No pandas, os valores `None` e `NaN` são praticamente a mesma coisa. Sempre que possível, o pandas converte o tipo da estrutura de dados de um para o outro para acomodar o tipo mais genérico possível. Por exemplo:"
      ]
    },
    {
      "cell_type": "code",
      "metadata": {
        "id": "uG2VfJ57dVTx",
        "colab_type": "code",
        "outputId": "5df2e6ec-1eb3-4335-df91-ca2056acce3f",
        "colab": {
          "base_uri": "https://localhost:8080/",
          "height": 69
        }
      },
      "source": [
        "print(pd.Series([1, 2, 3, None, 4]).dtype) # None -> NaN e int -> float64.\n",
        "\n",
        "print(pd.Series([1, 2, 3, np.nan, 4]).dtype) # int -> float64.\n",
        "\n",
        "print(pd.Series([True, False, np.nan]).dtype) # Tudo se torna Object."
      ],
      "execution_count": 0,
      "outputs": [
        {
          "output_type": "stream",
          "text": [
            "float64\n",
            "float64\n",
            "object\n"
          ],
          "name": "stdout"
        }
      ]
    },
    {
      "cell_type": "markdown",
      "metadata": {
        "id": "iXHcq7rzeeG-",
        "colab_type": "text"
      },
      "source": [
        "Trabalhar com dados faltantes é facilitado pela presença de alguns métodos especializados: `isnull()`, `notnull()`, `dropna()` e `fillna()`.\n",
        "\n",
        "* `isnull()` (ou `isna()`) é útil para gerar uma máscara (sequência com valores booleanos) que pode ser usada para filtrar valores:"
      ]
    },
    {
      "cell_type": "code",
      "metadata": {
        "id": "PcRPUjZBe7wd",
        "colab_type": "code",
        "outputId": "1b617648-9821-4bbe-877b-06946923729a",
        "colab": {
          "base_uri": "https://localhost:8080/",
          "height": 139
        }
      },
      "source": [
        "pd.Series([1, 2, 3, np.nan, 4, None]).isnull() # True se for NaN ou None, False caso contrário."
      ],
      "execution_count": 0,
      "outputs": [
        {
          "output_type": "execute_result",
          "data": {
            "text/plain": [
              "0    False\n",
              "1    False\n",
              "2    False\n",
              "3     True\n",
              "4    False\n",
              "5     True\n",
              "dtype: bool"
            ]
          },
          "metadata": {
            "tags": []
          },
          "execution_count": 57
        }
      ]
    },
    {
      "cell_type": "markdown",
      "metadata": {
        "id": "PkOzMraLfdIi",
        "colab_type": "text"
      },
      "source": [
        "* `notnull()` (ou `notna()`) é o contrário de `isnull()` (ou `isna()`):"
      ]
    },
    {
      "cell_type": "code",
      "metadata": {
        "id": "vDV2ZYRbfh1z",
        "colab_type": "code",
        "outputId": "61edda64-960f-434a-f330-d174465bd9c4",
        "colab": {
          "base_uri": "https://localhost:8080/",
          "height": 139
        }
      },
      "source": [
        "pd.Series([1, 2, 3, np.nan, 4, None]).notnull() # True se não for NaN ou None, False caso contrário."
      ],
      "execution_count": 0,
      "outputs": [
        {
          "output_type": "execute_result",
          "data": {
            "text/plain": [
              "0     True\n",
              "1     True\n",
              "2     True\n",
              "3    False\n",
              "4     True\n",
              "5    False\n",
              "dtype: bool"
            ]
          },
          "metadata": {
            "tags": []
          },
          "execution_count": 58
        }
      ]
    },
    {
      "cell_type": "markdown",
      "metadata": {
        "id": "lqzKvIxvfrMJ",
        "colab_type": "text"
      },
      "source": [
        "* `dropna()` retorna uma versão sem `NaN`:"
      ]
    },
    {
      "cell_type": "code",
      "metadata": {
        "id": "KA1f86GSf0_u",
        "colab_type": "code",
        "outputId": "1fd6b46a-5912-49ee-a96c-88cc836d3142",
        "colab": {
          "base_uri": "https://localhost:8080/",
          "height": 104
        }
      },
      "source": [
        "pd.Series([1, 2, 3, np.nan, 4, None]).dropna()"
      ],
      "execution_count": 0,
      "outputs": [
        {
          "output_type": "execute_result",
          "data": {
            "text/plain": [
              "0    1.0\n",
              "1    2.0\n",
              "2    3.0\n",
              "4    4.0\n",
              "dtype: float64"
            ]
          },
          "metadata": {
            "tags": []
          },
          "execution_count": 59
        }
      ]
    },
    {
      "cell_type": "markdown",
      "metadata": {
        "id": "M1SL3s92f8Fa",
        "colab_type": "text"
      },
      "source": [
        "* `fillna()` nos permite preencher os valores `NaN` ou `None` com algum determinado valor:"
      ]
    },
    {
      "cell_type": "code",
      "metadata": {
        "id": "1Y5dXehOgFUZ",
        "colab_type": "code",
        "outputId": "88902ddb-4e26-41ea-a958-733ba0840bd1",
        "colab": {
          "base_uri": "https://localhost:8080/",
          "height": 139
        }
      },
      "source": [
        "pd.Series([1, 2, 3, np.nan, 4, None]).fillna(1000.0)"
      ],
      "execution_count": 0,
      "outputs": [
        {
          "output_type": "execute_result",
          "data": {
            "text/plain": [
              "0       1.0\n",
              "1       2.0\n",
              "2       3.0\n",
              "3    1000.0\n",
              "4       4.0\n",
              "5    1000.0\n",
              "dtype: float64"
            ]
          },
          "metadata": {
            "tags": []
          },
          "execution_count": 60
        }
      ]
    },
    {
      "cell_type": "markdown",
      "metadata": {
        "id": "poO2CJXvgXjE",
        "colab_type": "text"
      },
      "source": [
        "No caso de `DataFrame`, o `dropna()` permite especificar um eixo (_axis_):"
      ]
    },
    {
      "cell_type": "code",
      "metadata": {
        "id": "IaQN9OrYgiXh",
        "colab_type": "code",
        "outputId": "a524c00f-d615-4afc-923b-d675fb8cc0fe",
        "colab": {
          "base_uri": "https://localhost:8080/",
          "height": 175
        }
      },
      "source": [
        "series1 = pd.Series({\"Primeiro\": 1.0, \"Segundo\": 2, \"Terceiro\": 3.5, \"Quarto\": 4.0}) # Essa é a primeira coluna.\n",
        "series2 = pd.Series({\"Primeiro\": 1001.2, \"Segundo\": 998.2, \"Terceiro\": 777.8, \"Quarto\": 1002.3}) # Segunda coluna.\n",
        "series3 = series1 + 2 * series2 # Terceira coluna, mesma do exemplo anterior: col3 = col1 + 2 * col2.\n",
        "series4 = np.power(series1, 2) + series3 # Quarta coluna, mesma do exemplo anterior também: col4 = col1**2 + col3.\n",
        "\n",
        "series2[\"Segundo\"] = series3[\"Terceiro\"] = series4[\"Segundo\"] = np.nan\n",
        "\n",
        "dataframe = pd.DataFrame({\"Coluna1\": series1, \"Coluna2\": series2, \"Coluna3\": series3, \"Coluna4\": series4}) # Criando o DataFrame a partir das quatro Series.\n",
        "\n",
        "\n",
        "dataframe"
      ],
      "execution_count": 0,
      "outputs": [
        {
          "output_type": "execute_result",
          "data": {
            "text/html": [
              "<div>\n",
              "<style scoped>\n",
              "    .dataframe tbody tr th:only-of-type {\n",
              "        vertical-align: middle;\n",
              "    }\n",
              "\n",
              "    .dataframe tbody tr th {\n",
              "        vertical-align: top;\n",
              "    }\n",
              "\n",
              "    .dataframe thead th {\n",
              "        text-align: right;\n",
              "    }\n",
              "</style>\n",
              "<table border=\"1\" class=\"dataframe\">\n",
              "  <thead>\n",
              "    <tr style=\"text-align: right;\">\n",
              "      <th></th>\n",
              "      <th>Coluna1</th>\n",
              "      <th>Coluna2</th>\n",
              "      <th>Coluna3</th>\n",
              "      <th>Coluna4</th>\n",
              "    </tr>\n",
              "  </thead>\n",
              "  <tbody>\n",
              "    <tr>\n",
              "      <th>Primeiro</th>\n",
              "      <td>1.0</td>\n",
              "      <td>1001.2</td>\n",
              "      <td>2003.4</td>\n",
              "      <td>2004.40</td>\n",
              "    </tr>\n",
              "    <tr>\n",
              "      <th>Segundo</th>\n",
              "      <td>2.0</td>\n",
              "      <td>NaN</td>\n",
              "      <td>1998.4</td>\n",
              "      <td>NaN</td>\n",
              "    </tr>\n",
              "    <tr>\n",
              "      <th>Terceiro</th>\n",
              "      <td>3.5</td>\n",
              "      <td>777.8</td>\n",
              "      <td>NaN</td>\n",
              "      <td>1571.35</td>\n",
              "    </tr>\n",
              "    <tr>\n",
              "      <th>Quarto</th>\n",
              "      <td>4.0</td>\n",
              "      <td>1002.3</td>\n",
              "      <td>2008.6</td>\n",
              "      <td>2024.60</td>\n",
              "    </tr>\n",
              "  </tbody>\n",
              "</table>\n",
              "</div>"
            ],
            "text/plain": [
              "          Coluna1  Coluna2  Coluna3  Coluna4\n",
              "Primeiro      1.0   1001.2   2003.4  2004.40\n",
              "Segundo       2.0      NaN   1998.4      NaN\n",
              "Terceiro      3.5    777.8      NaN  1571.35\n",
              "Quarto        4.0   1002.3   2008.6  2024.60"
            ]
          },
          "metadata": {
            "tags": []
          },
          "execution_count": 61
        }
      ]
    },
    {
      "cell_type": "code",
      "metadata": {
        "id": "hS1PfyoYgrSo",
        "colab_type": "code",
        "outputId": "8141c5cc-afb0-4329-fb63-e9160ac49ed5",
        "colab": {
          "base_uri": "https://localhost:8080/",
          "height": 112
        }
      },
      "source": [
        "dataframe.dropna() # Remove todas linhas com NaN (mesmo que axis=0 abaixo)."
      ],
      "execution_count": 0,
      "outputs": [
        {
          "output_type": "execute_result",
          "data": {
            "text/html": [
              "<div>\n",
              "<style scoped>\n",
              "    .dataframe tbody tr th:only-of-type {\n",
              "        vertical-align: middle;\n",
              "    }\n",
              "\n",
              "    .dataframe tbody tr th {\n",
              "        vertical-align: top;\n",
              "    }\n",
              "\n",
              "    .dataframe thead th {\n",
              "        text-align: right;\n",
              "    }\n",
              "</style>\n",
              "<table border=\"1\" class=\"dataframe\">\n",
              "  <thead>\n",
              "    <tr style=\"text-align: right;\">\n",
              "      <th></th>\n",
              "      <th>Coluna1</th>\n",
              "      <th>Coluna2</th>\n",
              "      <th>Coluna3</th>\n",
              "      <th>Coluna4</th>\n",
              "    </tr>\n",
              "  </thead>\n",
              "  <tbody>\n",
              "    <tr>\n",
              "      <th>Primeiro</th>\n",
              "      <td>1.0</td>\n",
              "      <td>1001.2</td>\n",
              "      <td>2003.4</td>\n",
              "      <td>2004.4</td>\n",
              "    </tr>\n",
              "    <tr>\n",
              "      <th>Quarto</th>\n",
              "      <td>4.0</td>\n",
              "      <td>1002.3</td>\n",
              "      <td>2008.6</td>\n",
              "      <td>2024.6</td>\n",
              "    </tr>\n",
              "  </tbody>\n",
              "</table>\n",
              "</div>"
            ],
            "text/plain": [
              "          Coluna1  Coluna2  Coluna3  Coluna4\n",
              "Primeiro      1.0   1001.2   2003.4   2004.4\n",
              "Quarto        4.0   1002.3   2008.6   2024.6"
            ]
          },
          "metadata": {
            "tags": []
          },
          "execution_count": 62
        }
      ]
    },
    {
      "cell_type": "code",
      "metadata": {
        "id": "rTnyQIClg0qK",
        "colab_type": "code",
        "outputId": "9e6882c0-b722-4707-d65e-3c3b188dc712",
        "colab": {
          "base_uri": "https://localhost:8080/",
          "height": 112
        }
      },
      "source": [
        "dataframe.dropna(axis=0) # 0 significa linhas. Poderia ser axis='rows'."
      ],
      "execution_count": 0,
      "outputs": [
        {
          "output_type": "execute_result",
          "data": {
            "text/html": [
              "<div>\n",
              "<style scoped>\n",
              "    .dataframe tbody tr th:only-of-type {\n",
              "        vertical-align: middle;\n",
              "    }\n",
              "\n",
              "    .dataframe tbody tr th {\n",
              "        vertical-align: top;\n",
              "    }\n",
              "\n",
              "    .dataframe thead th {\n",
              "        text-align: right;\n",
              "    }\n",
              "</style>\n",
              "<table border=\"1\" class=\"dataframe\">\n",
              "  <thead>\n",
              "    <tr style=\"text-align: right;\">\n",
              "      <th></th>\n",
              "      <th>Coluna1</th>\n",
              "      <th>Coluna2</th>\n",
              "      <th>Coluna3</th>\n",
              "      <th>Coluna4</th>\n",
              "    </tr>\n",
              "  </thead>\n",
              "  <tbody>\n",
              "    <tr>\n",
              "      <th>Primeiro</th>\n",
              "      <td>1.0</td>\n",
              "      <td>1001.2</td>\n",
              "      <td>2003.4</td>\n",
              "      <td>2004.4</td>\n",
              "    </tr>\n",
              "    <tr>\n",
              "      <th>Quarto</th>\n",
              "      <td>4.0</td>\n",
              "      <td>1002.3</td>\n",
              "      <td>2008.6</td>\n",
              "      <td>2024.6</td>\n",
              "    </tr>\n",
              "  </tbody>\n",
              "</table>\n",
              "</div>"
            ],
            "text/plain": [
              "          Coluna1  Coluna2  Coluna3  Coluna4\n",
              "Primeiro      1.0   1001.2   2003.4   2004.4\n",
              "Quarto        4.0   1002.3   2008.6   2024.6"
            ]
          },
          "metadata": {
            "tags": []
          },
          "execution_count": 63
        }
      ]
    },
    {
      "cell_type": "code",
      "metadata": {
        "id": "7Q7iWKvOhWqU",
        "colab_type": "code",
        "outputId": "170310e1-071a-458d-968f-ca7696cd926d",
        "colab": {
          "base_uri": "https://localhost:8080/",
          "height": 175
        }
      },
      "source": [
        "dataframe.dropna(axis=1) # 1 significa colunas. Poderia ser axis='columns'"
      ],
      "execution_count": 0,
      "outputs": [
        {
          "output_type": "execute_result",
          "data": {
            "text/html": [
              "<div>\n",
              "<style scoped>\n",
              "    .dataframe tbody tr th:only-of-type {\n",
              "        vertical-align: middle;\n",
              "    }\n",
              "\n",
              "    .dataframe tbody tr th {\n",
              "        vertical-align: top;\n",
              "    }\n",
              "\n",
              "    .dataframe thead th {\n",
              "        text-align: right;\n",
              "    }\n",
              "</style>\n",
              "<table border=\"1\" class=\"dataframe\">\n",
              "  <thead>\n",
              "    <tr style=\"text-align: right;\">\n",
              "      <th></th>\n",
              "      <th>Coluna1</th>\n",
              "    </tr>\n",
              "  </thead>\n",
              "  <tbody>\n",
              "    <tr>\n",
              "      <th>Primeiro</th>\n",
              "      <td>1.0</td>\n",
              "    </tr>\n",
              "    <tr>\n",
              "      <th>Segundo</th>\n",
              "      <td>2.0</td>\n",
              "    </tr>\n",
              "    <tr>\n",
              "      <th>Terceiro</th>\n",
              "      <td>3.5</td>\n",
              "    </tr>\n",
              "    <tr>\n",
              "      <th>Quarto</th>\n",
              "      <td>4.0</td>\n",
              "    </tr>\n",
              "  </tbody>\n",
              "</table>\n",
              "</div>"
            ],
            "text/plain": [
              "          Coluna1\n",
              "Primeiro      1.0\n",
              "Segundo       2.0\n",
              "Terceiro      3.5\n",
              "Quarto        4.0"
            ]
          },
          "metadata": {
            "tags": []
          },
          "execution_count": 64
        }
      ]
    },
    {
      "cell_type": "code",
      "metadata": {
        "id": "GNCBfc5FiwmO",
        "colab_type": "code",
        "outputId": "c82e2cc9-4896-479d-ec1c-86b1af57a272",
        "colab": {
          "base_uri": "https://localhost:8080/",
          "height": 175
        }
      },
      "source": [
        "dataframe.fillna(1000.0) # Substitui todos NaN por 1000.0."
      ],
      "execution_count": 0,
      "outputs": [
        {
          "output_type": "execute_result",
          "data": {
            "text/html": [
              "<div>\n",
              "<style scoped>\n",
              "    .dataframe tbody tr th:only-of-type {\n",
              "        vertical-align: middle;\n",
              "    }\n",
              "\n",
              "    .dataframe tbody tr th {\n",
              "        vertical-align: top;\n",
              "    }\n",
              "\n",
              "    .dataframe thead th {\n",
              "        text-align: right;\n",
              "    }\n",
              "</style>\n",
              "<table border=\"1\" class=\"dataframe\">\n",
              "  <thead>\n",
              "    <tr style=\"text-align: right;\">\n",
              "      <th></th>\n",
              "      <th>Coluna1</th>\n",
              "      <th>Coluna2</th>\n",
              "      <th>Coluna3</th>\n",
              "      <th>Coluna4</th>\n",
              "    </tr>\n",
              "  </thead>\n",
              "  <tbody>\n",
              "    <tr>\n",
              "      <th>Primeiro</th>\n",
              "      <td>1.0</td>\n",
              "      <td>1001.2</td>\n",
              "      <td>2003.4</td>\n",
              "      <td>2004.40</td>\n",
              "    </tr>\n",
              "    <tr>\n",
              "      <th>Segundo</th>\n",
              "      <td>2.0</td>\n",
              "      <td>1000.0</td>\n",
              "      <td>1998.4</td>\n",
              "      <td>1000.00</td>\n",
              "    </tr>\n",
              "    <tr>\n",
              "      <th>Terceiro</th>\n",
              "      <td>3.5</td>\n",
              "      <td>777.8</td>\n",
              "      <td>1000.0</td>\n",
              "      <td>1571.35</td>\n",
              "    </tr>\n",
              "    <tr>\n",
              "      <th>Quarto</th>\n",
              "      <td>4.0</td>\n",
              "      <td>1002.3</td>\n",
              "      <td>2008.6</td>\n",
              "      <td>2024.60</td>\n",
              "    </tr>\n",
              "  </tbody>\n",
              "</table>\n",
              "</div>"
            ],
            "text/plain": [
              "          Coluna1  Coluna2  Coluna3  Coluna4\n",
              "Primeiro      1.0   1001.2   2003.4  2004.40\n",
              "Segundo       2.0   1000.0   1998.4  1000.00\n",
              "Terceiro      3.5    777.8   1000.0  1571.35\n",
              "Quarto        4.0   1002.3   2008.6  2024.60"
            ]
          },
          "metadata": {
            "tags": []
          },
          "execution_count": 65
        }
      ]
    },
    {
      "cell_type": "code",
      "metadata": {
        "id": "TqDRIt5nlFYu",
        "colab_type": "code",
        "outputId": "2198d7c1-3556-43e6-c95e-81df024ff474",
        "colab": {
          "base_uri": "https://localhost:8080/",
          "height": 175
        }
      },
      "source": [
        "dataframe.fillna(method='ffill') # Substitui o NaN pelo último valor não NaN naquela coluna."
      ],
      "execution_count": 0,
      "outputs": [
        {
          "output_type": "execute_result",
          "data": {
            "text/html": [
              "<div>\n",
              "<style scoped>\n",
              "    .dataframe tbody tr th:only-of-type {\n",
              "        vertical-align: middle;\n",
              "    }\n",
              "\n",
              "    .dataframe tbody tr th {\n",
              "        vertical-align: top;\n",
              "    }\n",
              "\n",
              "    .dataframe thead th {\n",
              "        text-align: right;\n",
              "    }\n",
              "</style>\n",
              "<table border=\"1\" class=\"dataframe\">\n",
              "  <thead>\n",
              "    <tr style=\"text-align: right;\">\n",
              "      <th></th>\n",
              "      <th>Coluna1</th>\n",
              "      <th>Coluna2</th>\n",
              "      <th>Coluna3</th>\n",
              "      <th>Coluna4</th>\n",
              "    </tr>\n",
              "  </thead>\n",
              "  <tbody>\n",
              "    <tr>\n",
              "      <th>Primeiro</th>\n",
              "      <td>1.0</td>\n",
              "      <td>1001.2</td>\n",
              "      <td>2003.4</td>\n",
              "      <td>2004.40</td>\n",
              "    </tr>\n",
              "    <tr>\n",
              "      <th>Segundo</th>\n",
              "      <td>2.0</td>\n",
              "      <td>1001.2</td>\n",
              "      <td>1998.4</td>\n",
              "      <td>2004.40</td>\n",
              "    </tr>\n",
              "    <tr>\n",
              "      <th>Terceiro</th>\n",
              "      <td>3.5</td>\n",
              "      <td>777.8</td>\n",
              "      <td>1998.4</td>\n",
              "      <td>1571.35</td>\n",
              "    </tr>\n",
              "    <tr>\n",
              "      <th>Quarto</th>\n",
              "      <td>4.0</td>\n",
              "      <td>1002.3</td>\n",
              "      <td>2008.6</td>\n",
              "      <td>2024.60</td>\n",
              "    </tr>\n",
              "  </tbody>\n",
              "</table>\n",
              "</div>"
            ],
            "text/plain": [
              "          Coluna1  Coluna2  Coluna3  Coluna4\n",
              "Primeiro      1.0   1001.2   2003.4  2004.40\n",
              "Segundo       2.0   1001.2   1998.4  2004.40\n",
              "Terceiro      3.5    777.8   1998.4  1571.35\n",
              "Quarto        4.0   1002.3   2008.6  2024.60"
            ]
          },
          "metadata": {
            "tags": []
          },
          "execution_count": 66
        }
      ]
    },
    {
      "cell_type": "code",
      "metadata": {
        "id": "wtKFF0oYlZpt",
        "colab_type": "code",
        "outputId": "dd4147d4-48ce-448e-b3d3-8ba2bb8a299b",
        "colab": {
          "base_uri": "https://localhost:8080/",
          "height": 175
        }
      },
      "source": [
        "dataframe.fillna(method='bfill') # Substitui o NaN pelo próximo valor não NaN naquela coluna."
      ],
      "execution_count": 0,
      "outputs": [
        {
          "output_type": "execute_result",
          "data": {
            "text/html": [
              "<div>\n",
              "<style scoped>\n",
              "    .dataframe tbody tr th:only-of-type {\n",
              "        vertical-align: middle;\n",
              "    }\n",
              "\n",
              "    .dataframe tbody tr th {\n",
              "        vertical-align: top;\n",
              "    }\n",
              "\n",
              "    .dataframe thead th {\n",
              "        text-align: right;\n",
              "    }\n",
              "</style>\n",
              "<table border=\"1\" class=\"dataframe\">\n",
              "  <thead>\n",
              "    <tr style=\"text-align: right;\">\n",
              "      <th></th>\n",
              "      <th>Coluna1</th>\n",
              "      <th>Coluna2</th>\n",
              "      <th>Coluna3</th>\n",
              "      <th>Coluna4</th>\n",
              "    </tr>\n",
              "  </thead>\n",
              "  <tbody>\n",
              "    <tr>\n",
              "      <th>Primeiro</th>\n",
              "      <td>1.0</td>\n",
              "      <td>1001.2</td>\n",
              "      <td>2003.4</td>\n",
              "      <td>2004.40</td>\n",
              "    </tr>\n",
              "    <tr>\n",
              "      <th>Segundo</th>\n",
              "      <td>2.0</td>\n",
              "      <td>777.8</td>\n",
              "      <td>1998.4</td>\n",
              "      <td>1571.35</td>\n",
              "    </tr>\n",
              "    <tr>\n",
              "      <th>Terceiro</th>\n",
              "      <td>3.5</td>\n",
              "      <td>777.8</td>\n",
              "      <td>2008.6</td>\n",
              "      <td>1571.35</td>\n",
              "    </tr>\n",
              "    <tr>\n",
              "      <th>Quarto</th>\n",
              "      <td>4.0</td>\n",
              "      <td>1002.3</td>\n",
              "      <td>2008.6</td>\n",
              "      <td>2024.60</td>\n",
              "    </tr>\n",
              "  </tbody>\n",
              "</table>\n",
              "</div>"
            ],
            "text/plain": [
              "          Coluna1  Coluna2  Coluna3  Coluna4\n",
              "Primeiro      1.0   1001.2   2003.4  2004.40\n",
              "Segundo       2.0    777.8   1998.4  1571.35\n",
              "Terceiro      3.5    777.8   2008.6  1571.35\n",
              "Quarto        4.0   1002.3   2008.6  2024.60"
            ]
          },
          "metadata": {
            "tags": []
          },
          "execution_count": 67
        }
      ]
    },
    {
      "cell_type": "markdown",
      "metadata": {
        "id": "3jgys1Xd6dnU",
        "colab_type": "text"
      },
      "source": [
        "Observem que essas operações acima não são _inplace_, ou seja, elas não modificam o `DataFrame` original, apenas retornam uma nova estrutura (`Series` ou `DataFrame`).\n",
        "\n",
        "Se quisermos substituir a segunda coluna de `dataframe` por sua versão onde os `NaN` são preenchidos pela média dos demais elementos da coluna, podemos executar o que segue:"
      ]
    },
    {
      "cell_type": "code",
      "metadata": {
        "id": "PfTsLB-J7INz",
        "colab_type": "code",
        "outputId": "e3571e4f-e583-4d09-d0bc-2ed3867a0c47",
        "colab": {
          "base_uri": "https://localhost:8080/",
          "height": 175
        }
      },
      "source": [
        "dataframe[\"Coluna2\"] = dataframe[\"Coluna2\"].fillna(dataframe[\"Coluna2\"].mean())\n",
        "\n",
        "dataframe"
      ],
      "execution_count": 0,
      "outputs": [
        {
          "output_type": "execute_result",
          "data": {
            "text/html": [
              "<div>\n",
              "<style scoped>\n",
              "    .dataframe tbody tr th:only-of-type {\n",
              "        vertical-align: middle;\n",
              "    }\n",
              "\n",
              "    .dataframe tbody tr th {\n",
              "        vertical-align: top;\n",
              "    }\n",
              "\n",
              "    .dataframe thead th {\n",
              "        text-align: right;\n",
              "    }\n",
              "</style>\n",
              "<table border=\"1\" class=\"dataframe\">\n",
              "  <thead>\n",
              "    <tr style=\"text-align: right;\">\n",
              "      <th></th>\n",
              "      <th>Coluna1</th>\n",
              "      <th>Coluna2</th>\n",
              "      <th>Coluna3</th>\n",
              "      <th>Coluna4</th>\n",
              "    </tr>\n",
              "  </thead>\n",
              "  <tbody>\n",
              "    <tr>\n",
              "      <th>Primeiro</th>\n",
              "      <td>1.0</td>\n",
              "      <td>1001.2</td>\n",
              "      <td>2003.4</td>\n",
              "      <td>2004.40</td>\n",
              "    </tr>\n",
              "    <tr>\n",
              "      <th>Segundo</th>\n",
              "      <td>2.0</td>\n",
              "      <td>927.1</td>\n",
              "      <td>1998.4</td>\n",
              "      <td>NaN</td>\n",
              "    </tr>\n",
              "    <tr>\n",
              "      <th>Terceiro</th>\n",
              "      <td>3.5</td>\n",
              "      <td>777.8</td>\n",
              "      <td>NaN</td>\n",
              "      <td>1571.35</td>\n",
              "    </tr>\n",
              "    <tr>\n",
              "      <th>Quarto</th>\n",
              "      <td>4.0</td>\n",
              "      <td>1002.3</td>\n",
              "      <td>2008.6</td>\n",
              "      <td>2024.60</td>\n",
              "    </tr>\n",
              "  </tbody>\n",
              "</table>\n",
              "</div>"
            ],
            "text/plain": [
              "          Coluna1  Coluna2  Coluna3  Coluna4\n",
              "Primeiro      1.0   1001.2   2003.4  2004.40\n",
              "Segundo       2.0    927.1   1998.4      NaN\n",
              "Terceiro      3.5    777.8      NaN  1571.35\n",
              "Quarto        4.0   1002.3   2008.6  2024.60"
            ]
          },
          "metadata": {
            "tags": []
          },
          "execution_count": 68
        }
      ]
    },
    {
      "cell_type": "markdown",
      "metadata": {
        "id": "UcGwWhq8mdQj",
        "colab_type": "text"
      },
      "source": [
        "## Unindo `DataFrame`\n",
        "\n",
        "Uma operação bastane cotidiana é unir diferentes fontes de dados para realizar uma análise. Para fazermos isso, vamos estudar três funções bastante importantes do pandas: `concat()` e `append()`. Outras duas funções também muito importantes, `merge()` e `join()`, não serão vistas aqui."
      ]
    },
    {
      "cell_type": "markdown",
      "metadata": {
        "id": "p7Mx5KV6m0e3",
        "colab_type": "text"
      },
      "source": [
        "A função `concat()` tem a responsabilidade de unir dois `DataFrame`, resultando em um único `DataFrame` de saída:"
      ]
    },
    {
      "cell_type": "code",
      "metadata": {
        "id": "cQprdsXtnFIS",
        "colab_type": "code",
        "outputId": "85c83094-4959-4220-9b26-30905d4ed63d",
        "colab": {
          "base_uri": "https://localhost:8080/",
          "height": 175
        }
      },
      "source": [
        "# dataframe1 é formado pelas duas primeiras colunas de dataframe do nosso exemplo anterior.\n",
        "series1 = pd.Series({\"Primeiro\": 1.0, \"Segundo\": 2, \"Terceiro\": 3.5, \"Quarto\": 4.0})\n",
        "series2 = pd.Series({\"Primeiro\": 1001.2, \"Segundo\": 998.0, \"Terceiro\": 777.8, \"Quarto\": 1002.3})\n",
        "\n",
        "dataframe1 = pd.DataFrame({\"Coluna1\": series1, \"Coluna2\": series2}) # Criando o DataFrame a partir das duas Series.\n",
        "\n",
        "dataframe1"
      ],
      "execution_count": 0,
      "outputs": [
        {
          "output_type": "execute_result",
          "data": {
            "text/html": [
              "<div>\n",
              "<style scoped>\n",
              "    .dataframe tbody tr th:only-of-type {\n",
              "        vertical-align: middle;\n",
              "    }\n",
              "\n",
              "    .dataframe tbody tr th {\n",
              "        vertical-align: top;\n",
              "    }\n",
              "\n",
              "    .dataframe thead th {\n",
              "        text-align: right;\n",
              "    }\n",
              "</style>\n",
              "<table border=\"1\" class=\"dataframe\">\n",
              "  <thead>\n",
              "    <tr style=\"text-align: right;\">\n",
              "      <th></th>\n",
              "      <th>Coluna1</th>\n",
              "      <th>Coluna2</th>\n",
              "    </tr>\n",
              "  </thead>\n",
              "  <tbody>\n",
              "    <tr>\n",
              "      <th>Primeiro</th>\n",
              "      <td>1.0</td>\n",
              "      <td>1001.2</td>\n",
              "    </tr>\n",
              "    <tr>\n",
              "      <th>Segundo</th>\n",
              "      <td>2.0</td>\n",
              "      <td>998.0</td>\n",
              "    </tr>\n",
              "    <tr>\n",
              "      <th>Terceiro</th>\n",
              "      <td>3.5</td>\n",
              "      <td>777.8</td>\n",
              "    </tr>\n",
              "    <tr>\n",
              "      <th>Quarto</th>\n",
              "      <td>4.0</td>\n",
              "      <td>1002.3</td>\n",
              "    </tr>\n",
              "  </tbody>\n",
              "</table>\n",
              "</div>"
            ],
            "text/plain": [
              "          Coluna1  Coluna2\n",
              "Primeiro      1.0   1001.2\n",
              "Segundo       2.0    998.0\n",
              "Terceiro      3.5    777.8\n",
              "Quarto        4.0   1002.3"
            ]
          },
          "metadata": {
            "tags": []
          },
          "execution_count": 69
        }
      ]
    },
    {
      "cell_type": "code",
      "metadata": {
        "id": "ELZ0Ar_inrJf",
        "colab_type": "code",
        "outputId": "bc14dee8-e548-4704-ca7b-cff380742a6c",
        "colab": {
          "base_uri": "https://localhost:8080/",
          "height": 175
        }
      },
      "source": [
        "# dataframe2 é formado pelas duas últimas colunas de dataframe do nosso exemplo anterior.\n",
        "series3 = series1 + 2 * series2\n",
        "series4 = np.power(series1, 2) + series3\n",
        "\n",
        "dataframe2 = pd.DataFrame({\"Coluna3\": series3, \"Coluna4\": series4})\n",
        "\n",
        "dataframe2"
      ],
      "execution_count": 0,
      "outputs": [
        {
          "output_type": "execute_result",
          "data": {
            "text/html": [
              "<div>\n",
              "<style scoped>\n",
              "    .dataframe tbody tr th:only-of-type {\n",
              "        vertical-align: middle;\n",
              "    }\n",
              "\n",
              "    .dataframe tbody tr th {\n",
              "        vertical-align: top;\n",
              "    }\n",
              "\n",
              "    .dataframe thead th {\n",
              "        text-align: right;\n",
              "    }\n",
              "</style>\n",
              "<table border=\"1\" class=\"dataframe\">\n",
              "  <thead>\n",
              "    <tr style=\"text-align: right;\">\n",
              "      <th></th>\n",
              "      <th>Coluna3</th>\n",
              "      <th>Coluna4</th>\n",
              "    </tr>\n",
              "  </thead>\n",
              "  <tbody>\n",
              "    <tr>\n",
              "      <th>Primeiro</th>\n",
              "      <td>2003.4</td>\n",
              "      <td>2004.40</td>\n",
              "    </tr>\n",
              "    <tr>\n",
              "      <th>Segundo</th>\n",
              "      <td>1998.0</td>\n",
              "      <td>2002.00</td>\n",
              "    </tr>\n",
              "    <tr>\n",
              "      <th>Terceiro</th>\n",
              "      <td>1559.1</td>\n",
              "      <td>1571.35</td>\n",
              "    </tr>\n",
              "    <tr>\n",
              "      <th>Quarto</th>\n",
              "      <td>2008.6</td>\n",
              "      <td>2024.60</td>\n",
              "    </tr>\n",
              "  </tbody>\n",
              "</table>\n",
              "</div>"
            ],
            "text/plain": [
              "          Coluna3  Coluna4\n",
              "Primeiro   2003.4  2004.40\n",
              "Segundo    1998.0  2002.00\n",
              "Terceiro   1559.1  1571.35\n",
              "Quarto     2008.6  2024.60"
            ]
          },
          "metadata": {
            "tags": []
          },
          "execution_count": 70
        }
      ]
    },
    {
      "cell_type": "code",
      "metadata": {
        "id": "6t--M76bn-3y",
        "colab_type": "code",
        "outputId": "21ad1e4d-9af3-427a-a768-691cace9a98b",
        "colab": {
          "base_uri": "https://localhost:8080/",
          "height": 175
        }
      },
      "source": [
        "pd.concat([dataframe1, dataframe2], axis=1)"
      ],
      "execution_count": 0,
      "outputs": [
        {
          "output_type": "execute_result",
          "data": {
            "text/html": [
              "<div>\n",
              "<style scoped>\n",
              "    .dataframe tbody tr th:only-of-type {\n",
              "        vertical-align: middle;\n",
              "    }\n",
              "\n",
              "    .dataframe tbody tr th {\n",
              "        vertical-align: top;\n",
              "    }\n",
              "\n",
              "    .dataframe thead th {\n",
              "        text-align: right;\n",
              "    }\n",
              "</style>\n",
              "<table border=\"1\" class=\"dataframe\">\n",
              "  <thead>\n",
              "    <tr style=\"text-align: right;\">\n",
              "      <th></th>\n",
              "      <th>Coluna1</th>\n",
              "      <th>Coluna2</th>\n",
              "      <th>Coluna3</th>\n",
              "      <th>Coluna4</th>\n",
              "    </tr>\n",
              "  </thead>\n",
              "  <tbody>\n",
              "    <tr>\n",
              "      <th>Primeiro</th>\n",
              "      <td>1.0</td>\n",
              "      <td>1001.2</td>\n",
              "      <td>2003.4</td>\n",
              "      <td>2004.40</td>\n",
              "    </tr>\n",
              "    <tr>\n",
              "      <th>Segundo</th>\n",
              "      <td>2.0</td>\n",
              "      <td>998.0</td>\n",
              "      <td>1998.0</td>\n",
              "      <td>2002.00</td>\n",
              "    </tr>\n",
              "    <tr>\n",
              "      <th>Terceiro</th>\n",
              "      <td>3.5</td>\n",
              "      <td>777.8</td>\n",
              "      <td>1559.1</td>\n",
              "      <td>1571.35</td>\n",
              "    </tr>\n",
              "    <tr>\n",
              "      <th>Quarto</th>\n",
              "      <td>4.0</td>\n",
              "      <td>1002.3</td>\n",
              "      <td>2008.6</td>\n",
              "      <td>2024.60</td>\n",
              "    </tr>\n",
              "  </tbody>\n",
              "</table>\n",
              "</div>"
            ],
            "text/plain": [
              "          Coluna1  Coluna2  Coluna3  Coluna4\n",
              "Primeiro      1.0   1001.2   2003.4  2004.40\n",
              "Segundo       2.0    998.0   1998.0  2002.00\n",
              "Terceiro      3.5    777.8   1559.1  1571.35\n",
              "Quarto        4.0   1002.3   2008.6  2024.60"
            ]
          },
          "metadata": {
            "tags": []
          },
          "execution_count": 71
        }
      ]
    },
    {
      "cell_type": "markdown",
      "metadata": {
        "id": "wcsGpWxkohg5",
        "colab_type": "text"
      },
      "source": [
        "Por _default_, `concat()` tenta fazer a concatenação na direção das linhas, mas para isso precisa que as colunas estejam alinhadas (tenham o mesmo nome):"
      ]
    },
    {
      "cell_type": "code",
      "metadata": {
        "id": "2AZ_ng-xoqiH",
        "colab_type": "code",
        "outputId": "16164483-fbb8-4192-f5c0-75d74d915771",
        "colab": {
          "base_uri": "https://localhost:8080/",
          "height": 175
        }
      },
      "source": [
        "dataframe2.columns = [\"Coluna1\", \"Coluna2\"]\n",
        "\n",
        "dataframe2"
      ],
      "execution_count": 0,
      "outputs": [
        {
          "output_type": "execute_result",
          "data": {
            "text/html": [
              "<div>\n",
              "<style scoped>\n",
              "    .dataframe tbody tr th:only-of-type {\n",
              "        vertical-align: middle;\n",
              "    }\n",
              "\n",
              "    .dataframe tbody tr th {\n",
              "        vertical-align: top;\n",
              "    }\n",
              "\n",
              "    .dataframe thead th {\n",
              "        text-align: right;\n",
              "    }\n",
              "</style>\n",
              "<table border=\"1\" class=\"dataframe\">\n",
              "  <thead>\n",
              "    <tr style=\"text-align: right;\">\n",
              "      <th></th>\n",
              "      <th>Coluna1</th>\n",
              "      <th>Coluna2</th>\n",
              "    </tr>\n",
              "  </thead>\n",
              "  <tbody>\n",
              "    <tr>\n",
              "      <th>Primeiro</th>\n",
              "      <td>2003.4</td>\n",
              "      <td>2004.40</td>\n",
              "    </tr>\n",
              "    <tr>\n",
              "      <th>Segundo</th>\n",
              "      <td>1998.0</td>\n",
              "      <td>2002.00</td>\n",
              "    </tr>\n",
              "    <tr>\n",
              "      <th>Terceiro</th>\n",
              "      <td>1559.1</td>\n",
              "      <td>1571.35</td>\n",
              "    </tr>\n",
              "    <tr>\n",
              "      <th>Quarto</th>\n",
              "      <td>2008.6</td>\n",
              "      <td>2024.60</td>\n",
              "    </tr>\n",
              "  </tbody>\n",
              "</table>\n",
              "</div>"
            ],
            "text/plain": [
              "          Coluna1  Coluna2\n",
              "Primeiro   2003.4  2004.40\n",
              "Segundo    1998.0  2002.00\n",
              "Terceiro   1559.1  1571.35\n",
              "Quarto     2008.6  2024.60"
            ]
          },
          "metadata": {
            "tags": []
          },
          "execution_count": 72
        }
      ]
    },
    {
      "cell_type": "code",
      "metadata": {
        "id": "KrxsRfyFo0OB",
        "colab_type": "code",
        "outputId": "1d628729-e309-4e78-b993-3fe7a91d1212",
        "colab": {
          "base_uri": "https://localhost:8080/",
          "height": 300
        }
      },
      "source": [
        "pd.concat([dataframe1, dataframe2]) # Mesmo que axis=0."
      ],
      "execution_count": 0,
      "outputs": [
        {
          "output_type": "execute_result",
          "data": {
            "text/html": [
              "<div>\n",
              "<style scoped>\n",
              "    .dataframe tbody tr th:only-of-type {\n",
              "        vertical-align: middle;\n",
              "    }\n",
              "\n",
              "    .dataframe tbody tr th {\n",
              "        vertical-align: top;\n",
              "    }\n",
              "\n",
              "    .dataframe thead th {\n",
              "        text-align: right;\n",
              "    }\n",
              "</style>\n",
              "<table border=\"1\" class=\"dataframe\">\n",
              "  <thead>\n",
              "    <tr style=\"text-align: right;\">\n",
              "      <th></th>\n",
              "      <th>Coluna1</th>\n",
              "      <th>Coluna2</th>\n",
              "    </tr>\n",
              "  </thead>\n",
              "  <tbody>\n",
              "    <tr>\n",
              "      <th>Primeiro</th>\n",
              "      <td>1.0</td>\n",
              "      <td>1001.20</td>\n",
              "    </tr>\n",
              "    <tr>\n",
              "      <th>Segundo</th>\n",
              "      <td>2.0</td>\n",
              "      <td>998.00</td>\n",
              "    </tr>\n",
              "    <tr>\n",
              "      <th>Terceiro</th>\n",
              "      <td>3.5</td>\n",
              "      <td>777.80</td>\n",
              "    </tr>\n",
              "    <tr>\n",
              "      <th>Quarto</th>\n",
              "      <td>4.0</td>\n",
              "      <td>1002.30</td>\n",
              "    </tr>\n",
              "    <tr>\n",
              "      <th>Primeiro</th>\n",
              "      <td>2003.4</td>\n",
              "      <td>2004.40</td>\n",
              "    </tr>\n",
              "    <tr>\n",
              "      <th>Segundo</th>\n",
              "      <td>1998.0</td>\n",
              "      <td>2002.00</td>\n",
              "    </tr>\n",
              "    <tr>\n",
              "      <th>Terceiro</th>\n",
              "      <td>1559.1</td>\n",
              "      <td>1571.35</td>\n",
              "    </tr>\n",
              "    <tr>\n",
              "      <th>Quarto</th>\n",
              "      <td>2008.6</td>\n",
              "      <td>2024.60</td>\n",
              "    </tr>\n",
              "  </tbody>\n",
              "</table>\n",
              "</div>"
            ],
            "text/plain": [
              "          Coluna1  Coluna2\n",
              "Primeiro      1.0  1001.20\n",
              "Segundo       2.0   998.00\n",
              "Terceiro      3.5   777.80\n",
              "Quarto        4.0  1002.30\n",
              "Primeiro   2003.4  2004.40\n",
              "Segundo    1998.0  2002.00\n",
              "Terceiro   1559.1  1571.35\n",
              "Quarto     2008.6  2024.60"
            ]
          },
          "metadata": {
            "tags": []
          },
          "execution_count": 73
        }
      ]
    },
    {
      "cell_type": "markdown",
      "metadata": {
        "id": "OPSH2fVRpjvJ",
        "colab_type": "text"
      },
      "source": [
        "Note como os índices da concatenação acima aparecem repetidos. Isso acontece porque por _default_ o `concat()` força a concatenação, não importando os índices. Isso pode ser evitado com a _flag_ `verify_integrity`. Quando ela está setada para `True`, o `concat()` se recusa a fazer a concatenação e levanta uma exceção `ValueError`:"
      ]
    },
    {
      "cell_type": "code",
      "metadata": {
        "id": "nlGX47Udp1yL",
        "colab_type": "code",
        "outputId": "d81ddedf-9ddf-4ef5-a105-dd704f0d1b56",
        "colab": {
          "base_uri": "https://localhost:8080/",
          "height": 34
        }
      },
      "source": [
        "try:\n",
        "  pd.concat([dataframe1, dataframe2], verify_integrity=True)\n",
        "except ValueError as err:\n",
        "  print(f\"Exceção: \\\"ValueError: {err}\\\"\")"
      ],
      "execution_count": 0,
      "outputs": [
        {
          "output_type": "stream",
          "text": [
            "Exceção: \"ValueError: Indexes have overlapping values: Index(['Primeiro', 'Segundo', 'Terceiro', 'Quarto'], dtype='object')\"\n"
          ],
          "name": "stdout"
        }
      ]
    },
    {
      "cell_type": "markdown",
      "metadata": {
        "id": "bwMMKaSwqRr-",
        "colab_type": "text"
      },
      "source": [
        "Podemos adicionar a _flag_ `ignore_index` para fazer com que o `concat()` gere novos índices em caso de índices repetidos:"
      ]
    },
    {
      "cell_type": "code",
      "metadata": {
        "id": "rRsLX-eXqcRV",
        "colab_type": "code",
        "outputId": "5e378cdc-f346-4b97-a69b-a121b1f672a4",
        "colab": {
          "base_uri": "https://localhost:8080/",
          "height": 300
        }
      },
      "source": [
        "pd.concat([dataframe1, dataframe2], ignore_index=True)"
      ],
      "execution_count": 0,
      "outputs": [
        {
          "output_type": "execute_result",
          "data": {
            "text/html": [
              "<div>\n",
              "<style scoped>\n",
              "    .dataframe tbody tr th:only-of-type {\n",
              "        vertical-align: middle;\n",
              "    }\n",
              "\n",
              "    .dataframe tbody tr th {\n",
              "        vertical-align: top;\n",
              "    }\n",
              "\n",
              "    .dataframe thead th {\n",
              "        text-align: right;\n",
              "    }\n",
              "</style>\n",
              "<table border=\"1\" class=\"dataframe\">\n",
              "  <thead>\n",
              "    <tr style=\"text-align: right;\">\n",
              "      <th></th>\n",
              "      <th>Coluna1</th>\n",
              "      <th>Coluna2</th>\n",
              "    </tr>\n",
              "  </thead>\n",
              "  <tbody>\n",
              "    <tr>\n",
              "      <th>0</th>\n",
              "      <td>1.0</td>\n",
              "      <td>1001.20</td>\n",
              "    </tr>\n",
              "    <tr>\n",
              "      <th>1</th>\n",
              "      <td>2.0</td>\n",
              "      <td>998.00</td>\n",
              "    </tr>\n",
              "    <tr>\n",
              "      <th>2</th>\n",
              "      <td>3.5</td>\n",
              "      <td>777.80</td>\n",
              "    </tr>\n",
              "    <tr>\n",
              "      <th>3</th>\n",
              "      <td>4.0</td>\n",
              "      <td>1002.30</td>\n",
              "    </tr>\n",
              "    <tr>\n",
              "      <th>4</th>\n",
              "      <td>2003.4</td>\n",
              "      <td>2004.40</td>\n",
              "    </tr>\n",
              "    <tr>\n",
              "      <th>5</th>\n",
              "      <td>1998.0</td>\n",
              "      <td>2002.00</td>\n",
              "    </tr>\n",
              "    <tr>\n",
              "      <th>6</th>\n",
              "      <td>1559.1</td>\n",
              "      <td>1571.35</td>\n",
              "    </tr>\n",
              "    <tr>\n",
              "      <th>7</th>\n",
              "      <td>2008.6</td>\n",
              "      <td>2024.60</td>\n",
              "    </tr>\n",
              "  </tbody>\n",
              "</table>\n",
              "</div>"
            ],
            "text/plain": [
              "   Coluna1  Coluna2\n",
              "0      1.0  1001.20\n",
              "1      2.0   998.00\n",
              "2      3.5   777.80\n",
              "3      4.0  1002.30\n",
              "4   2003.4  2004.40\n",
              "5   1998.0  2002.00\n",
              "6   1559.1  1571.35\n",
              "7   2008.6  2024.60"
            ]
          },
          "metadata": {
            "tags": []
          },
          "execution_count": 75
        }
      ]
    },
    {
      "cell_type": "markdown",
      "metadata": {
        "id": "I6cV2KsUq7ZH",
        "colab_type": "text"
      },
      "source": [
        "O mesmo trabalho da função `concat()` pode ser obtido com o método `append` do `DataFrame`:"
      ]
    },
    {
      "cell_type": "code",
      "metadata": {
        "id": "JHP7HxGHrAjB",
        "colab_type": "code",
        "outputId": "9116b39d-0380-41fd-f005-69452b5a50bd",
        "colab": {
          "base_uri": "https://localhost:8080/",
          "height": 300
        }
      },
      "source": [
        "dataframe1.append(dataframe2, ignore_index=True)"
      ],
      "execution_count": 0,
      "outputs": [
        {
          "output_type": "execute_result",
          "data": {
            "text/html": [
              "<div>\n",
              "<style scoped>\n",
              "    .dataframe tbody tr th:only-of-type {\n",
              "        vertical-align: middle;\n",
              "    }\n",
              "\n",
              "    .dataframe tbody tr th {\n",
              "        vertical-align: top;\n",
              "    }\n",
              "\n",
              "    .dataframe thead th {\n",
              "        text-align: right;\n",
              "    }\n",
              "</style>\n",
              "<table border=\"1\" class=\"dataframe\">\n",
              "  <thead>\n",
              "    <tr style=\"text-align: right;\">\n",
              "      <th></th>\n",
              "      <th>Coluna1</th>\n",
              "      <th>Coluna2</th>\n",
              "    </tr>\n",
              "  </thead>\n",
              "  <tbody>\n",
              "    <tr>\n",
              "      <th>0</th>\n",
              "      <td>1.0</td>\n",
              "      <td>1001.20</td>\n",
              "    </tr>\n",
              "    <tr>\n",
              "      <th>1</th>\n",
              "      <td>2.0</td>\n",
              "      <td>998.00</td>\n",
              "    </tr>\n",
              "    <tr>\n",
              "      <th>2</th>\n",
              "      <td>3.5</td>\n",
              "      <td>777.80</td>\n",
              "    </tr>\n",
              "    <tr>\n",
              "      <th>3</th>\n",
              "      <td>4.0</td>\n",
              "      <td>1002.30</td>\n",
              "    </tr>\n",
              "    <tr>\n",
              "      <th>4</th>\n",
              "      <td>2003.4</td>\n",
              "      <td>2004.40</td>\n",
              "    </tr>\n",
              "    <tr>\n",
              "      <th>5</th>\n",
              "      <td>1998.0</td>\n",
              "      <td>2002.00</td>\n",
              "    </tr>\n",
              "    <tr>\n",
              "      <th>6</th>\n",
              "      <td>1559.1</td>\n",
              "      <td>1571.35</td>\n",
              "    </tr>\n",
              "    <tr>\n",
              "      <th>7</th>\n",
              "      <td>2008.6</td>\n",
              "      <td>2024.60</td>\n",
              "    </tr>\n",
              "  </tbody>\n",
              "</table>\n",
              "</div>"
            ],
            "text/plain": [
              "   Coluna1  Coluna2\n",
              "0      1.0  1001.20\n",
              "1      2.0   998.00\n",
              "2      3.5   777.80\n",
              "3      4.0  1002.30\n",
              "4   2003.4  2004.40\n",
              "5   1998.0  2002.00\n",
              "6   1559.1  1571.35\n",
              "7   2008.6  2024.60"
            ]
          },
          "metadata": {
            "tags": []
          },
          "execution_count": 76
        }
      ]
    },
    {
      "cell_type": "markdown",
      "metadata": {
        "id": "cyhDehOKrOjo",
        "colab_type": "text"
      },
      "source": [
        "Importante notar que o método `append()` retorna uma nova cópia do resultado da concatenação. Isso faz com que ele não seja exatamente eficiente ou rápido. Em caso de múltiplas concatenações (múltiplos `DataFrame`), prefira utilizar a função `concat()`."
      ]
    },
    {
      "cell_type": "markdown",
      "metadata": {
        "id": "NQKTvWWY845m",
        "colab_type": "text"
      },
      "source": [
        "## Processamento com `groupby()`\n",
        "\n",
        "É comum precisarmos fazer processamentos em dados que devem ser agrupados segundo algum critério. Por exemplo, considere o `DataFrame` abaixo:"
      ]
    },
    {
      "cell_type": "code",
      "metadata": {
        "id": "0_5-0m1r9YpV",
        "colab_type": "code",
        "outputId": "f5230951-a391-4b09-a348-a593574a3c63",
        "colab": {
          "base_uri": "https://localhost:8080/",
          "height": 175
        }
      },
      "source": [
        "courses = pd.Series([\"math\", \"bio\", \"bio\", \"math\"])\n",
        "names = pd.Series([\"João\", \"Maria\", \"Renato\", \"Camila\"])\n",
        "ages = pd.Series([20, 32, 45, 22])\n",
        "heights = pd.Series([170, 167, 165, 172])\n",
        "\n",
        "students = pd.DataFrame({\"course\": courses, \"names\": names, \"ages\": ages, \"heights\": heights})\n",
        "\n",
        "students"
      ],
      "execution_count": 0,
      "outputs": [
        {
          "output_type": "execute_result",
          "data": {
            "text/html": [
              "<div>\n",
              "<style scoped>\n",
              "    .dataframe tbody tr th:only-of-type {\n",
              "        vertical-align: middle;\n",
              "    }\n",
              "\n",
              "    .dataframe tbody tr th {\n",
              "        vertical-align: top;\n",
              "    }\n",
              "\n",
              "    .dataframe thead th {\n",
              "        text-align: right;\n",
              "    }\n",
              "</style>\n",
              "<table border=\"1\" class=\"dataframe\">\n",
              "  <thead>\n",
              "    <tr style=\"text-align: right;\">\n",
              "      <th></th>\n",
              "      <th>course</th>\n",
              "      <th>names</th>\n",
              "      <th>ages</th>\n",
              "      <th>heights</th>\n",
              "    </tr>\n",
              "  </thead>\n",
              "  <tbody>\n",
              "    <tr>\n",
              "      <th>0</th>\n",
              "      <td>math</td>\n",
              "      <td>João</td>\n",
              "      <td>20</td>\n",
              "      <td>170</td>\n",
              "    </tr>\n",
              "    <tr>\n",
              "      <th>1</th>\n",
              "      <td>bio</td>\n",
              "      <td>Maria</td>\n",
              "      <td>32</td>\n",
              "      <td>167</td>\n",
              "    </tr>\n",
              "    <tr>\n",
              "      <th>2</th>\n",
              "      <td>bio</td>\n",
              "      <td>Renato</td>\n",
              "      <td>45</td>\n",
              "      <td>165</td>\n",
              "    </tr>\n",
              "    <tr>\n",
              "      <th>3</th>\n",
              "      <td>math</td>\n",
              "      <td>Camila</td>\n",
              "      <td>22</td>\n",
              "      <td>172</td>\n",
              "    </tr>\n",
              "  </tbody>\n",
              "</table>\n",
              "</div>"
            ],
            "text/plain": [
              "  course   names  ages  heights\n",
              "0   math    João    20      170\n",
              "1    bio   Maria    32      167\n",
              "2    bio  Renato    45      165\n",
              "3   math  Camila    22      172"
            ]
          },
          "metadata": {
            "tags": []
          },
          "execution_count": 77
        }
      ]
    },
    {
      "cell_type": "markdown",
      "metadata": {
        "id": "jMWVmwy3-fN2",
        "colab_type": "text"
      },
      "source": [
        "Já vimos que podemos tirar diversas estatísticas a partir de dados como esses:"
      ]
    },
    {
      "cell_type": "code",
      "metadata": {
        "id": "H788Ca76-uM3",
        "colab_type": "code",
        "outputId": "c8a4c31c-5ea7-42e7-86cc-057f3cf142ff",
        "colab": {
          "base_uri": "https://localhost:8080/",
          "height": 52
        }
      },
      "source": [
        "print(f\"soma das idades: {students['ages'].sum()}\") # Ou students.ages.sum().\n",
        "\n",
        "print(f\"Média das alturas: {students['heights'].mean()}\") # students.heights.mean(). "
      ],
      "execution_count": 0,
      "outputs": [
        {
          "output_type": "stream",
          "text": [
            "soma das idades: 119\n",
            "Média das alturas: 168.5\n"
          ],
          "name": "stdout"
        }
      ]
    },
    {
      "cell_type": "markdown",
      "metadata": {
        "id": "Jm0n3WzU_cwh",
        "colab_type": "text"
      },
      "source": [
        "Mas e se precisarmos achar a soma das idades dos alunos de cada curso? Ou a média das alturas dos alunos de cada curso? Entra em cena o `groupby()`.\n",
        "\n",
        "O método `groupby(key)` do `DataFrame` cria um novo objeto (da classe `DataFrameGroupBy`) que funciona como uma coleção de `DataFrame` onde os elementos estão agrupados por uma determinada `key`."
      ]
    },
    {
      "cell_type": "code",
      "metadata": {
        "id": "T3fDJbVZBXlV",
        "colab_type": "code",
        "outputId": "f8a3a604-709b-4f48-f597-a05c4177db46",
        "colab": {
          "base_uri": "https://localhost:8080/",
          "height": 34
        }
      },
      "source": [
        "students_grouped = students.groupby(\"course\")\n",
        "\n",
        "students_grouped"
      ],
      "execution_count": 0,
      "outputs": [
        {
          "output_type": "execute_result",
          "data": {
            "text/plain": [
              "<pandas.core.groupby.generic.DataFrameGroupBy object at 0x7f4ec8aaf160>"
            ]
          },
          "metadata": {
            "tags": []
          },
          "execution_count": 79
        }
      ]
    },
    {
      "cell_type": "markdown",
      "metadata": {
        "id": "ErYNt6AeBZ6Y",
        "colab_type": "text"
      },
      "source": [
        "Vamos ver isso mais de perto:"
      ]
    },
    {
      "cell_type": "code",
      "metadata": {
        "id": "V0HfHka3AWM8",
        "colab_type": "code",
        "outputId": "9522a405-8776-493a-a3e9-cae5aaa17403",
        "colab": {
          "base_uri": "https://localhost:8080/",
          "height": 225
        }
      },
      "source": [
        "for course, dataframe in students.groupby(\"course\"):\n",
        "  print(f\"Curso: {course}\\n\")\n",
        "  print(dataframe)\n",
        "  print()"
      ],
      "execution_count": 0,
      "outputs": [
        {
          "output_type": "stream",
          "text": [
            "Curso: bio\n",
            "\n",
            "  course   names  ages  heights\n",
            "1    bio   Maria    32      167\n",
            "2    bio  Renato    45      165\n",
            "\n",
            "Curso: math\n",
            "\n",
            "  course   names  ages  heights\n",
            "0   math    João    20      170\n",
            "3   math  Camila    22      172\n",
            "\n"
          ],
          "name": "stdout"
        }
      ]
    },
    {
      "cell_type": "markdown",
      "metadata": {
        "id": "ku0VoMJEBK6Y",
        "colab_type": "text"
      },
      "source": [
        "A partir desse objeto, podemos descobrir quaisquer estatísticas dentro de cada grupo:"
      ]
    },
    {
      "cell_type": "code",
      "metadata": {
        "id": "1Maydq5EBRt3",
        "colab_type": "code",
        "outputId": "7c5e7644-fc87-4a13-f7fe-8ecaaeae53bc",
        "colab": {
          "base_uri": "https://localhost:8080/",
          "height": 104
        }
      },
      "source": [
        "print(f\"Soma das idades em cada curso:\")\n",
        "print(students_grouped['ages'].sum())"
      ],
      "execution_count": 0,
      "outputs": [
        {
          "output_type": "stream",
          "text": [
            "Soma das idades em cada curso:\n",
            "course\n",
            "bio     77\n",
            "math    42\n",
            "Name: ages, dtype: int64\n"
          ],
          "name": "stdout"
        }
      ]
    },
    {
      "cell_type": "code",
      "metadata": {
        "id": "uigTPX-4Cmc7",
        "colab_type": "code",
        "outputId": "335f81a3-f708-4ce5-e9f9-a330dc9fbfd9",
        "colab": {
          "base_uri": "https://localhost:8080/",
          "height": 104
        }
      },
      "source": [
        "print(f\"Média das alturas em cada curso:\")\n",
        "print(students_grouped['heights'].mean())"
      ],
      "execution_count": 0,
      "outputs": [
        {
          "output_type": "stream",
          "text": [
            "Média das alturas em cada curso:\n",
            "course\n",
            "bio     166\n",
            "math    171\n",
            "Name: heights, dtype: int64\n"
          ],
          "name": "stdout"
        }
      ]
    },
    {
      "cell_type": "markdown",
      "metadata": {
        "id": "OZ6oOcl5DpHa",
        "colab_type": "text"
      },
      "source": [
        "Existem algumas funções úteis para trabalhar com `groupby()`: `aggregate()`, `transform` e `apply()` são algumas das principais. Aqui focaremos na `apply()`, mas saiba que existem outras.\n",
        "\n",
        "O método `apply()` é bastante flexível e permite que você passe uma função (pode ser um `lambda`) para ser executada nas linhas ou colunas da coleção de  `DataFrame` do agrupamento. Essa função deve receber um `DataFrame` e retornar uma `Series`, `DataFrame` ou escalar.\n",
        "\n",
        "Por exemplo, podemos calcular a média das alturas executando:"
      ]
    },
    {
      "cell_type": "code",
      "metadata": {
        "id": "-klvpGM2EhQg",
        "colab_type": "code",
        "outputId": "6a7d5f5e-1927-48a7-97e9-d387782b7b5f",
        "colab": {
          "base_uri": "https://localhost:8080/",
          "height": 86
        }
      },
      "source": [
        "students_grouped.apply(lambda df: df[\"heights\"].mean())"
      ],
      "execution_count": 0,
      "outputs": [
        {
          "output_type": "execute_result",
          "data": {
            "text/plain": [
              "course\n",
              "bio     166.0\n",
              "math    171.0\n",
              "dtype: float64"
            ]
          },
          "metadata": {
            "tags": []
          },
          "execution_count": 83
        }
      ]
    },
    {
      "cell_type": "markdown",
      "metadata": {
        "id": "mYBNZT3jE44m",
        "colab_type": "text"
      },
      "source": [
        "E a soma das idades em cada curso com:"
      ]
    },
    {
      "cell_type": "code",
      "metadata": {
        "id": "c6JsqFllE64y",
        "colab_type": "code",
        "outputId": "1a0886fd-7861-4b08-8011-d8bb7c0d71df",
        "colab": {
          "base_uri": "https://localhost:8080/",
          "height": 86
        }
      },
      "source": [
        "students_grouped.apply(lambda df: df[\"ages\"].sum())"
      ],
      "execution_count": 0,
      "outputs": [
        {
          "output_type": "execute_result",
          "data": {
            "text/plain": [
              "course\n",
              "bio     77\n",
              "math    42\n",
              "dtype: int64"
            ]
          },
          "metadata": {
            "tags": []
          },
          "execution_count": 84
        }
      ]
    },
    {
      "cell_type": "markdown",
      "metadata": {
        "id": "eC0hMpsC7z4G",
        "colab_type": "text"
      },
      "source": [
        "## Utilizando `value_counts()` e `crosstab()`\n",
        "\n",
        "Duas funções muito úteis quando estamos fazendo EDA no nosso _data set_ são a `value_counts()` e a `crosstab()`.\n",
        "\n",
        "A `value_counts()` retorna a contagem de valores únicos em uma `Series` (por exemplo, uma coluna), enquanto a `crosstab()`, no seu caso mais simples, retorna uma matriz de frequência das variáveis envolvidas.\n",
        "\n",
        "Vamos ver na prática com nosso _data set_ de exemplo:"
      ]
    },
    {
      "cell_type": "code",
      "metadata": {
        "id": "hmQ4mjM38mb3",
        "colab_type": "code",
        "outputId": "743a4cc9-42b5-4a47-b38c-1c464634c093",
        "colab": {
          "base_uri": "https://localhost:8080/",
          "height": 175
        }
      },
      "source": [
        "series1 = pd.Series({\"Primeiro\": \"A\", \"Segundo\": \"B\", \"Terceiro\": \"A\", \"Quarto\": \"C\"})\n",
        "series2 = pd.Series({\"Primeiro\": 1001.2, \"Segundo\": 1001.2, \"Terceiro\": 1001.2, \"Quarto\": 1002.3})\n",
        "\n",
        "dataframe = pd.DataFrame({\"Coluna1\": series1, \"Coluna2\": series2}) # Criando o DataFrame a partir das duas Series.\n",
        "\n",
        "dataframe"
      ],
      "execution_count": 0,
      "outputs": [
        {
          "output_type": "execute_result",
          "data": {
            "text/html": [
              "<div>\n",
              "<style scoped>\n",
              "    .dataframe tbody tr th:only-of-type {\n",
              "        vertical-align: middle;\n",
              "    }\n",
              "\n",
              "    .dataframe tbody tr th {\n",
              "        vertical-align: top;\n",
              "    }\n",
              "\n",
              "    .dataframe thead th {\n",
              "        text-align: right;\n",
              "    }\n",
              "</style>\n",
              "<table border=\"1\" class=\"dataframe\">\n",
              "  <thead>\n",
              "    <tr style=\"text-align: right;\">\n",
              "      <th></th>\n",
              "      <th>Coluna1</th>\n",
              "      <th>Coluna2</th>\n",
              "    </tr>\n",
              "  </thead>\n",
              "  <tbody>\n",
              "    <tr>\n",
              "      <th>Primeiro</th>\n",
              "      <td>A</td>\n",
              "      <td>1001.2</td>\n",
              "    </tr>\n",
              "    <tr>\n",
              "      <th>Segundo</th>\n",
              "      <td>B</td>\n",
              "      <td>1001.2</td>\n",
              "    </tr>\n",
              "    <tr>\n",
              "      <th>Terceiro</th>\n",
              "      <td>A</td>\n",
              "      <td>1001.2</td>\n",
              "    </tr>\n",
              "    <tr>\n",
              "      <th>Quarto</th>\n",
              "      <td>C</td>\n",
              "      <td>1002.3</td>\n",
              "    </tr>\n",
              "  </tbody>\n",
              "</table>\n",
              "</div>"
            ],
            "text/plain": [
              "         Coluna1  Coluna2\n",
              "Primeiro       A   1001.2\n",
              "Segundo        B   1001.2\n",
              "Terceiro       A   1001.2\n",
              "Quarto         C   1002.3"
            ]
          },
          "metadata": {
            "tags": []
          },
          "execution_count": 85
        }
      ]
    },
    {
      "cell_type": "code",
      "metadata": {
        "id": "DVvJnfZt8x01",
        "colab_type": "code",
        "outputId": "7c787941-57f3-4ef8-de16-5b8a65e003ab",
        "colab": {
          "base_uri": "https://localhost:8080/",
          "height": 86
        }
      },
      "source": [
        "dataframe[\"Coluna1\"].value_counts()"
      ],
      "execution_count": 0,
      "outputs": [
        {
          "output_type": "execute_result",
          "data": {
            "text/plain": [
              "A    2\n",
              "B    1\n",
              "C    1\n",
              "Name: Coluna1, dtype: int64"
            ]
          },
          "metadata": {
            "tags": []
          },
          "execution_count": 86
        }
      ]
    },
    {
      "cell_type": "code",
      "metadata": {
        "id": "vwTaZ5fD9Krz",
        "colab_type": "code",
        "outputId": "63a3eff3-bdbc-4875-902b-3344a54be5c2",
        "colab": {
          "base_uri": "https://localhost:8080/",
          "height": 69
        }
      },
      "source": [
        "dataframe[\"Coluna2\"].value_counts()"
      ],
      "execution_count": 0,
      "outputs": [
        {
          "output_type": "execute_result",
          "data": {
            "text/plain": [
              "1001.2    3\n",
              "1002.3    1\n",
              "Name: Coluna2, dtype: int64"
            ]
          },
          "metadata": {
            "tags": []
          },
          "execution_count": 87
        }
      ]
    },
    {
      "cell_type": "markdown",
      "metadata": {
        "id": "q7099IDK9-VG",
        "colab_type": "text"
      },
      "source": [
        "A função `crosstab()` recebe duas variáveis (por exemplo, duas `Series`) e retorna a matriz de frequência entre elas:"
      ]
    },
    {
      "cell_type": "code",
      "metadata": {
        "id": "7gBn_Z-J9Sgh",
        "colab_type": "code",
        "outputId": "597eea7c-9d16-4727-eec4-ec6e35ac1142",
        "colab": {
          "base_uri": "https://localhost:8080/",
          "height": 175
        }
      },
      "source": [
        "pd.crosstab(dataframe.Coluna1, dataframe.Coluna2)"
      ],
      "execution_count": 0,
      "outputs": [
        {
          "output_type": "execute_result",
          "data": {
            "text/html": [
              "<div>\n",
              "<style scoped>\n",
              "    .dataframe tbody tr th:only-of-type {\n",
              "        vertical-align: middle;\n",
              "    }\n",
              "\n",
              "    .dataframe tbody tr th {\n",
              "        vertical-align: top;\n",
              "    }\n",
              "\n",
              "    .dataframe thead th {\n",
              "        text-align: right;\n",
              "    }\n",
              "</style>\n",
              "<table border=\"1\" class=\"dataframe\">\n",
              "  <thead>\n",
              "    <tr style=\"text-align: right;\">\n",
              "      <th>Coluna2</th>\n",
              "      <th>1001.2</th>\n",
              "      <th>1002.3</th>\n",
              "    </tr>\n",
              "    <tr>\n",
              "      <th>Coluna1</th>\n",
              "      <th></th>\n",
              "      <th></th>\n",
              "    </tr>\n",
              "  </thead>\n",
              "  <tbody>\n",
              "    <tr>\n",
              "      <th>A</th>\n",
              "      <td>2</td>\n",
              "      <td>0</td>\n",
              "    </tr>\n",
              "    <tr>\n",
              "      <th>B</th>\n",
              "      <td>1</td>\n",
              "      <td>0</td>\n",
              "    </tr>\n",
              "    <tr>\n",
              "      <th>C</th>\n",
              "      <td>0</td>\n",
              "      <td>1</td>\n",
              "    </tr>\n",
              "  </tbody>\n",
              "</table>\n",
              "</div>"
            ],
            "text/plain": [
              "Coluna2  1001.2  1002.3\n",
              "Coluna1                \n",
              "A             2       0\n",
              "B             1       0\n",
              "C             0       1"
            ]
          },
          "metadata": {
            "tags": []
          },
          "execution_count": 88
        }
      ]
    },
    {
      "cell_type": "markdown",
      "metadata": {
        "id": "nvitw8NL_3BH",
        "colab_type": "text"
      },
      "source": [
        "## Manipulando arquivos\n",
        "\n",
        "O pandas também possui funções para leitura e escrita de arquivos de dados como CSV, JSON e até a partir de bancos de dados. A vantagem de usar essas funções e não aquelas disponíveis já no Python é que elas já carregam os dados para `DataFrame` e permitem um maior controle sobre os parâmetros de leitura/escrita.\n",
        "\n",
        "Vamos ver como isso funciona.\n",
        "\n",
        "> __Os exemplos a seguir consideram que existem os arquivos `data.csv` e `data.json` no mesmo diretório deste _notebook___."
      ]
    },
    {
      "cell_type": "markdown",
      "metadata": {
        "id": "DCxCcSrXLC7A",
        "colab_type": "text"
      },
      "source": [
        "**Funções auxiliares para os exemplos**:"
      ]
    },
    {
      "cell_type": "code",
      "metadata": {
        "id": "HTce-YLoK3cO",
        "colab_type": "code",
        "colab": {}
      },
      "source": [
        "def generate_csv():\n",
        "  \"\"\"Gera um arquivo JSON com 10 linhas e 10 colunas de valores randômicos\n",
        "  entre 0 e 1, inclusive.\n",
        "  \"\"\"\n",
        "  np.random.seed(42)\n",
        "  \n",
        "  pd.DataFrame({\"Coluna\"+str(i): np.random.rand(10) for i in np.arange(1, 11)})\n",
        "    .round(3)\n",
        "    .to_csv(\"data.csv\", index=False)\n",
        "\n",
        "\n",
        "generate_csv()"
      ],
      "execution_count": 0,
      "outputs": []
    },
    {
      "cell_type": "code",
      "metadata": {
        "id": "XzVFO25eK8-4",
        "colab_type": "code",
        "colab": {}
      },
      "source": [
        "def generate_json():\n",
        "  \"\"\"Gera um arquivo JSON com 10 linhas e 10 colunas de valores randômicos\n",
        "  entre 0 e 1, inclusive.\n",
        "  \"\"\"\n",
        "  np.random.seed(42)\n",
        "\n",
        "  pd.DataFrame({\"Coluna\"+str(i): np.random.rand(10) for i in np.arange(1, 11)})\n",
        "    .round(3)\n",
        "    .to_json(\"data.json\")\n",
        "\n",
        "\n",
        "generate_json()"
      ],
      "execution_count": 0,
      "outputs": []
    },
    {
      "cell_type": "markdown",
      "metadata": {
        "id": "3B0R7dNUA1bY",
        "colab_type": "text"
      },
      "source": [
        "Para leitura de arquivos CSV, utilizamos a função `read_csv()`:"
      ]
    },
    {
      "cell_type": "code",
      "metadata": {
        "id": "W7eFHZvbA5u7",
        "colab_type": "code",
        "outputId": "1eb281f8-deef-4313-86d4-216dd6a1be13",
        "colab": {
          "base_uri": "https://localhost:8080/",
          "height": 363
        }
      },
      "source": [
        "data_from_csv = pd.read_csv(\"data.csv\")\n",
        "\n",
        "data_from_csv"
      ],
      "execution_count": 0,
      "outputs": [
        {
          "output_type": "execute_result",
          "data": {
            "text/html": [
              "<div>\n",
              "<style scoped>\n",
              "    .dataframe tbody tr th:only-of-type {\n",
              "        vertical-align: middle;\n",
              "    }\n",
              "\n",
              "    .dataframe tbody tr th {\n",
              "        vertical-align: top;\n",
              "    }\n",
              "\n",
              "    .dataframe thead th {\n",
              "        text-align: right;\n",
              "    }\n",
              "</style>\n",
              "<table border=\"1\" class=\"dataframe\">\n",
              "  <thead>\n",
              "    <tr style=\"text-align: right;\">\n",
              "      <th></th>\n",
              "      <th>Coluna1</th>\n",
              "      <th>Coluna2</th>\n",
              "      <th>Coluna3</th>\n",
              "      <th>Coluna4</th>\n",
              "      <th>Coluna5</th>\n",
              "      <th>Coluna6</th>\n",
              "      <th>Coluna7</th>\n",
              "      <th>Coluna8</th>\n",
              "      <th>Coluna9</th>\n",
              "      <th>Coluna10</th>\n",
              "    </tr>\n",
              "  </thead>\n",
              "  <tbody>\n",
              "    <tr>\n",
              "      <th>0</th>\n",
              "      <td>0.375</td>\n",
              "      <td>0.021</td>\n",
              "      <td>0.612</td>\n",
              "      <td>0.608</td>\n",
              "      <td>0.122</td>\n",
              "      <td>0.970</td>\n",
              "      <td>0.389</td>\n",
              "      <td>0.772</td>\n",
              "      <td>0.863</td>\n",
              "      <td>0.120</td>\n",
              "    </tr>\n",
              "    <tr>\n",
              "      <th>1</th>\n",
              "      <td>0.951</td>\n",
              "      <td>0.970</td>\n",
              "      <td>0.139</td>\n",
              "      <td>0.171</td>\n",
              "      <td>0.495</td>\n",
              "      <td>0.775</td>\n",
              "      <td>0.271</td>\n",
              "      <td>0.199</td>\n",
              "      <td>0.623</td>\n",
              "      <td>0.713</td>\n",
              "    </tr>\n",
              "    <tr>\n",
              "      <th>2</th>\n",
              "      <td>0.732</td>\n",
              "      <td>0.832</td>\n",
              "      <td>0.292</td>\n",
              "      <td>0.065</td>\n",
              "      <td>0.034</td>\n",
              "      <td>0.939</td>\n",
              "      <td>0.829</td>\n",
              "      <td>0.006</td>\n",
              "      <td>0.331</td>\n",
              "      <td>0.761</td>\n",
              "    </tr>\n",
              "    <tr>\n",
              "      <th>3</th>\n",
              "      <td>0.599</td>\n",
              "      <td>0.212</td>\n",
              "      <td>0.366</td>\n",
              "      <td>0.949</td>\n",
              "      <td>0.909</td>\n",
              "      <td>0.895</td>\n",
              "      <td>0.357</td>\n",
              "      <td>0.815</td>\n",
              "      <td>0.064</td>\n",
              "      <td>0.561</td>\n",
              "    </tr>\n",
              "    <tr>\n",
              "      <th>4</th>\n",
              "      <td>0.156</td>\n",
              "      <td>0.182</td>\n",
              "      <td>0.456</td>\n",
              "      <td>0.966</td>\n",
              "      <td>0.259</td>\n",
              "      <td>0.598</td>\n",
              "      <td>0.281</td>\n",
              "      <td>0.707</td>\n",
              "      <td>0.311</td>\n",
              "      <td>0.771</td>\n",
              "    </tr>\n",
              "    <tr>\n",
              "      <th>5</th>\n",
              "      <td>0.156</td>\n",
              "      <td>0.183</td>\n",
              "      <td>0.785</td>\n",
              "      <td>0.808</td>\n",
              "      <td>0.663</td>\n",
              "      <td>0.922</td>\n",
              "      <td>0.543</td>\n",
              "      <td>0.729</td>\n",
              "      <td>0.325</td>\n",
              "      <td>0.494</td>\n",
              "    </tr>\n",
              "    <tr>\n",
              "      <th>6</th>\n",
              "      <td>0.058</td>\n",
              "      <td>0.304</td>\n",
              "      <td>0.200</td>\n",
              "      <td>0.305</td>\n",
              "      <td>0.312</td>\n",
              "      <td>0.088</td>\n",
              "      <td>0.141</td>\n",
              "      <td>0.771</td>\n",
              "      <td>0.730</td>\n",
              "      <td>0.523</td>\n",
              "    </tr>\n",
              "    <tr>\n",
              "      <th>7</th>\n",
              "      <td>0.866</td>\n",
              "      <td>0.525</td>\n",
              "      <td>0.514</td>\n",
              "      <td>0.098</td>\n",
              "      <td>0.520</td>\n",
              "      <td>0.196</td>\n",
              "      <td>0.802</td>\n",
              "      <td>0.074</td>\n",
              "      <td>0.638</td>\n",
              "      <td>0.428</td>\n",
              "    </tr>\n",
              "    <tr>\n",
              "      <th>8</th>\n",
              "      <td>0.601</td>\n",
              "      <td>0.432</td>\n",
              "      <td>0.592</td>\n",
              "      <td>0.684</td>\n",
              "      <td>0.547</td>\n",
              "      <td>0.045</td>\n",
              "      <td>0.075</td>\n",
              "      <td>0.358</td>\n",
              "      <td>0.887</td>\n",
              "      <td>0.025</td>\n",
              "    </tr>\n",
              "    <tr>\n",
              "      <th>9</th>\n",
              "      <td>0.708</td>\n",
              "      <td>0.291</td>\n",
              "      <td>0.046</td>\n",
              "      <td>0.440</td>\n",
              "      <td>0.185</td>\n",
              "      <td>0.325</td>\n",
              "      <td>0.987</td>\n",
              "      <td>0.116</td>\n",
              "      <td>0.472</td>\n",
              "      <td>0.108</td>\n",
              "    </tr>\n",
              "  </tbody>\n",
              "</table>\n",
              "</div>"
            ],
            "text/plain": [
              "   Coluna1  Coluna2  Coluna3  Coluna4  ...  Coluna7  Coluna8  Coluna9  Coluna10\n",
              "0    0.375    0.021    0.612    0.608  ...    0.389    0.772    0.863     0.120\n",
              "1    0.951    0.970    0.139    0.171  ...    0.271    0.199    0.623     0.713\n",
              "2    0.732    0.832    0.292    0.065  ...    0.829    0.006    0.331     0.761\n",
              "3    0.599    0.212    0.366    0.949  ...    0.357    0.815    0.064     0.561\n",
              "4    0.156    0.182    0.456    0.966  ...    0.281    0.707    0.311     0.771\n",
              "5    0.156    0.183    0.785    0.808  ...    0.543    0.729    0.325     0.494\n",
              "6    0.058    0.304    0.200    0.305  ...    0.141    0.771    0.730     0.523\n",
              "7    0.866    0.525    0.514    0.098  ...    0.802    0.074    0.638     0.428\n",
              "8    0.601    0.432    0.592    0.684  ...    0.075    0.358    0.887     0.025\n",
              "9    0.708    0.291    0.046    0.440  ...    0.987    0.116    0.472     0.108\n",
              "\n",
              "[10 rows x 10 columns]"
            ]
          },
          "metadata": {
            "tags": []
          },
          "execution_count": 91
        }
      ]
    },
    {
      "cell_type": "markdown",
      "metadata": {
        "id": "lK6Dnt1jG1jh",
        "colab_type": "text"
      },
      "source": [
        "A função `read_csv()` contém uma gama de parâmetros que configuram como pandas deve ler o arquivo CSV. Por exemplo, podemos definir novos nomes de colunas ao ler o arquivo:"
      ]
    },
    {
      "cell_type": "code",
      "metadata": {
        "id": "I2p0-gEZG8dO",
        "colab_type": "code",
        "outputId": "5f0cf919-e7b0-4db2-99be-29fee334b05b",
        "colab": {
          "base_uri": "https://localhost:8080/",
          "height": 363
        }
      },
      "source": [
        "# skiprows=1 para pular os nomes originais das colunas.\n",
        "data_from_csv = pd.read_csv(\"data.csv\", names=list(\"ABCDEFGHIJ\"), skiprows=1)\n",
        "\n",
        "data_from_csv"
      ],
      "execution_count": 0,
      "outputs": [
        {
          "output_type": "execute_result",
          "data": {
            "text/html": [
              "<div>\n",
              "<style scoped>\n",
              "    .dataframe tbody tr th:only-of-type {\n",
              "        vertical-align: middle;\n",
              "    }\n",
              "\n",
              "    .dataframe tbody tr th {\n",
              "        vertical-align: top;\n",
              "    }\n",
              "\n",
              "    .dataframe thead th {\n",
              "        text-align: right;\n",
              "    }\n",
              "</style>\n",
              "<table border=\"1\" class=\"dataframe\">\n",
              "  <thead>\n",
              "    <tr style=\"text-align: right;\">\n",
              "      <th></th>\n",
              "      <th>A</th>\n",
              "      <th>B</th>\n",
              "      <th>C</th>\n",
              "      <th>D</th>\n",
              "      <th>E</th>\n",
              "      <th>F</th>\n",
              "      <th>G</th>\n",
              "      <th>H</th>\n",
              "      <th>I</th>\n",
              "      <th>J</th>\n",
              "    </tr>\n",
              "  </thead>\n",
              "  <tbody>\n",
              "    <tr>\n",
              "      <th>0</th>\n",
              "      <td>0.375</td>\n",
              "      <td>0.021</td>\n",
              "      <td>0.612</td>\n",
              "      <td>0.608</td>\n",
              "      <td>0.122</td>\n",
              "      <td>0.970</td>\n",
              "      <td>0.389</td>\n",
              "      <td>0.772</td>\n",
              "      <td>0.863</td>\n",
              "      <td>0.120</td>\n",
              "    </tr>\n",
              "    <tr>\n",
              "      <th>1</th>\n",
              "      <td>0.951</td>\n",
              "      <td>0.970</td>\n",
              "      <td>0.139</td>\n",
              "      <td>0.171</td>\n",
              "      <td>0.495</td>\n",
              "      <td>0.775</td>\n",
              "      <td>0.271</td>\n",
              "      <td>0.199</td>\n",
              "      <td>0.623</td>\n",
              "      <td>0.713</td>\n",
              "    </tr>\n",
              "    <tr>\n",
              "      <th>2</th>\n",
              "      <td>0.732</td>\n",
              "      <td>0.832</td>\n",
              "      <td>0.292</td>\n",
              "      <td>0.065</td>\n",
              "      <td>0.034</td>\n",
              "      <td>0.939</td>\n",
              "      <td>0.829</td>\n",
              "      <td>0.006</td>\n",
              "      <td>0.331</td>\n",
              "      <td>0.761</td>\n",
              "    </tr>\n",
              "    <tr>\n",
              "      <th>3</th>\n",
              "      <td>0.599</td>\n",
              "      <td>0.212</td>\n",
              "      <td>0.366</td>\n",
              "      <td>0.949</td>\n",
              "      <td>0.909</td>\n",
              "      <td>0.895</td>\n",
              "      <td>0.357</td>\n",
              "      <td>0.815</td>\n",
              "      <td>0.064</td>\n",
              "      <td>0.561</td>\n",
              "    </tr>\n",
              "    <tr>\n",
              "      <th>4</th>\n",
              "      <td>0.156</td>\n",
              "      <td>0.182</td>\n",
              "      <td>0.456</td>\n",
              "      <td>0.966</td>\n",
              "      <td>0.259</td>\n",
              "      <td>0.598</td>\n",
              "      <td>0.281</td>\n",
              "      <td>0.707</td>\n",
              "      <td>0.311</td>\n",
              "      <td>0.771</td>\n",
              "    </tr>\n",
              "    <tr>\n",
              "      <th>5</th>\n",
              "      <td>0.156</td>\n",
              "      <td>0.183</td>\n",
              "      <td>0.785</td>\n",
              "      <td>0.808</td>\n",
              "      <td>0.663</td>\n",
              "      <td>0.922</td>\n",
              "      <td>0.543</td>\n",
              "      <td>0.729</td>\n",
              "      <td>0.325</td>\n",
              "      <td>0.494</td>\n",
              "    </tr>\n",
              "    <tr>\n",
              "      <th>6</th>\n",
              "      <td>0.058</td>\n",
              "      <td>0.304</td>\n",
              "      <td>0.200</td>\n",
              "      <td>0.305</td>\n",
              "      <td>0.312</td>\n",
              "      <td>0.088</td>\n",
              "      <td>0.141</td>\n",
              "      <td>0.771</td>\n",
              "      <td>0.730</td>\n",
              "      <td>0.523</td>\n",
              "    </tr>\n",
              "    <tr>\n",
              "      <th>7</th>\n",
              "      <td>0.866</td>\n",
              "      <td>0.525</td>\n",
              "      <td>0.514</td>\n",
              "      <td>0.098</td>\n",
              "      <td>0.520</td>\n",
              "      <td>0.196</td>\n",
              "      <td>0.802</td>\n",
              "      <td>0.074</td>\n",
              "      <td>0.638</td>\n",
              "      <td>0.428</td>\n",
              "    </tr>\n",
              "    <tr>\n",
              "      <th>8</th>\n",
              "      <td>0.601</td>\n",
              "      <td>0.432</td>\n",
              "      <td>0.592</td>\n",
              "      <td>0.684</td>\n",
              "      <td>0.547</td>\n",
              "      <td>0.045</td>\n",
              "      <td>0.075</td>\n",
              "      <td>0.358</td>\n",
              "      <td>0.887</td>\n",
              "      <td>0.025</td>\n",
              "    </tr>\n",
              "    <tr>\n",
              "      <th>9</th>\n",
              "      <td>0.708</td>\n",
              "      <td>0.291</td>\n",
              "      <td>0.046</td>\n",
              "      <td>0.440</td>\n",
              "      <td>0.185</td>\n",
              "      <td>0.325</td>\n",
              "      <td>0.987</td>\n",
              "      <td>0.116</td>\n",
              "      <td>0.472</td>\n",
              "      <td>0.108</td>\n",
              "    </tr>\n",
              "  </tbody>\n",
              "</table>\n",
              "</div>"
            ],
            "text/plain": [
              "       A      B      C      D      E      F      G      H      I      J\n",
              "0  0.375  0.021  0.612  0.608  0.122  0.970  0.389  0.772  0.863  0.120\n",
              "1  0.951  0.970  0.139  0.171  0.495  0.775  0.271  0.199  0.623  0.713\n",
              "2  0.732  0.832  0.292  0.065  0.034  0.939  0.829  0.006  0.331  0.761\n",
              "3  0.599  0.212  0.366  0.949  0.909  0.895  0.357  0.815  0.064  0.561\n",
              "4  0.156  0.182  0.456  0.966  0.259  0.598  0.281  0.707  0.311  0.771\n",
              "5  0.156  0.183  0.785  0.808  0.663  0.922  0.543  0.729  0.325  0.494\n",
              "6  0.058  0.304  0.200  0.305  0.312  0.088  0.141  0.771  0.730  0.523\n",
              "7  0.866  0.525  0.514  0.098  0.520  0.196  0.802  0.074  0.638  0.428\n",
              "8  0.601  0.432  0.592  0.684  0.547  0.045  0.075  0.358  0.887  0.025\n",
              "9  0.708  0.291  0.046  0.440  0.185  0.325  0.987  0.116  0.472  0.108"
            ]
          },
          "metadata": {
            "tags": []
          },
          "execution_count": 92
        }
      ]
    },
    {
      "cell_type": "markdown",
      "metadata": {
        "id": "h6b178nhHqgn",
        "colab_type": "text"
      },
      "source": [
        "A leitura do JSON é bastante similar com a função `read_json()`:"
      ]
    },
    {
      "cell_type": "code",
      "metadata": {
        "colab_type": "code",
        "outputId": "c440b43c-a517-49fe-d2be-0c261692ca29",
        "id": "WpmFswmuIbDy",
        "colab": {
          "base_uri": "https://localhost:8080/",
          "height": 363
        }
      },
      "source": [
        "data_from_json = pd.read_json(\"data.json\")\n",
        "\n",
        "data_from_json"
      ],
      "execution_count": 0,
      "outputs": [
        {
          "output_type": "execute_result",
          "data": {
            "text/html": [
              "<div>\n",
              "<style scoped>\n",
              "    .dataframe tbody tr th:only-of-type {\n",
              "        vertical-align: middle;\n",
              "    }\n",
              "\n",
              "    .dataframe tbody tr th {\n",
              "        vertical-align: top;\n",
              "    }\n",
              "\n",
              "    .dataframe thead th {\n",
              "        text-align: right;\n",
              "    }\n",
              "</style>\n",
              "<table border=\"1\" class=\"dataframe\">\n",
              "  <thead>\n",
              "    <tr style=\"text-align: right;\">\n",
              "      <th></th>\n",
              "      <th>Coluna1</th>\n",
              "      <th>Coluna2</th>\n",
              "      <th>Coluna3</th>\n",
              "      <th>Coluna4</th>\n",
              "      <th>Coluna5</th>\n",
              "      <th>Coluna6</th>\n",
              "      <th>Coluna7</th>\n",
              "      <th>Coluna8</th>\n",
              "      <th>Coluna9</th>\n",
              "      <th>Coluna10</th>\n",
              "    </tr>\n",
              "  </thead>\n",
              "  <tbody>\n",
              "    <tr>\n",
              "      <th>0</th>\n",
              "      <td>0.375</td>\n",
              "      <td>0.021</td>\n",
              "      <td>0.612</td>\n",
              "      <td>0.608</td>\n",
              "      <td>0.122</td>\n",
              "      <td>0.970</td>\n",
              "      <td>0.389</td>\n",
              "      <td>0.772</td>\n",
              "      <td>0.863</td>\n",
              "      <td>0.120</td>\n",
              "    </tr>\n",
              "    <tr>\n",
              "      <th>1</th>\n",
              "      <td>0.951</td>\n",
              "      <td>0.970</td>\n",
              "      <td>0.139</td>\n",
              "      <td>0.171</td>\n",
              "      <td>0.495</td>\n",
              "      <td>0.775</td>\n",
              "      <td>0.271</td>\n",
              "      <td>0.199</td>\n",
              "      <td>0.623</td>\n",
              "      <td>0.713</td>\n",
              "    </tr>\n",
              "    <tr>\n",
              "      <th>2</th>\n",
              "      <td>0.732</td>\n",
              "      <td>0.832</td>\n",
              "      <td>0.292</td>\n",
              "      <td>0.065</td>\n",
              "      <td>0.034</td>\n",
              "      <td>0.939</td>\n",
              "      <td>0.829</td>\n",
              "      <td>0.006</td>\n",
              "      <td>0.331</td>\n",
              "      <td>0.761</td>\n",
              "    </tr>\n",
              "    <tr>\n",
              "      <th>3</th>\n",
              "      <td>0.599</td>\n",
              "      <td>0.212</td>\n",
              "      <td>0.366</td>\n",
              "      <td>0.949</td>\n",
              "      <td>0.909</td>\n",
              "      <td>0.895</td>\n",
              "      <td>0.357</td>\n",
              "      <td>0.815</td>\n",
              "      <td>0.064</td>\n",
              "      <td>0.561</td>\n",
              "    </tr>\n",
              "    <tr>\n",
              "      <th>4</th>\n",
              "      <td>0.156</td>\n",
              "      <td>0.182</td>\n",
              "      <td>0.456</td>\n",
              "      <td>0.966</td>\n",
              "      <td>0.259</td>\n",
              "      <td>0.598</td>\n",
              "      <td>0.281</td>\n",
              "      <td>0.707</td>\n",
              "      <td>0.311</td>\n",
              "      <td>0.771</td>\n",
              "    </tr>\n",
              "    <tr>\n",
              "      <th>5</th>\n",
              "      <td>0.156</td>\n",
              "      <td>0.183</td>\n",
              "      <td>0.785</td>\n",
              "      <td>0.808</td>\n",
              "      <td>0.663</td>\n",
              "      <td>0.922</td>\n",
              "      <td>0.543</td>\n",
              "      <td>0.729</td>\n",
              "      <td>0.325</td>\n",
              "      <td>0.494</td>\n",
              "    </tr>\n",
              "    <tr>\n",
              "      <th>6</th>\n",
              "      <td>0.058</td>\n",
              "      <td>0.304</td>\n",
              "      <td>0.200</td>\n",
              "      <td>0.305</td>\n",
              "      <td>0.312</td>\n",
              "      <td>0.088</td>\n",
              "      <td>0.141</td>\n",
              "      <td>0.771</td>\n",
              "      <td>0.730</td>\n",
              "      <td>0.523</td>\n",
              "    </tr>\n",
              "    <tr>\n",
              "      <th>7</th>\n",
              "      <td>0.866</td>\n",
              "      <td>0.525</td>\n",
              "      <td>0.514</td>\n",
              "      <td>0.098</td>\n",
              "      <td>0.520</td>\n",
              "      <td>0.196</td>\n",
              "      <td>0.802</td>\n",
              "      <td>0.074</td>\n",
              "      <td>0.638</td>\n",
              "      <td>0.428</td>\n",
              "    </tr>\n",
              "    <tr>\n",
              "      <th>8</th>\n",
              "      <td>0.601</td>\n",
              "      <td>0.432</td>\n",
              "      <td>0.592</td>\n",
              "      <td>0.684</td>\n",
              "      <td>0.547</td>\n",
              "      <td>0.045</td>\n",
              "      <td>0.075</td>\n",
              "      <td>0.358</td>\n",
              "      <td>0.887</td>\n",
              "      <td>0.025</td>\n",
              "    </tr>\n",
              "    <tr>\n",
              "      <th>9</th>\n",
              "      <td>0.708</td>\n",
              "      <td>0.291</td>\n",
              "      <td>0.046</td>\n",
              "      <td>0.440</td>\n",
              "      <td>0.185</td>\n",
              "      <td>0.325</td>\n",
              "      <td>0.987</td>\n",
              "      <td>0.116</td>\n",
              "      <td>0.472</td>\n",
              "      <td>0.108</td>\n",
              "    </tr>\n",
              "  </tbody>\n",
              "</table>\n",
              "</div>"
            ],
            "text/plain": [
              "   Coluna1  Coluna2  Coluna3  Coluna4  ...  Coluna7  Coluna8  Coluna9  Coluna10\n",
              "0    0.375    0.021    0.612    0.608  ...    0.389    0.772    0.863     0.120\n",
              "1    0.951    0.970    0.139    0.171  ...    0.271    0.199    0.623     0.713\n",
              "2    0.732    0.832    0.292    0.065  ...    0.829    0.006    0.331     0.761\n",
              "3    0.599    0.212    0.366    0.949  ...    0.357    0.815    0.064     0.561\n",
              "4    0.156    0.182    0.456    0.966  ...    0.281    0.707    0.311     0.771\n",
              "5    0.156    0.183    0.785    0.808  ...    0.543    0.729    0.325     0.494\n",
              "6    0.058    0.304    0.200    0.305  ...    0.141    0.771    0.730     0.523\n",
              "7    0.866    0.525    0.514    0.098  ...    0.802    0.074    0.638     0.428\n",
              "8    0.601    0.432    0.592    0.684  ...    0.075    0.358    0.887     0.025\n",
              "9    0.708    0.291    0.046    0.440  ...    0.987    0.116    0.472     0.108\n",
              "\n",
              "[10 rows x 10 columns]"
            ]
          },
          "metadata": {
            "tags": []
          },
          "execution_count": 93
        }
      ]
    },
    {
      "cell_type": "markdown",
      "metadata": {
        "id": "GNXnXBIcMbpB",
        "colab_type": "text"
      },
      "source": [
        "## Conclusões\n",
        "\n",
        "Isso foi apenas uma pincelada sobre o que o pandas pode oferecer. Existem muitas e muitas outras funcionalidades que não chegamos nem perto de cobrir nesse módulo como, por exemplo, visualização de dados no pandas.\n",
        "\n",
        "É altamente recomendável que vocês continuem explorando essa ferramenta incrível e consultando sua documentação para conhecer mais a fundo sua vasta API e os diversos parâmetros de funções que não chegamos a cobrir aqui."
      ]
    },
    {
      "cell_type": "markdown",
      "metadata": {
        "id": "Zc5YoW5XLR-Q",
        "colab_type": "text"
      },
      "source": [
        "## Referências\n",
        "\n",
        "* [Documentação oficial do pandas](https://pandas.pydata.org/pandas-docs/stable/)\n",
        "\n",
        "* [Minimally Sufficient Pandas](https://medium.com/dunder-data/minimally-sufficient-pandas-a8e67f2a2428)\n",
        "\n",
        "* [Why and How to Use Pandas with Large Data](https://towardsdatascience.com/why-and-how-to-use-pandas-with-large-data-9594dda2ea4c)\n",
        "\n",
        "* [Getting started with Data Analysis with Python Pandas](https://towardsdatascience.com/getting-started-to-data-analysis-with-python-pandas-with-titanic-dataset-a195ab043c77)\n",
        "\n",
        "* [Python Pandas: Tricks & Features You May Not Know](https://realpython.com/python-pandas-tricks/)\n",
        "\n",
        "* [Essential Basic Functionality](https://pandas.pydata.org/pandas-docs/stable/getting_started/basics.html)\n",
        "\n",
        "* [Pandas Tutorial: Essentials of Data Science in Pandas Library](https://medium.com/@shakasom/pandas-tutorial-essentials-of-data-science-in-pandas-library-9b0c81dbfcb1)\n",
        "\n",
        "* [Python Pandas Tutorial: A Complete Introduction for Beginners](https://www.learndatasci.com/tutorials/python-pandas-tutorial-complete-introduction-for-beginners/)\n",
        "\n",
        "* [Basic Time Series Manipulation with Pandas](https://towardsdatascience.com/basic-time-series-manipulation-with-pandas-4432afee64ea)\n",
        "\n",
        "* [Tidy Data (é também uma das melhores referências para R)](https://r4ds.had.co.nz/tidy-data.html)\n",
        "\n",
        "* [Python For Data Science - Cheat Sheet Pandas Basics](https://assets.datacamp.com/blog_assets/PandasPythonForDataScience.pdf)"
      ]
    }
  ]
}